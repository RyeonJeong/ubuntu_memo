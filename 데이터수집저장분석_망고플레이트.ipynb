{
 "cells": [
  {
   "cell_type": "code",
   "execution_count": 1,
   "id": "e75919d5",
   "metadata": {},
   "outputs": [],
   "source": [
    "import pandas as pd\n",
    "import matplotlib.pyplot as plt\n",
    "import koreanize_matplotlib\n",
    "import numpy as np"
   ]
  },
  {
   "cell_type": "code",
   "execution_count": 2,
   "id": "60cef805",
   "metadata": {},
   "outputs": [],
   "source": [
    "data = pd.read_csv(\"./data/망고플레이트전국댓글.csv\")"
   ]
  },
  {
   "cell_type": "code",
   "execution_count": 3,
   "id": "afeff176",
   "metadata": {},
   "outputs": [
    {
     "name": "stdout",
     "output_type": "stream",
     "text": [
      "<class 'pandas.core.frame.DataFrame'>\n",
      "RangeIndex: 658251 entries, 0 to 658250\n",
      "Data columns (total 5 columns):\n",
      " #   Column  Non-Null Count   Dtype \n",
      "---  ------  --------------   ----- \n",
      " 0   리뷰내용    657292 non-null  object\n",
      " 1   작성자명    657680 non-null  object\n",
      " 2   후기점수    658251 non-null  object\n",
      " 3   url     658251 non-null  object\n",
      " 4   ID      658251 non-null  object\n",
      "dtypes: object(5)\n",
      "memory usage: 25.1+ MB\n"
     ]
    }
   ],
   "source": [
    "data.info()"
   ]
  },
  {
   "cell_type": "code",
   "execution_count": 4,
   "id": "bd16b2c8",
   "metadata": {},
   "outputs": [
    {
     "data": {
      "text/html": [
       "<div>\n",
       "<style scoped>\n",
       "    .dataframe tbody tr th:only-of-type {\n",
       "        vertical-align: middle;\n",
       "    }\n",
       "\n",
       "    .dataframe tbody tr th {\n",
       "        vertical-align: top;\n",
       "    }\n",
       "\n",
       "    .dataframe thead th {\n",
       "        text-align: right;\n",
       "    }\n",
       "</style>\n",
       "<table border=\"1\" class=\"dataframe\">\n",
       "  <thead>\n",
       "    <tr style=\"text-align: right;\">\n",
       "      <th></th>\n",
       "      <th>리뷰내용</th>\n",
       "      <th>작성자명</th>\n",
       "      <th>후기점수</th>\n",
       "      <th>url</th>\n",
       "      <th>ID</th>\n",
       "    </tr>\n",
       "  </thead>\n",
       "  <tbody>\n",
       "    <tr>\n",
       "      <th>0</th>\n",
       "      <td>맛있네요</td>\n",
       "      <td>-</td>\n",
       "      <td>맛있다</td>\n",
       "      <td>https://www.mangoplate.com/restaurants/iMRRP69...</td>\n",
       "      <td>iMRRP69qtkeO</td>\n",
       "    </tr>\n",
       "    <tr>\n",
       "      <th>1</th>\n",
       "      <td>가로수길</td>\n",
       "      <td>전예원</td>\n",
       "      <td>맛있다</td>\n",
       "      <td>https://www.mangoplate.com/restaurants/iMRRP69...</td>\n",
       "      <td>iMRRP69qtkeO</td>\n",
       "    </tr>\n",
       "    <tr>\n",
       "      <th>2</th>\n",
       "      <td>맛있어요</td>\n",
       "      <td>전예원</td>\n",
       "      <td>맛있다</td>\n",
       "      <td>https://www.mangoplate.com/restaurants/iMRRP69...</td>\n",
       "      <td>iMRRP69qtkeO</td>\n",
       "    </tr>\n",
       "    <tr>\n",
       "      <th>3</th>\n",
       "      <td>언제와도 맛있는 미라이!!!고등어산도는 무조건 시켜야하구요.. (식빵 뭔지 궁금) ...</td>\n",
       "      <td>스틱스강에맹세하는맛집</td>\n",
       "      <td>맛있다</td>\n",
       "      <td>https://www.mangoplate.com/restaurants/iMRRP69...</td>\n",
       "      <td>iMRRP69qtkeO</td>\n",
       "    </tr>\n",
       "    <tr>\n",
       "      <th>4</th>\n",
       "      <td>아와이 야끼소바,사바산도,우니 아마에비 호다테먹었어요.나마비루도 함께^^나마비루 부...</td>\n",
       "      <td>ㅇㅇ</td>\n",
       "      <td>맛있다</td>\n",
       "      <td>https://www.mangoplate.com/restaurants/iMRRP69...</td>\n",
       "      <td>iMRRP69qtkeO</td>\n",
       "    </tr>\n",
       "  </tbody>\n",
       "</table>\n",
       "</div>"
      ],
      "text/plain": [
       "                                                리뷰내용         작성자명 후기점수  \\\n",
       "0                                               맛있네요            -  맛있다   \n",
       "1                                               가로수길          전예원  맛있다   \n",
       "2                                               맛있어요          전예원  맛있다   \n",
       "3  언제와도 맛있는 미라이!!!고등어산도는 무조건 시켜야하구요.. (식빵 뭔지 궁금) ...  스틱스강에맹세하는맛집  맛있다   \n",
       "4  아와이 야끼소바,사바산도,우니 아마에비 호다테먹었어요.나마비루도 함께^^나마비루 부...           ㅇㅇ  맛있다   \n",
       "\n",
       "                                                 url            ID  \n",
       "0  https://www.mangoplate.com/restaurants/iMRRP69...  iMRRP69qtkeO  \n",
       "1  https://www.mangoplate.com/restaurants/iMRRP69...  iMRRP69qtkeO  \n",
       "2  https://www.mangoplate.com/restaurants/iMRRP69...  iMRRP69qtkeO  \n",
       "3  https://www.mangoplate.com/restaurants/iMRRP69...  iMRRP69qtkeO  \n",
       "4  https://www.mangoplate.com/restaurants/iMRRP69...  iMRRP69qtkeO  "
      ]
     },
     "execution_count": 4,
     "metadata": {},
     "output_type": "execute_result"
    }
   ],
   "source": [
    "data.head()"
   ]
  },
  {
   "cell_type": "code",
   "execution_count": 5,
   "id": "30649173",
   "metadata": {},
   "outputs": [
    {
     "data": {
      "text/plain": [
       "5744"
      ]
     },
     "execution_count": 5,
     "metadata": {},
     "output_type": "execute_result"
    }
   ],
   "source": [
    "data['ID'].nunique()"
   ]
  },
  {
   "cell_type": "code",
   "execution_count": 6,
   "id": "837a0df6",
   "metadata": {},
   "outputs": [],
   "source": [
    "data = data.drop_duplicates(['리뷰내용','작성자명'])"
   ]
  },
  {
   "cell_type": "code",
   "execution_count": 7,
   "id": "a2e4580b",
   "metadata": {},
   "outputs": [],
   "source": [
    "review_counts = data.groupby('ID')[['리뷰내용']].count()"
   ]
  },
  {
   "cell_type": "code",
   "execution_count": 8,
   "id": "ee0c5a77",
   "metadata": {},
   "outputs": [
    {
     "data": {
      "text/html": [
       "<div>\n",
       "<style scoped>\n",
       "    .dataframe tbody tr th:only-of-type {\n",
       "        vertical-align: middle;\n",
       "    }\n",
       "\n",
       "    .dataframe tbody tr th {\n",
       "        vertical-align: top;\n",
       "    }\n",
       "\n",
       "    .dataframe thead th {\n",
       "        text-align: right;\n",
       "    }\n",
       "</style>\n",
       "<table border=\"1\" class=\"dataframe\">\n",
       "  <thead>\n",
       "    <tr style=\"text-align: right;\">\n",
       "      <th></th>\n",
       "      <th>리뷰내용</th>\n",
       "    </tr>\n",
       "    <tr>\n",
       "      <th>ID</th>\n",
       "      <th></th>\n",
       "    </tr>\n",
       "  </thead>\n",
       "  <tbody>\n",
       "    <tr>\n",
       "      <th>s6C_cdBQX0rj</th>\n",
       "      <td>372</td>\n",
       "    </tr>\n",
       "    <tr>\n",
       "      <th>1pmv75vVQx</th>\n",
       "      <td>287</td>\n",
       "    </tr>\n",
       "    <tr>\n",
       "      <th>fPi6OZ3r-u</th>\n",
       "      <td>246</td>\n",
       "    </tr>\n",
       "    <tr>\n",
       "      <th>y-_XMRSTNrAi</th>\n",
       "      <td>241</td>\n",
       "    </tr>\n",
       "    <tr>\n",
       "      <th>gL8RksQTNk</th>\n",
       "      <td>239</td>\n",
       "    </tr>\n",
       "    <tr>\n",
       "      <th>...</th>\n",
       "      <td>...</td>\n",
       "    </tr>\n",
       "    <tr>\n",
       "      <th>nwykgqfbYx</th>\n",
       "      <td>1</td>\n",
       "    </tr>\n",
       "    <tr>\n",
       "      <th>AzIdNOqU_tl3</th>\n",
       "      <td>1</td>\n",
       "    </tr>\n",
       "    <tr>\n",
       "      <th>noi8A_NGrRBL</th>\n",
       "      <td>1</td>\n",
       "    </tr>\n",
       "    <tr>\n",
       "      <th>B8sD6M3ts3Aa</th>\n",
       "      <td>1</td>\n",
       "    </tr>\n",
       "    <tr>\n",
       "      <th>VeXkWWPE1HIJ</th>\n",
       "      <td>1</td>\n",
       "    </tr>\n",
       "  </tbody>\n",
       "</table>\n",
       "<p>5742 rows × 1 columns</p>\n",
       "</div>"
      ],
      "text/plain": [
       "              리뷰내용\n",
       "ID                \n",
       "s6C_cdBQX0rj   372\n",
       "1pmv75vVQx     287\n",
       "fPi6OZ3r-u     246\n",
       "y-_XMRSTNrAi   241\n",
       "gL8RksQTNk     239\n",
       "...            ...\n",
       "nwykgqfbYx       1\n",
       "AzIdNOqU_tl3     1\n",
       "noi8A_NGrRBL     1\n",
       "B8sD6M3ts3Aa     1\n",
       "VeXkWWPE1HIJ     1\n",
       "\n",
       "[5742 rows x 1 columns]"
      ]
     },
     "execution_count": 8,
     "metadata": {},
     "output_type": "execute_result"
    }
   ],
   "source": [
    "review_counts.sort_values(by='리뷰내용', ascending=False)"
   ]
  },
  {
   "cell_type": "code",
   "execution_count": 9,
   "id": "8d496241",
   "metadata": {},
   "outputs": [],
   "source": [
    "over20reviews = review_counts[review_counts['리뷰내용'] > 20]"
   ]
  },
  {
   "cell_type": "code",
   "execution_count": 10,
   "id": "d947f8cd",
   "metadata": {},
   "outputs": [
    {
     "data": {
      "text/html": [
       "<div>\n",
       "<style scoped>\n",
       "    .dataframe tbody tr th:only-of-type {\n",
       "        vertical-align: middle;\n",
       "    }\n",
       "\n",
       "    .dataframe tbody tr th {\n",
       "        vertical-align: top;\n",
       "    }\n",
       "\n",
       "    .dataframe thead th {\n",
       "        text-align: right;\n",
       "    }\n",
       "</style>\n",
       "<table border=\"1\" class=\"dataframe\">\n",
       "  <thead>\n",
       "    <tr style=\"text-align: right;\">\n",
       "      <th></th>\n",
       "      <th>리뷰내용</th>\n",
       "    </tr>\n",
       "    <tr>\n",
       "      <th>ID</th>\n",
       "      <th></th>\n",
       "    </tr>\n",
       "  </thead>\n",
       "  <tbody>\n",
       "    <tr>\n",
       "      <th>-1rMxmPWvg</th>\n",
       "      <td>32</td>\n",
       "    </tr>\n",
       "    <tr>\n",
       "      <th>-1yzcgbtF5</th>\n",
       "      <td>96</td>\n",
       "    </tr>\n",
       "    <tr>\n",
       "      <th>-9jLnAAJZc</th>\n",
       "      <td>25</td>\n",
       "    </tr>\n",
       "    <tr>\n",
       "      <th>-D6qxV9cg9mT</th>\n",
       "      <td>23</td>\n",
       "    </tr>\n",
       "    <tr>\n",
       "      <th>-EDDtVfafvaS</th>\n",
       "      <td>29</td>\n",
       "    </tr>\n",
       "    <tr>\n",
       "      <th>...</th>\n",
       "      <td>...</td>\n",
       "    </tr>\n",
       "    <tr>\n",
       "      <th>zYzhPaX003</th>\n",
       "      <td>69</td>\n",
       "    </tr>\n",
       "    <tr>\n",
       "      <th>z_sD7nAsh7V0</th>\n",
       "      <td>51</td>\n",
       "    </tr>\n",
       "    <tr>\n",
       "      <th>zq9bIKh6PMLV</th>\n",
       "      <td>37</td>\n",
       "    </tr>\n",
       "    <tr>\n",
       "      <th>ztTTr81jaBm7</th>\n",
       "      <td>98</td>\n",
       "    </tr>\n",
       "    <tr>\n",
       "      <th>zv1rcsrmRU4S</th>\n",
       "      <td>35</td>\n",
       "    </tr>\n",
       "  </tbody>\n",
       "</table>\n",
       "<p>1117 rows × 1 columns</p>\n",
       "</div>"
      ],
      "text/plain": [
       "              리뷰내용\n",
       "ID                \n",
       "-1rMxmPWvg      32\n",
       "-1yzcgbtF5      96\n",
       "-9jLnAAJZc      25\n",
       "-D6qxV9cg9mT    23\n",
       "-EDDtVfafvaS    29\n",
       "...            ...\n",
       "zYzhPaX003      69\n",
       "z_sD7nAsh7V0    51\n",
       "zq9bIKh6PMLV    37\n",
       "ztTTr81jaBm7    98\n",
       "zv1rcsrmRU4S    35\n",
       "\n",
       "[1117 rows x 1 columns]"
      ]
     },
     "execution_count": 10,
     "metadata": {},
     "output_type": "execute_result"
    }
   ],
   "source": [
    "over20reviews"
   ]
  },
  {
   "cell_type": "code",
   "execution_count": 11,
   "id": "b81fb7a0",
   "metadata": {},
   "outputs": [],
   "source": [
    "over20reviews_shops = over20reviews.index"
   ]
  },
  {
   "cell_type": "code",
   "execution_count": 12,
   "id": "e4391d9e",
   "metadata": {},
   "outputs": [
    {
     "data": {
      "text/plain": [
       "Index(['-1rMxmPWvg', '-1yzcgbtF5', '-9jLnAAJZc', '-D6qxV9cg9mT',\n",
       "       '-EDDtVfafvaS', '-G-YWwpe9D', '-LWflJV1maU2', '-SMNjUsH3i',\n",
       "       '-SvQDki5HNzQ', '-UUbd93wKH0H',\n",
       "       ...\n",
       "       'zNVXE1__XF', 'zOOlz9vfJfFF', 'zSujg5KWKY1W', 'zSxicuDvNH',\n",
       "       'zWVgSFqWIQrj', 'zYzhPaX003', 'z_sD7nAsh7V0', 'zq9bIKh6PMLV',\n",
       "       'ztTTr81jaBm7', 'zv1rcsrmRU4S'],\n",
       "      dtype='object', name='ID', length=1117)"
      ]
     },
     "execution_count": 12,
     "metadata": {},
     "output_type": "execute_result"
    }
   ],
   "source": [
    "over20reviews_shops"
   ]
  },
  {
   "cell_type": "code",
   "execution_count": 13,
   "id": "6c3f8a9b",
   "metadata": {},
   "outputs": [
    {
     "data": {
      "text/plain": [
       "True"
      ]
     },
     "execution_count": 13,
     "metadata": {},
     "output_type": "execute_result"
    }
   ],
   "source": [
    "\"s6C_cdBQX0rj\" in over20reviews_shops"
   ]
  },
  {
   "cell_type": "code",
   "execution_count": 14,
   "id": "39bddd14",
   "metadata": {},
   "outputs": [],
   "source": [
    "over20df = data[data['ID'].apply(lambda x: x in over20reviews_shops)]"
   ]
  },
  {
   "cell_type": "code",
   "execution_count": 15,
   "id": "8f47b971",
   "metadata": {},
   "outputs": [
    {
     "name": "stderr",
     "output_type": "stream",
     "text": [
      "/tmp/ipykernel_4227/3256979473.py:1: SettingWithCopyWarning: \n",
      "A value is trying to be set on a copy of a slice from a DataFrame.\n",
      "Try using .loc[row_indexer,col_indexer] = value instead\n",
      "\n",
      "See the caveats in the documentation: https://pandas.pydata.org/pandas-docs/stable/user_guide/indexing.html#returning-a-view-versus-a-copy\n",
      "  over20df['리뷰내용'] = over20df['리뷰내용'].astype('str')\n"
     ]
    }
   ],
   "source": [
    "over20df['리뷰내용'] = over20df['리뷰내용'].astype('str')"
   ]
  },
  {
   "cell_type": "code",
   "execution_count": 22,
   "id": "4cb7b22e-b2cc-44a8-8ff2-e4ca68608578",
   "metadata": {},
   "outputs": [
    {
     "name": "stdout",
     "output_type": "stream",
     "text": [
      "<class 'pandas.core.frame.DataFrame'>\n",
      "Index: 60093 entries, 0 to 657696\n",
      "Data columns (total 5 columns):\n",
      " #   Column  Non-Null Count  Dtype \n",
      "---  ------  --------------  ----- \n",
      " 0   리뷰내용    60093 non-null  object\n",
      " 1   작성자명    60064 non-null  object\n",
      " 2   후기점수    60093 non-null  object\n",
      " 3   url     60093 non-null  object\n",
      " 4   ID      60093 non-null  object\n",
      "dtypes: object(5)\n",
      "memory usage: 2.8+ MB\n"
     ]
    }
   ],
   "source": [
    "over20df.info()"
   ]
  },
  {
   "cell_type": "code",
   "execution_count": 23,
   "id": "4ae175d5-b966-45af-94d9-7b5f1d5fd2fe",
   "metadata": {},
   "outputs": [
    {
     "data": {
      "text/plain": [
       "0"
      ]
     },
     "execution_count": 23,
     "metadata": {},
     "output_type": "execute_result"
    }
   ],
   "source": [
    "over20df['리뷰내용'].isna().sum()"
   ]
  },
  {
   "cell_type": "code",
   "execution_count": 20,
   "id": "8da6aefb",
   "metadata": {
    "scrolled": true
   },
   "outputs": [],
   "source": [
    "# 리부 내용 길이가 4 이상인 데이터만 저장\n",
    "over20df = over20df[over20df['리뷰내용'].apply(len) >= 4]"
   ]
  },
  {
   "cell_type": "code",
   "execution_count": 24,
   "id": "35db2ed9",
   "metadata": {
    "scrolled": true
   },
   "outputs": [
    {
     "data": {
      "text/plain": [
       "1117"
      ]
     },
     "execution_count": 24,
     "metadata": {},
     "output_type": "execute_result"
    }
   ],
   "source": [
    "over20df['ID'].nunique()"
   ]
  },
  {
   "cell_type": "code",
   "execution_count": 25,
   "id": "1ca23c25",
   "metadata": {},
   "outputs": [],
   "source": [
    "over20df['ID'] = over20df['ID'].str.replace(\"-\",\"_\")"
   ]
  },
  {
   "cell_type": "markdown",
   "id": "2e1a39e1-535c-4bc6-982b-166228339c34",
   "metadata": {},
   "source": [
    "## ID 별로 변수를 생성하고 ID별 데이터 프레임 생성\n",
    "* globals()를 이용해 자동으로 변수 만들기\n",
    "* globals()['변수명']\n",
    "* 변수를 만들때는 문자열 포멧팅을 만들 수 없음!"
   ]
  },
  {
   "cell_type": "code",
   "execution_count": null,
   "id": "d7b10c97-317b-471a-87bf-38814a9571b0",
   "metadata": {},
   "outputs": [],
   "source": []
  },
  {
   "cell_type": "code",
   "execution_count": 27,
   "id": "8bf4948c",
   "metadata": {},
   "outputs": [],
   "source": [
    "def dfbyid(over20df):\n",
    "    dfs = []\n",
    "    for index, id in enumerate(over20df['ID']):\n",
    "        globals()[f\"d_{id}\"] = over20df[over20df['ID'] == id]   # 변수를 자동으로 생성해서 id별 dataframe만듬\n",
    "        dfs.append(\"d_\"+id) # ID가 숫자로 시작하면 변수 생성이 안되므로 앞에 d_를 붙임\n",
    "    dfs = set(dfs) # ID 중복 제거\n",
    "    print(f\"{index+1}/{len(over20df['ID'])} 처리중\", end=\"\\r\") # 현재 진행사항 표시\n",
    "    return list(dfs)\n",
    "    "
   ]
  },
  {
   "cell_type": "code",
   "execution_count": 28,
   "id": "a226df33",
   "metadata": {},
   "outputs": [
    {
     "ename": "KeyboardInterrupt",
     "evalue": "",
     "output_type": "error",
     "traceback": [
      "\u001b[0;31m---------------------------------------------------------------------------\u001b[0m",
      "\u001b[0;31mKeyboardInterrupt\u001b[0m                         Traceback (most recent call last)",
      "Cell \u001b[0;32mIn[28], line 1\u001b[0m\n\u001b[0;32m----> 1\u001b[0m dfs \u001b[38;5;241m=\u001b[39m dfbyid(over20df)\n",
      "Cell \u001b[0;32mIn[27], line 4\u001b[0m, in \u001b[0;36mdfbyid\u001b[0;34m(over20df)\u001b[0m\n\u001b[1;32m      2\u001b[0m dfs \u001b[38;5;241m=\u001b[39m []\n\u001b[1;32m      3\u001b[0m \u001b[38;5;28;01mfor\u001b[39;00m index, \u001b[38;5;28mid\u001b[39m \u001b[38;5;129;01min\u001b[39;00m \u001b[38;5;28menumerate\u001b[39m(over20df[\u001b[38;5;124m'\u001b[39m\u001b[38;5;124mID\u001b[39m\u001b[38;5;124m'\u001b[39m]):\n\u001b[0;32m----> 4\u001b[0m     \u001b[38;5;28mglobals\u001b[39m()[\u001b[38;5;124mf\u001b[39m\u001b[38;5;124m\"\u001b[39m\u001b[38;5;124md_\u001b[39m\u001b[38;5;132;01m{\u001b[39;00m\u001b[38;5;28mid\u001b[39m\u001b[38;5;132;01m}\u001b[39;00m\u001b[38;5;124m\"\u001b[39m] \u001b[38;5;241m=\u001b[39m over20df[over20df[\u001b[38;5;124m'\u001b[39m\u001b[38;5;124mID\u001b[39m\u001b[38;5;124m'\u001b[39m] \u001b[38;5;241m==\u001b[39m \u001b[38;5;28mid\u001b[39m]   \u001b[38;5;66;03m# 변수를 자동으로 생성해서 id별 dataframe만듬\u001b[39;00m\n\u001b[1;32m      5\u001b[0m     dfs\u001b[38;5;241m.\u001b[39mappend(\u001b[38;5;124m\"\u001b[39m\u001b[38;5;124md_\u001b[39m\u001b[38;5;124m\"\u001b[39m\u001b[38;5;241m+\u001b[39m\u001b[38;5;28mid\u001b[39m) \u001b[38;5;66;03m# ID가 숫자로 시작하면 변수 생성이 안되므로 앞에 d_를 붙임\u001b[39;00m\n\u001b[1;32m      6\u001b[0m dfs \u001b[38;5;241m=\u001b[39m \u001b[38;5;28mset\u001b[39m(dfs) \u001b[38;5;66;03m# ID 중복 제거\u001b[39;00m\n",
      "File \u001b[0;32m~/.conda/envs/spark/lib/python3.11/site-packages/pandas/core/ops/common.py:76\u001b[0m, in \u001b[0;36m_unpack_zerodim_and_defer.<locals>.new_method\u001b[0;34m(self, other)\u001b[0m\n\u001b[1;32m     72\u001b[0m             \u001b[38;5;28;01mreturn\u001b[39;00m \u001b[38;5;28mNotImplemented\u001b[39m\n\u001b[1;32m     74\u001b[0m other \u001b[38;5;241m=\u001b[39m item_from_zerodim(other)\n\u001b[0;32m---> 76\u001b[0m \u001b[38;5;28;01mreturn\u001b[39;00m method(\u001b[38;5;28mself\u001b[39m, other)\n",
      "File \u001b[0;32m~/.conda/envs/spark/lib/python3.11/site-packages/pandas/core/arraylike.py:40\u001b[0m, in \u001b[0;36mOpsMixin.__eq__\u001b[0;34m(self, other)\u001b[0m\n\u001b[1;32m     38\u001b[0m \u001b[38;5;129m@unpack_zerodim_and_defer\u001b[39m(\u001b[38;5;124m\"\u001b[39m\u001b[38;5;124m__eq__\u001b[39m\u001b[38;5;124m\"\u001b[39m)\n\u001b[1;32m     39\u001b[0m \u001b[38;5;28;01mdef\u001b[39;00m \u001b[38;5;21m__eq__\u001b[39m(\u001b[38;5;28mself\u001b[39m, other):\n\u001b[0;32m---> 40\u001b[0m     \u001b[38;5;28;01mreturn\u001b[39;00m \u001b[38;5;28mself\u001b[39m\u001b[38;5;241m.\u001b[39m_cmp_method(other, operator\u001b[38;5;241m.\u001b[39meq)\n",
      "File \u001b[0;32m~/.conda/envs/spark/lib/python3.11/site-packages/pandas/core/series.py:5801\u001b[0m, in \u001b[0;36mSeries._cmp_method\u001b[0;34m(self, other, op)\u001b[0m\n\u001b[1;32m   5797\u001b[0m rvalues \u001b[38;5;241m=\u001b[39m extract_array(other, extract_numpy\u001b[38;5;241m=\u001b[39m\u001b[38;5;28;01mTrue\u001b[39;00m, extract_range\u001b[38;5;241m=\u001b[39m\u001b[38;5;28;01mTrue\u001b[39;00m)\n\u001b[1;32m   5799\u001b[0m res_values \u001b[38;5;241m=\u001b[39m ops\u001b[38;5;241m.\u001b[39mcomparison_op(lvalues, rvalues, op)\n\u001b[0;32m-> 5801\u001b[0m \u001b[38;5;28;01mreturn\u001b[39;00m \u001b[38;5;28mself\u001b[39m\u001b[38;5;241m.\u001b[39m_construct_result(res_values, name\u001b[38;5;241m=\u001b[39mres_name)\n",
      "File \u001b[0;32m~/.conda/envs/spark/lib/python3.11/site-packages/pandas/core/series.py:5911\u001b[0m, in \u001b[0;36mSeries._construct_result\u001b[0;34m(self, result, name)\u001b[0m\n\u001b[1;32m   5908\u001b[0m \u001b[38;5;66;03m# TODO: result should always be ArrayLike, but this fails for some\u001b[39;00m\n\u001b[1;32m   5909\u001b[0m \u001b[38;5;66;03m#  JSONArray tests\u001b[39;00m\n\u001b[1;32m   5910\u001b[0m dtype \u001b[38;5;241m=\u001b[39m \u001b[38;5;28mgetattr\u001b[39m(result, \u001b[38;5;124m\"\u001b[39m\u001b[38;5;124mdtype\u001b[39m\u001b[38;5;124m\"\u001b[39m, \u001b[38;5;28;01mNone\u001b[39;00m)\n\u001b[0;32m-> 5911\u001b[0m out \u001b[38;5;241m=\u001b[39m \u001b[38;5;28mself\u001b[39m\u001b[38;5;241m.\u001b[39m_constructor(result, index\u001b[38;5;241m=\u001b[39m\u001b[38;5;28mself\u001b[39m\u001b[38;5;241m.\u001b[39mindex, dtype\u001b[38;5;241m=\u001b[39mdtype, copy\u001b[38;5;241m=\u001b[39m\u001b[38;5;28;01mFalse\u001b[39;00m)\n\u001b[1;32m   5912\u001b[0m out \u001b[38;5;241m=\u001b[39m out\u001b[38;5;241m.\u001b[39m__finalize__(\u001b[38;5;28mself\u001b[39m)\n\u001b[1;32m   5914\u001b[0m \u001b[38;5;66;03m# Set the result's name after __finalize__ is called because __finalize__\u001b[39;00m\n\u001b[1;32m   5915\u001b[0m \u001b[38;5;66;03m#  would set it back to self.name\u001b[39;00m\n",
      "File \u001b[0;32m~/.conda/envs/spark/lib/python3.11/site-packages/pandas/core/series.py:516\u001b[0m, in \u001b[0;36mSeries.__init__\u001b[0;34m(self, data, index, dtype, name, copy, fastpath)\u001b[0m\n\u001b[1;32m    514\u001b[0m manager \u001b[38;5;241m=\u001b[39m get_option(\u001b[38;5;124m\"\u001b[39m\u001b[38;5;124mmode.data_manager\u001b[39m\u001b[38;5;124m\"\u001b[39m)\n\u001b[1;32m    515\u001b[0m \u001b[38;5;28;01mif\u001b[39;00m manager \u001b[38;5;241m==\u001b[39m \u001b[38;5;124m\"\u001b[39m\u001b[38;5;124mblock\u001b[39m\u001b[38;5;124m\"\u001b[39m:\n\u001b[0;32m--> 516\u001b[0m     data \u001b[38;5;241m=\u001b[39m SingleBlockManager\u001b[38;5;241m.\u001b[39mfrom_array(data, index, refs\u001b[38;5;241m=\u001b[39mrefs)\n\u001b[1;32m    517\u001b[0m \u001b[38;5;28;01melif\u001b[39;00m manager \u001b[38;5;241m==\u001b[39m \u001b[38;5;124m\"\u001b[39m\u001b[38;5;124marray\u001b[39m\u001b[38;5;124m\"\u001b[39m:\n\u001b[1;32m    518\u001b[0m     data \u001b[38;5;241m=\u001b[39m SingleArrayManager\u001b[38;5;241m.\u001b[39mfrom_array(data, index)\n",
      "File \u001b[0;32m~/.conda/envs/spark/lib/python3.11/site-packages/pandas/core/internals/managers.py:1834\u001b[0m, in \u001b[0;36mSingleBlockManager.from_array\u001b[0;34m(cls, array, index, refs)\u001b[0m\n\u001b[1;32m   1832\u001b[0m array \u001b[38;5;241m=\u001b[39m maybe_coerce_values(array)\n\u001b[1;32m   1833\u001b[0m bp \u001b[38;5;241m=\u001b[39m BlockPlacement(\u001b[38;5;28mslice\u001b[39m(\u001b[38;5;241m0\u001b[39m, \u001b[38;5;28mlen\u001b[39m(index)))\n\u001b[0;32m-> 1834\u001b[0m block \u001b[38;5;241m=\u001b[39m new_block(array, placement\u001b[38;5;241m=\u001b[39mbp, ndim\u001b[38;5;241m=\u001b[39m\u001b[38;5;241m1\u001b[39m, refs\u001b[38;5;241m=\u001b[39mrefs)\n\u001b[1;32m   1835\u001b[0m \u001b[38;5;28;01mreturn\u001b[39;00m \u001b[38;5;28mcls\u001b[39m(block, index)\n",
      "File \u001b[0;32m~/.conda/envs/spark/lib/python3.11/site-packages/pandas/core/internals/blocks.py:2400\u001b[0m, in \u001b[0;36mnew_block\u001b[0;34m(values, placement, ndim, refs)\u001b[0m\n\u001b[1;32m   2388\u001b[0m \u001b[38;5;28;01mdef\u001b[39;00m \u001b[38;5;21mnew_block\u001b[39m(\n\u001b[1;32m   2389\u001b[0m     values,\n\u001b[1;32m   2390\u001b[0m     placement: BlockPlacement,\n\u001b[0;32m   (...)\u001b[0m\n\u001b[1;32m   2397\u001b[0m     \u001b[38;5;66;03m# - check_ndim/ensure_block_shape already checked\u001b[39;00m\n\u001b[1;32m   2398\u001b[0m     \u001b[38;5;66;03m# - maybe_coerce_values already called/unnecessary\u001b[39;00m\n\u001b[1;32m   2399\u001b[0m     klass \u001b[38;5;241m=\u001b[39m get_block_type(values\u001b[38;5;241m.\u001b[39mdtype)\n\u001b[0;32m-> 2400\u001b[0m     \u001b[38;5;28;01mreturn\u001b[39;00m klass(values, ndim\u001b[38;5;241m=\u001b[39mndim, placement\u001b[38;5;241m=\u001b[39mplacement, refs\u001b[38;5;241m=\u001b[39mrefs)\n",
      "\u001b[0;31mKeyboardInterrupt\u001b[0m: "
     ]
    }
   ],
   "source": [
    "dfs = dfbyid(over20df)"
   ]
  },
  {
   "cell_type": "markdown",
   "id": "678cd0b4-4981-4070-901f-fbeaa9991c31",
   "metadata": {},
   "source": [
    "# 변수 생성규칙\n",
    "* 변수는 반드시 문자로 시작해야 한다.\n",
    "* 변수에는 -(하이폰)을 사용할 수 없다. _(언더스코어는 가능)"
   ]
  },
  {
   "cell_type": "code",
   "execution_count": 21,
   "id": "89318b0f",
   "metadata": {},
   "outputs": [
    {
     "data": {
      "text/plain": [
       "1117"
      ]
     },
     "execution_count": 21,
     "metadata": {},
     "output_type": "execute_result"
    }
   ],
   "source": [
    "len(dfs)"
   ]
  },
  {
   "cell_type": "code",
   "execution_count": 22,
   "id": "8ebaf527",
   "metadata": {},
   "outputs": [],
   "source": [
    "# pip install emoji"
   ]
  },
  {
   "cell_type": "code",
   "execution_count": 23,
   "id": "05cc8aa8",
   "metadata": {},
   "outputs": [],
   "source": [
    "def wcByShop(dfs):\n",
    "    import string\n",
    "    from emoji import core\n",
    "    from wordcloud import WordCloud\n",
    "\n",
    "    font_path = r\"C:\\Windows\\Fonts\\gulim.ttc\"\n",
    "    for idx, val in enumerate(dfs):\n",
    "        globals()[f'{val}_text'] = []\n",
    "        globals()[val]['리뷰내용'].apply(lambda x: globals()[f'{val}_text'].append(x))\n",
    "        globals()[f'{val}_text'] = \" \".join(globals()[f'{val}_text'])\n",
    "        globals()[f'{val}_text'] = globals()[f'{val}_text'].translate(str.maketrans(\".\", \" \", string.punctuation)).replace(\"…\", \" \")\n",
    "        globals()[f'{val}_text'] = core.replace_emoji(globals()[f'{val}_text'], replace=\" \").replace(\"  \", \" \")\n",
    "        globals()[f'{val}_text'] = globals()[f'{val}_text'].translate(str.maketrans(\"\", \"\", \"ㅋㅎㅇ\"))\n",
    "        \n",
    "        # wordcloud 만들기\n",
    "        wc = WordCloud(\n",
    "        max_words = 200,\n",
    "        font_path= font_path,\n",
    "        background_color = 'white',\n",
    "        stopwords = []).generate(globals()[f'{val}_text'])\n",
    "        plt.figure(figsize=(10,10))\n",
    "        plt.imshow(wc)\n",
    "        plt.axis('off')\n",
    "        plt.savefig(f\"./data/wc/{val}.png\")\n",
    "        plt.close()\n",
    "        print(f\"현재 {idx+1}/{len(dfs)} 처리중\", end=\"\\r\" )\n"
   ]
  },
  {
   "cell_type": "code",
   "execution_count": 24,
   "id": "39ceee78",
   "metadata": {},
   "outputs": [
    {
     "name": "stdout",
     "output_type": "stream",
     "text": [
      "현재 1116/1117 처리중\r"
     ]
    }
   ],
   "source": [
    "# id 별로 저장된 데이터 프레임을 wcByShop함수를 이용해서 텍스트 하나의 변수에 합치기, 텍스트 클리닝, 워드클라우드 만들어 저장하기 수행\n",
    "wcByShop(dfs)"
   ]
  }
 ],
 "metadata": {
  "kernelspec": {
   "display_name": "Python 3 (ipykernel)",
   "language": "python",
   "name": "python3"
  },
  "language_info": {
   "codemirror_mode": {
    "name": "ipython",
    "version": 3
   },
   "file_extension": ".py",
   "mimetype": "text/x-python",
   "name": "python",
   "nbconvert_exporter": "python",
   "pygments_lexer": "ipython3",
   "version": "3.11.5"
  }
 },
 "nbformat": 4,
 "nbformat_minor": 5
}
