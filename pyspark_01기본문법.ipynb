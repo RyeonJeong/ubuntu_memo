{
 "cells": [
  {
   "cell_type": "markdown",
   "id": "d74aa074-07e1-4aba-942a-3387dead6b12",
   "metadata": {},
   "source": [
    "# pyspark 라이브러리 불러오기"
   ]
  },
  {
   "cell_type": "code",
   "execution_count": 1,
   "id": "49cdd9f5-599e-4a6e-90eb-3b7c9e20ec82",
   "metadata": {},
   "outputs": [
    {
     "name": "stderr",
     "output_type": "stream",
     "text": [
      "/home/himedia/.local/lib/python3.11/site-packages/pyspark/pandas/__init__.py:49: UserWarning: 'PYARROW_IGNORE_TIMEZONE' environment variable was not set. It is required to set this environment variable to '1' in both driver and executor sides if you use pyarrow>=2.0.0. pandas-on-Spark will set it for you but it does not work if there is a Spark context already launched.\n",
      "  warnings.warn(\n"
     ]
    }
   ],
   "source": [
    "from pyspark.sql import SparkSession\n",
    "from pyspark.sql import functions as f\n",
    "from pyspark.sql.functions import col\n",
    "import pyspark.pandas as ps\n",
    "import pandas as pd\n",
    "import numpy as np"
   ]
  },
  {
   "cell_type": "code",
   "execution_count": 2,
   "id": "b62b205c-bd2c-47dd-be59-05d1b5ccda9b",
   "metadata": {},
   "outputs": [
    {
     "name": "stderr",
     "output_type": "stream",
     "text": [
      "Setting default log level to \"WARN\".\n",
      "To adjust logging level use sc.setLogLevel(newLevel). For SparkR, use setLogLevel(newLevel).\n"
     ]
    },
    {
     "name": "stdout",
     "output_type": "stream",
     "text": [
      "23/11/30 10:47:43 WARN NativeCodeLoader: Unable to load native-hadoop library for your platform... using builtin-java classes where applicable\n"
     ]
    }
   ],
   "source": [
    "spark = SparkSession.builder.getOrCreate()"
   ]
  },
  {
   "cell_type": "code",
   "execution_count": 3,
   "id": "cd3ae5a5-e9f2-4a12-8eee-75be37b363b2",
   "metadata": {},
   "outputs": [
    {
     "data": {
      "text/html": [
       "\n",
       "            <div>\n",
       "                <p><b>SparkSession - in-memory</b></p>\n",
       "                \n",
       "        <div>\n",
       "            <p><b>SparkContext</b></p>\n",
       "\n",
       "            <p><a href=\"http://spark-master:4040\">Spark UI</a></p>\n",
       "\n",
       "            <dl>\n",
       "              <dt>Version</dt>\n",
       "                <dd><code>v3.3.3</code></dd>\n",
       "              <dt>Master</dt>\n",
       "                <dd><code>local[*]</code></dd>\n",
       "              <dt>AppName</dt>\n",
       "                <dd><code>pyspark-shell</code></dd>\n",
       "            </dl>\n",
       "        </div>\n",
       "        \n",
       "            </div>\n",
       "        "
      ],
      "text/plain": [
       "<pyspark.sql.session.SparkSession at 0x7f77869644d0>"
      ]
     },
     "execution_count": 3,
     "metadata": {},
     "output_type": "execute_result"
    }
   ],
   "source": [
    "spark"
   ]
  },
  {
   "cell_type": "markdown",
   "id": "b81dac59-d443-4717-8ee9-864147bff49c",
   "metadata": {},
   "source": [
    "# 데이터 읽어오기\n",
    "* spark.read.csv(\"파일경로\", 옵션)"
   ]
  },
  {
   "cell_type": "code",
   "execution_count": 4,
   "id": "790dfb64-6d7c-4467-bf9e-a7243296ded9",
   "metadata": {},
   "outputs": [
    {
     "data": {
      "text/plain": [
       "'/home/himedia'"
      ]
     },
     "execution_count": 4,
     "metadata": {},
     "output_type": "execute_result"
    }
   ],
   "source": [
    "pwd"
   ]
  },
  {
   "cell_type": "code",
   "execution_count": 4,
   "id": "96db9c7e-ddb6-4578-83fd-0ceba50fbf82",
   "metadata": {},
   "outputs": [],
   "source": [
    "df = spark.read.csv(\"./data/Taitanic_train.csv\", header=True)"
   ]
  },
  {
   "cell_type": "code",
   "execution_count": 5,
   "id": "8eb43b18-3533-4c18-8099-ef1ed9528e2e",
   "metadata": {},
   "outputs": [],
   "source": [
    "df2 = df"
   ]
  },
  {
   "cell_type": "code",
   "execution_count": 6,
   "id": "0832a682-a1f5-4265-9b26-083323cd4e17",
   "metadata": {},
   "outputs": [
    {
     "data": {
      "text/plain": [
       "DataFrame[PassengerId: string, Survived: string, Pclass: string, Name: string, Sex: string, Age: string, SibSp: string, Parch: string, Ticket: string, Fare: string, Cabin: string, Embarked: string]"
      ]
     },
     "execution_count": 6,
     "metadata": {},
     "output_type": "execute_result"
    }
   ],
   "source": [
    "df"
   ]
  },
  {
   "cell_type": "code",
   "execution_count": 7,
   "id": "587d866e-0d97-4a2f-bc1f-ef4a05794c4f",
   "metadata": {},
   "outputs": [
    {
     "name": "stdout",
     "output_type": "stream",
     "text": [
      "+-----------+--------+------+--------------------+------+----+-----+-----+----------------+-------+-----+--------+\n",
      "|PassengerId|Survived|Pclass|                Name|   Sex| Age|SibSp|Parch|          Ticket|   Fare|Cabin|Embarked|\n",
      "+-----------+--------+------+--------------------+------+----+-----+-----+----------------+-------+-----+--------+\n",
      "|          1|       0|     3|Braund, Mr. Owen ...|  male|  22|    1|    0|       A/5 21171|   7.25| null|       S|\n",
      "|          2|       1|     1|Cumings, Mrs. Joh...|female|  38|    1|    0|        PC 17599|71.2833|  C85|       C|\n",
      "|          3|       1|     3|Heikkinen, Miss. ...|female|  26|    0|    0|STON/O2. 3101282|  7.925| null|       S|\n",
      "|          4|       1|     1|Futrelle, Mrs. Ja...|female|  35|    1|    0|          113803|   53.1| C123|       S|\n",
      "|          5|       0|     3|Allen, Mr. Willia...|  male|  35|    0|    0|          373450|   8.05| null|       S|\n",
      "|          6|       0|     3|    Moran, Mr. James|  male|null|    0|    0|          330877| 8.4583| null|       Q|\n",
      "|          7|       0|     1|McCarthy, Mr. Tim...|  male|  54|    0|    0|           17463|51.8625|  E46|       S|\n",
      "|          8|       0|     3|Palsson, Master. ...|  male|   2|    3|    1|          349909| 21.075| null|       S|\n",
      "|          9|       1|     3|Johnson, Mrs. Osc...|female|  27|    0|    2|          347742|11.1333| null|       S|\n",
      "|         10|       1|     2|Nasser, Mrs. Nich...|female|  14|    1|    0|          237736|30.0708| null|       C|\n",
      "|         11|       1|     3|Sandstrom, Miss. ...|female|   4|    1|    1|         PP 9549|   16.7|   G6|       S|\n",
      "|         12|       1|     1|Bonnell, Miss. El...|female|  58|    0|    0|          113783|  26.55| C103|       S|\n",
      "|         13|       0|     3|Saundercock, Mr. ...|  male|  20|    0|    0|       A/5. 2151|   8.05| null|       S|\n",
      "|         14|       0|     3|Andersson, Mr. An...|  male|  39|    1|    5|          347082| 31.275| null|       S|\n",
      "|         15|       0|     3|Vestrom, Miss. Hu...|female|  14|    0|    0|          350406| 7.8542| null|       S|\n",
      "|         16|       1|     2|Hewlett, Mrs. (Ma...|female|  55|    0|    0|          248706|     16| null|       S|\n",
      "|         17|       0|     3|Rice, Master. Eugene|  male|   2|    4|    1|          382652| 29.125| null|       Q|\n",
      "|         18|       1|     2|Williams, Mr. Cha...|  male|null|    0|    0|          244373|     13| null|       S|\n",
      "|         19|       0|     3|Vander Planke, Mr...|female|  31|    1|    0|          345763|     18| null|       S|\n",
      "|         20|       1|     3|Masselmani, Mrs. ...|female|null|    0|    0|            2649|  7.225| null|       C|\n",
      "+-----------+--------+------+--------------------+------+----+-----+-----+----------------+-------+-----+--------+\n",
      "only showing top 20 rows\n",
      "\n"
     ]
    }
   ],
   "source": [
    "# 데이터 프레임 내용출력 .show()\n",
    "df.show()"
   ]
  },
  {
   "cell_type": "markdown",
   "id": "059ff64e-922d-4c06-90ad-80fbe45bc39a",
   "metadata": {},
   "source": [
    "# 스키마 보기\n",
    "* .printSchema()"
   ]
  },
  {
   "cell_type": "code",
   "execution_count": 8,
   "id": "f24a1ba0-abe0-412f-9cf3-0f1d1276265b",
   "metadata": {
    "scrolled": true
   },
   "outputs": [
    {
     "name": "stdout",
     "output_type": "stream",
     "text": [
      "root\n",
      " |-- PassengerId: string (nullable = true)\n",
      " |-- Survived: string (nullable = true)\n",
      " |-- Pclass: string (nullable = true)\n",
      " |-- Name: string (nullable = true)\n",
      " |-- Sex: string (nullable = true)\n",
      " |-- Age: string (nullable = true)\n",
      " |-- SibSp: string (nullable = true)\n",
      " |-- Parch: string (nullable = true)\n",
      " |-- Ticket: string (nullable = true)\n",
      " |-- Fare: string (nullable = true)\n",
      " |-- Cabin: string (nullable = true)\n",
      " |-- Embarked: string (nullable = true)\n",
      "\n"
     ]
    }
   ],
   "source": [
    "# 스파크에서 스키마는 기본적으로 다 string으로 불러옴\n",
    "df.printSchema()"
   ]
  },
  {
   "cell_type": "markdown",
   "id": "9023a141-fe39-4257-86d0-c5c27a95b4d9",
   "metadata": {},
   "source": [
    "# 데이터보기\n",
    "* df.show()"
   ]
  },
  {
   "cell_type": "code",
   "execution_count": null,
   "id": "80d29e1c-d31a-4bcb-9d78-3a4b6fa52a1d",
   "metadata": {},
   "outputs": [],
   "source": [
    "# df.show() pandas의 head() 기본 20줄\n",
    "# 괄호 안에 숫자를 넣으면 그 숫자만큼 출력\n",
    "df.show(3)"
   ]
  },
  {
   "cell_type": "code",
   "execution_count": 8,
   "id": "62021f54-1fb0-41d3-b0ef-296f164d72a8",
   "metadata": {},
   "outputs": [
    {
     "name": "stdout",
     "output_type": "stream",
     "text": [
      "23/11/30 10:48:05 WARN package: Truncated the string representation of a plan since it was too large. This behavior can be adjusted by setting 'spark.sql.debug.maxToStringFields'.\n",
      "+----+-----+----------+---------+-------+----------+-------+----------+-------------+---------+-------+-----------------+--------------+-------+--------+--------+------+----+--------+------+-------+---------+----------------+--------+------------+------------+--------+-------------+-----------------+\n",
      "|Year|Month|DayofMonth|DayOfWeek|DepTime|CRSDepTime|ArrTime|CRSArrTime|UniqueCarrier|FlightNum|TailNum|ActualElapsedTime|CRSElapsedTime|AirTime|ArrDelay|DepDelay|Origin|Dest|Distance|TaxiIn|TaxiOut|Cancelled|CancellationCode|Diverted|CarrierDelay|WeatherDelay|NASDelay|SecurityDelay|LateAircraftDelay|\n",
      "+----+-----+----------+---------+-------+----------+-------+----------+-------------+---------+-------+-----------------+--------------+-------+--------+--------+------+----+--------+------+-------+---------+----------------+--------+------------+------------+--------+-------------+-----------------+\n",
      "|2008|    1|         3|        4|   1343|      1325|   1451|      1435|           WN|      588| N240WN|               68|            70|     55|      16|      18|   HOU| LIT|     393|     4|      9|        0|            null|       0|          16|           0|       0|            0|                0|\n",
      "|2008|    1|         3|        4|   1125|      1120|   1247|      1245|           WN|     1343| N523SW|               82|            85|     71|       2|       5|   HOU| MAF|     441|     3|      8|        0|            null|       0|          NA|          NA|      NA|           NA|               NA|\n",
      "|2008|    1|         3|        4|   2009|      2015|   2136|      2140|           WN|     3841| N280WN|               87|            85|     71|      -4|      -6|   HOU| MAF|     441|     2|     14|        0|            null|       0|          NA|          NA|      NA|           NA|               NA|\n",
      "+----+-----+----------+---------+-------+----------+-------+----------+-------------+---------+-------+-----------------+--------------+-------+--------+--------+------+----+--------+------+-------+---------+----------------+--------+------------+------------+--------+-------------+-----------------+\n",
      "only showing top 3 rows\n",
      "\n"
     ]
    }
   ],
   "source": [
    "df2 = spark.read.csv(\"./data/airline_on_time/2008.csv\", header = True)\n",
    "df2.show(3)"
   ]
  },
  {
   "cell_type": "code",
   "execution_count": null,
   "id": "bd242dca-1188-42c5-8a89-e08f73535638",
   "metadata": {
    "scrolled": true
   },
   "outputs": [],
   "source": [
    "df2.show(3, vertical=True)"
   ]
  },
  {
   "cell_type": "code",
   "execution_count": 9,
   "id": "3b6e9fe4-3494-4328-9896-fd1ad4b68ff4",
   "metadata": {},
   "outputs": [
    {
     "data": {
      "text/html": [
       "<div>\n",
       "<style scoped>\n",
       "    .dataframe tbody tr th:only-of-type {\n",
       "        vertical-align: middle;\n",
       "    }\n",
       "\n",
       "    .dataframe tbody tr th {\n",
       "        vertical-align: top;\n",
       "    }\n",
       "\n",
       "    .dataframe thead th {\n",
       "        text-align: right;\n",
       "    }\n",
       "</style>\n",
       "<table border=\"1\" class=\"dataframe\">\n",
       "  <thead>\n",
       "    <tr style=\"text-align: right;\">\n",
       "      <th></th>\n",
       "      <th>Year</th>\n",
       "      <th>Month</th>\n",
       "      <th>DayofMonth</th>\n",
       "      <th>DayOfWeek</th>\n",
       "      <th>DepTime</th>\n",
       "      <th>CRSDepTime</th>\n",
       "      <th>ArrTime</th>\n",
       "      <th>CRSArrTime</th>\n",
       "      <th>UniqueCarrier</th>\n",
       "      <th>FlightNum</th>\n",
       "      <th>...</th>\n",
       "      <th>TaxiIn</th>\n",
       "      <th>TaxiOut</th>\n",
       "      <th>Cancelled</th>\n",
       "      <th>CancellationCode</th>\n",
       "      <th>Diverted</th>\n",
       "      <th>CarrierDelay</th>\n",
       "      <th>WeatherDelay</th>\n",
       "      <th>NASDelay</th>\n",
       "      <th>SecurityDelay</th>\n",
       "      <th>LateAircraftDelay</th>\n",
       "    </tr>\n",
       "  </thead>\n",
       "  <tbody>\n",
       "    <tr>\n",
       "      <th>0</th>\n",
       "      <td>2008</td>\n",
       "      <td>1</td>\n",
       "      <td>3</td>\n",
       "      <td>4</td>\n",
       "      <td>1343.0</td>\n",
       "      <td>1325</td>\n",
       "      <td>1451.0</td>\n",
       "      <td>1435</td>\n",
       "      <td>WN</td>\n",
       "      <td>588</td>\n",
       "      <td>...</td>\n",
       "      <td>4.0</td>\n",
       "      <td>9.0</td>\n",
       "      <td>0</td>\n",
       "      <td>NaN</td>\n",
       "      <td>0</td>\n",
       "      <td>16.0</td>\n",
       "      <td>0.0</td>\n",
       "      <td>0.0</td>\n",
       "      <td>0.0</td>\n",
       "      <td>0.0</td>\n",
       "    </tr>\n",
       "    <tr>\n",
       "      <th>1</th>\n",
       "      <td>2008</td>\n",
       "      <td>1</td>\n",
       "      <td>3</td>\n",
       "      <td>4</td>\n",
       "      <td>1125.0</td>\n",
       "      <td>1120</td>\n",
       "      <td>1247.0</td>\n",
       "      <td>1245</td>\n",
       "      <td>WN</td>\n",
       "      <td>1343</td>\n",
       "      <td>...</td>\n",
       "      <td>3.0</td>\n",
       "      <td>8.0</td>\n",
       "      <td>0</td>\n",
       "      <td>NaN</td>\n",
       "      <td>0</td>\n",
       "      <td>NaN</td>\n",
       "      <td>NaN</td>\n",
       "      <td>NaN</td>\n",
       "      <td>NaN</td>\n",
       "      <td>NaN</td>\n",
       "    </tr>\n",
       "    <tr>\n",
       "      <th>2</th>\n",
       "      <td>2008</td>\n",
       "      <td>1</td>\n",
       "      <td>3</td>\n",
       "      <td>4</td>\n",
       "      <td>2009.0</td>\n",
       "      <td>2015</td>\n",
       "      <td>2136.0</td>\n",
       "      <td>2140</td>\n",
       "      <td>WN</td>\n",
       "      <td>3841</td>\n",
       "      <td>...</td>\n",
       "      <td>2.0</td>\n",
       "      <td>14.0</td>\n",
       "      <td>0</td>\n",
       "      <td>NaN</td>\n",
       "      <td>0</td>\n",
       "      <td>NaN</td>\n",
       "      <td>NaN</td>\n",
       "      <td>NaN</td>\n",
       "      <td>NaN</td>\n",
       "      <td>NaN</td>\n",
       "    </tr>\n",
       "  </tbody>\n",
       "</table>\n",
       "<p>3 rows × 29 columns</p>\n",
       "</div>"
      ],
      "text/plain": [
       "   Year  Month  DayofMonth  DayOfWeek  DepTime  CRSDepTime  ArrTime  \\\n",
       "0  2008      1           3          4   1343.0        1325   1451.0   \n",
       "1  2008      1           3          4   1125.0        1120   1247.0   \n",
       "2  2008      1           3          4   2009.0        2015   2136.0   \n",
       "\n",
       "   CRSArrTime UniqueCarrier  FlightNum  ... TaxiIn  TaxiOut  Cancelled  \\\n",
       "0        1435            WN        588  ...    4.0      9.0          0   \n",
       "1        1245            WN       1343  ...    3.0      8.0          0   \n",
       "2        2140            WN       3841  ...    2.0     14.0          0   \n",
       "\n",
       "   CancellationCode  Diverted  CarrierDelay WeatherDelay NASDelay  \\\n",
       "0               NaN         0          16.0          0.0      0.0   \n",
       "1               NaN         0           NaN          NaN      NaN   \n",
       "2               NaN         0           NaN          NaN      NaN   \n",
       "\n",
       "   SecurityDelay  LateAircraftDelay  \n",
       "0            0.0                0.0  \n",
       "1            NaN                NaN  \n",
       "2            NaN                NaN  \n",
       "\n",
       "[3 rows x 29 columns]"
      ]
     },
     "execution_count": 9,
     "metadata": {},
     "output_type": "execute_result"
    }
   ],
   "source": [
    "import pandas as pd\n",
    "df3 = pd.read_csv(\"./data/airline_on_time/2008.csv\")\n",
    "df3.head(3)"
   ]
  },
  {
   "cell_type": "markdown",
   "id": "b3ce04e6-1646-4618-9ec3-14777945858f",
   "metadata": {},
   "source": [
    "# 컬럼이름 출력\n",
    "* df.columns"
   ]
  },
  {
   "cell_type": "code",
   "execution_count": null,
   "id": "50f1ffc9-4253-4916-95ef-30d8335655e9",
   "metadata": {},
   "outputs": [],
   "source": [
    "df.columns"
   ]
  },
  {
   "cell_type": "code",
   "execution_count": null,
   "id": "3bba3358-a4e4-4db5-a170-3aaebdc261b6",
   "metadata": {},
   "outputs": [],
   "source": [
    "df2.columns"
   ]
  },
  {
   "cell_type": "markdown",
   "id": "d03f78d8-6fc6-429c-9f07-7458de18b957",
   "metadata": {
    "jp-MarkdownHeadingCollapsed": true
   },
   "source": [
    "# summary = pandas의 describe와 동일\n",
    "* count, mean, stddev, min, 25%, 50%, 75%, max"
   ]
  },
  {
   "cell_type": "code",
   "execution_count": null,
   "id": "cfaa49cb-519b-40f8-9fd1-1119fd697241",
   "metadata": {
    "scrolled": true
   },
   "outputs": [],
   "source": [
    "df.summary().toPandas()"
   ]
  },
  {
   "cell_type": "markdown",
   "id": "09b0ab2d-40f5-4c42-8a05-31efa2cf5918",
   "metadata": {
    "jp-MarkdownHeadingCollapsed": true
   },
   "source": [
    "# 기초 통계량 보기\n",
    "* pandas의 describe()와 동일\n",
    "* .describe()"
   ]
  },
  {
   "cell_type": "code",
   "execution_count": null,
   "id": "2c1c3c5d-dac5-45ff-978b-86ae34f412e1",
   "metadata": {},
   "outputs": [],
   "source": [
    "df.describe().show(vertical=True)"
   ]
  },
  {
   "cell_type": "markdown",
   "id": "83599585-37bf-4fc0-b517-069f0a6ecc29",
   "metadata": {},
   "source": [
    "# 데이터 프레임의 모든 정보보기, 일부만 보기\n",
    "* .collect() 모든 데이터 출력\n",
    "* .head() 첫 줄만 출력(괄호 안에 출력할 행 개수 지정 가능)\n",
    "* .take(숫자) 지정한 숫자만큼 출력(숫자 지정 필수)\n",
    "* .tail(숫자) 지정한 숫자만큼 끝에서부터 출력(숫자 지정 필수)"
   ]
  },
  {
   "cell_type": "code",
   "execution_count": null,
   "id": "cac8d441-ff5e-445a-a5c7-db888e19551b",
   "metadata": {},
   "outputs": [],
   "source": [
    "df.collect()"
   ]
  },
  {
   "cell_type": "code",
   "execution_count": null,
   "id": "af8ca58c-fb72-46d0-b3fe-33693cf20c0e",
   "metadata": {},
   "outputs": [],
   "source": [
    "df.head(3)"
   ]
  },
  {
   "cell_type": "code",
   "execution_count": null,
   "id": "d46988db-a700-42e2-b347-f6a3fd8580a1",
   "metadata": {},
   "outputs": [],
   "source": [
    "df.take(2)"
   ]
  },
  {
   "cell_type": "code",
   "execution_count": null,
   "id": "e9519056-271a-43a2-8ec9-29ba4ace2f14",
   "metadata": {},
   "outputs": [],
   "source": [
    "df.tail(2)"
   ]
  },
  {
   "cell_type": "code",
   "execution_count": null,
   "id": "248cf62c-4ae9-4c41-b6e7-aec069e83c69",
   "metadata": {},
   "outputs": [],
   "source": [
    "df.show(3)"
   ]
  },
  {
   "cell_type": "code",
   "execution_count": null,
   "id": "88a1d971-cc3f-4d6e-920a-6621a9a315c2",
   "metadata": {},
   "outputs": [],
   "source": [
    "df2.head()"
   ]
  },
  {
   "cell_type": "markdown",
   "id": "e55db68b-e8a7-48db-8383-0cc958018696",
   "metadata": {},
   "source": [
    "# 데이터 프레임에서 특정 컬럼 선택해 출력하기\n",
    "* .select('컬럼명').show()"
   ]
  },
  {
   "cell_type": "code",
   "execution_count": 10,
   "id": "f74597bd-149f-43b6-92d4-a8a4ffbcf92a",
   "metadata": {},
   "outputs": [
    {
     "name": "stdout",
     "output_type": "stream",
     "text": [
      "+----+\n",
      "| Age|\n",
      "+----+\n",
      "|  22|\n",
      "|  38|\n",
      "|  26|\n",
      "|  35|\n",
      "|  35|\n",
      "|null|\n",
      "|  54|\n",
      "|   2|\n",
      "|  27|\n",
      "|  14|\n",
      "|   4|\n",
      "|  58|\n",
      "|  20|\n",
      "|  39|\n",
      "|  14|\n",
      "|  55|\n",
      "|   2|\n",
      "|null|\n",
      "|  31|\n",
      "|null|\n",
      "+----+\n",
      "only showing top 20 rows\n",
      "\n"
     ]
    }
   ],
   "source": [
    "df.select('Age').show()"
   ]
  },
  {
   "cell_type": "code",
   "execution_count": null,
   "id": "ed3e751d-74b8-4146-b051-72ce1b536027",
   "metadata": {},
   "outputs": [],
   "source": [
    "df.select(df['Age']).show()"
   ]
  },
  {
   "cell_type": "code",
   "execution_count": null,
   "id": "ba5ceb8c-dc68-451a-82d5-bead06f5678d",
   "metadata": {},
   "outputs": [],
   "source": [
    "df.select(df.Age).show()"
   ]
  },
  {
   "cell_type": "code",
   "execution_count": null,
   "id": "2b17cc81-2f95-4018-8e49-5cf3321fe945",
   "metadata": {},
   "outputs": [],
   "source": [
    "df.select(col(\"Age\")).show()"
   ]
  },
  {
   "cell_type": "markdown",
   "id": "e67900ed-cd2c-457d-8cb2-655f23b06c77",
   "metadata": {},
   "source": [
    "# 여러 컬럼을 선택할 때\n",
    "* .select(['컬럼명1', '컬럼명2'])"
   ]
  },
  {
   "cell_type": "code",
   "execution_count": 13,
   "id": "eeaf574c-e271-405a-aa8a-b6f0c5287b13",
   "metadata": {},
   "outputs": [
    {
     "name": "stdout",
     "output_type": "stream",
     "text": [
      "+----+------+\n",
      "| Age|   Sex|\n",
      "+----+------+\n",
      "|  22|  male|\n",
      "|  38|female|\n",
      "|  26|female|\n",
      "|  35|female|\n",
      "|  35|  male|\n",
      "|null|  male|\n",
      "|  54|  male|\n",
      "|   2|  male|\n",
      "|  27|female|\n",
      "|  14|female|\n",
      "|   4|female|\n",
      "|  58|female|\n",
      "|  20|  male|\n",
      "|  39|  male|\n",
      "|  14|female|\n",
      "|  55|female|\n",
      "|   2|  male|\n",
      "|null|  male|\n",
      "|  31|female|\n",
      "|null|female|\n",
      "+----+------+\n",
      "only showing top 20 rows\n",
      "\n"
     ]
    }
   ],
   "source": [
    "df.select(['Age','Sex']).show()"
   ]
  },
  {
   "cell_type": "markdown",
   "id": "b54635ed-0d45-4777-a561-051f642acb7e",
   "metadata": {},
   "source": [
    "# 각 컬럼의 데이터 타입 출력하기\n",
    "* .dtypes"
   ]
  },
  {
   "cell_type": "code",
   "execution_count": 14,
   "id": "d4ff7817-6f22-4cf2-b208-8998eb22fe42",
   "metadata": {},
   "outputs": [
    {
     "data": {
      "text/plain": [
       "[('PassengerId', 'string'),\n",
       " ('Survived', 'string'),\n",
       " ('Pclass', 'string'),\n",
       " ('Name', 'string'),\n",
       " ('Sex', 'string'),\n",
       " ('Age', 'string'),\n",
       " ('SibSp', 'string'),\n",
       " ('Parch', 'string'),\n",
       " ('Ticket', 'string'),\n",
       " ('Fare', 'string'),\n",
       " ('Cabin', 'string'),\n",
       " ('Embarked', 'string')]"
      ]
     },
     "execution_count": 14,
     "metadata": {},
     "output_type": "execute_result"
    }
   ],
   "source": [
    "df.dtypes"
   ]
  },
  {
   "cell_type": "code",
   "execution_count": null,
   "id": "a1d680d8-a96e-4e2d-9582-72097dd5b06d",
   "metadata": {},
   "outputs": [],
   "source": [
    "df2.dtypes"
   ]
  },
  {
   "cell_type": "code",
   "execution_count": 11,
   "id": "05242840-905a-4f9d-b4e8-d813f6ffb806",
   "metadata": {},
   "outputs": [],
   "source": [
    "import pyspark.sql.functions as f"
   ]
  },
  {
   "cell_type": "code",
   "execution_count": 12,
   "id": "d8ba0a56-9cb0-4c3d-89ba-860662a98d01",
   "metadata": {
    "scrolled": true
   },
   "outputs": [
    {
     "name": "stdout",
     "output_type": "stream",
     "text": [
      "+----+\n",
      "| Age|\n",
      "+----+\n",
      "|  22|\n",
      "|  38|\n",
      "|  26|\n",
      "|  35|\n",
      "|  35|\n",
      "|null|\n",
      "|  54|\n",
      "|   2|\n",
      "|  27|\n",
      "|  14|\n",
      "|   4|\n",
      "|  58|\n",
      "|  20|\n",
      "|  39|\n",
      "|  14|\n",
      "|  55|\n",
      "|   2|\n",
      "|null|\n",
      "|  31|\n",
      "|null|\n",
      "+----+\n",
      "only showing top 20 rows\n",
      "\n"
     ]
    }
   ],
   "source": [
    "df.select(f.col('Age')).show()"
   ]
  },
  {
   "cell_type": "markdown",
   "id": "007494f4-406b-43c0-9351-8fc3eb99a189",
   "metadata": {},
   "source": [
    "# spark 데이터 프레임을 pandas 데이터 프레임으로 표시하기\n",
    "* .toPandas()"
   ]
  },
  {
   "cell_type": "code",
   "execution_count": 13,
   "id": "2aea503d-d275-42f1-a848-47cbf436f21d",
   "metadata": {},
   "outputs": [],
   "source": [
    "import pyspark.pandas as ps"
   ]
  },
  {
   "cell_type": "code",
   "execution_count": 45,
   "id": "2cfcc9a7-06f2-48f3-9f5d-74ab4e60ef66",
   "metadata": {},
   "outputs": [
    {
     "name": "stdout",
     "output_type": "stream",
     "text": [
      "Requirement already satisfied: pyarrow in ./.conda/envs/spark/lib/python3.11/site-packages (14.0.1)\n",
      "Requirement already satisfied: numpy>=1.16.6 in ./.conda/envs/spark/lib/python3.11/site-packages (from pyarrow) (1.26.0)\n"
     ]
    }
   ],
   "source": [
    "!pip install pyarrow"
   ]
  },
  {
   "cell_type": "code",
   "execution_count": 14,
   "id": "ca37afc9-ad22-4b51-92ff-a8006ec979f3",
   "metadata": {},
   "outputs": [
    {
     "name": "stderr",
     "output_type": "stream",
     "text": [
      "                                                                                \r"
     ]
    },
    {
     "data": {
      "text/html": [
       "<div>\n",
       "<style scoped>\n",
       "    .dataframe tbody tr th:only-of-type {\n",
       "        vertical-align: middle;\n",
       "    }\n",
       "\n",
       "    .dataframe tbody tr th {\n",
       "        vertical-align: top;\n",
       "    }\n",
       "\n",
       "    .dataframe thead th {\n",
       "        text-align: right;\n",
       "    }\n",
       "</style>\n",
       "<table border=\"1\" class=\"dataframe\">\n",
       "  <thead>\n",
       "    <tr style=\"text-align: right;\">\n",
       "      <th></th>\n",
       "      <th>summary</th>\n",
       "      <th>PassengerId</th>\n",
       "      <th>Survived</th>\n",
       "      <th>Pclass</th>\n",
       "      <th>Name</th>\n",
       "      <th>Sex</th>\n",
       "      <th>Age</th>\n",
       "      <th>SibSp</th>\n",
       "      <th>Parch</th>\n",
       "      <th>Ticket</th>\n",
       "      <th>Fare</th>\n",
       "      <th>Cabin</th>\n",
       "      <th>Embarked</th>\n",
       "    </tr>\n",
       "  </thead>\n",
       "  <tbody>\n",
       "    <tr>\n",
       "      <th>0</th>\n",
       "      <td>count</td>\n",
       "      <td>891</td>\n",
       "      <td>891</td>\n",
       "      <td>891</td>\n",
       "      <td>891</td>\n",
       "      <td>891</td>\n",
       "      <td>714</td>\n",
       "      <td>891</td>\n",
       "      <td>891</td>\n",
       "      <td>891</td>\n",
       "      <td>891</td>\n",
       "      <td>204</td>\n",
       "      <td>889</td>\n",
       "    </tr>\n",
       "    <tr>\n",
       "      <th>1</th>\n",
       "      <td>mean</td>\n",
       "      <td>446.0</td>\n",
       "      <td>0.3838383838383838</td>\n",
       "      <td>2.308641975308642</td>\n",
       "      <td>None</td>\n",
       "      <td>None</td>\n",
       "      <td>29.69911764705882</td>\n",
       "      <td>0.5230078563411896</td>\n",
       "      <td>0.38159371492704824</td>\n",
       "      <td>260318.54916792738</td>\n",
       "      <td>32.2042079685746</td>\n",
       "      <td>None</td>\n",
       "      <td>None</td>\n",
       "    </tr>\n",
       "    <tr>\n",
       "      <th>2</th>\n",
       "      <td>stddev</td>\n",
       "      <td>257.3538420152301</td>\n",
       "      <td>0.48659245426485753</td>\n",
       "      <td>0.8360712409770491</td>\n",
       "      <td>None</td>\n",
       "      <td>None</td>\n",
       "      <td>14.526497332334035</td>\n",
       "      <td>1.1027434322934315</td>\n",
       "      <td>0.8060572211299488</td>\n",
       "      <td>471609.26868834975</td>\n",
       "      <td>49.69342859718089</td>\n",
       "      <td>None</td>\n",
       "      <td>None</td>\n",
       "    </tr>\n",
       "    <tr>\n",
       "      <th>3</th>\n",
       "      <td>min</td>\n",
       "      <td>1</td>\n",
       "      <td>0</td>\n",
       "      <td>1</td>\n",
       "      <td>\"Andersson, Mr. August Edvard (\"\"Wennerstrom\"\")\"</td>\n",
       "      <td>female</td>\n",
       "      <td>0.42</td>\n",
       "      <td>0</td>\n",
       "      <td>0</td>\n",
       "      <td>110152</td>\n",
       "      <td>0</td>\n",
       "      <td>A10</td>\n",
       "      <td>C</td>\n",
       "    </tr>\n",
       "    <tr>\n",
       "      <th>4</th>\n",
       "      <td>max</td>\n",
       "      <td>99</td>\n",
       "      <td>1</td>\n",
       "      <td>3</td>\n",
       "      <td>van Melkebeke, Mr. Philemon</td>\n",
       "      <td>male</td>\n",
       "      <td>9</td>\n",
       "      <td>8</td>\n",
       "      <td>6</td>\n",
       "      <td>WE/P 5735</td>\n",
       "      <td>93.5</td>\n",
       "      <td>T</td>\n",
       "      <td>S</td>\n",
       "    </tr>\n",
       "  </tbody>\n",
       "</table>\n",
       "</div>"
      ],
      "text/plain": [
       "  summary        PassengerId             Survived              Pclass  \\\n",
       "0   count                891                  891                 891   \n",
       "1    mean              446.0   0.3838383838383838   2.308641975308642   \n",
       "2  stddev  257.3538420152301  0.48659245426485753  0.8360712409770491   \n",
       "3     min                  1                    0                   1   \n",
       "4     max                 99                    1                   3   \n",
       "\n",
       "                                               Name     Sex  \\\n",
       "0                                               891     891   \n",
       "1                                              None    None   \n",
       "2                                              None    None   \n",
       "3  \"Andersson, Mr. August Edvard (\"\"Wennerstrom\"\")\"  female   \n",
       "4                       van Melkebeke, Mr. Philemon    male   \n",
       "\n",
       "                  Age               SibSp                Parch  \\\n",
       "0                 714                 891                  891   \n",
       "1   29.69911764705882  0.5230078563411896  0.38159371492704824   \n",
       "2  14.526497332334035  1.1027434322934315   0.8060572211299488   \n",
       "3                0.42                   0                    0   \n",
       "4                   9                   8                    6   \n",
       "\n",
       "               Ticket               Fare Cabin Embarked  \n",
       "0                 891                891   204      889  \n",
       "1  260318.54916792738   32.2042079685746  None     None  \n",
       "2  471609.26868834975  49.69342859718089  None     None  \n",
       "3              110152                  0   A10        C  \n",
       "4           WE/P 5735               93.5     T        S  "
      ]
     },
     "execution_count": 14,
     "metadata": {},
     "output_type": "execute_result"
    }
   ],
   "source": [
    "df.describe().toPandas()"
   ]
  },
  {
   "cell_type": "markdown",
   "id": "8843c4e5-8ebf-41ca-9070-28e383fc7cf9",
   "metadata": {},
   "source": [
    "# 데이터 프레임 출력 행 수 정하기\n",
    "* limit(숫자)"
   ]
  },
  {
   "cell_type": "code",
   "execution_count": null,
   "id": "3d71cacc-23dc-422b-8ae5-9b3d52fde540",
   "metadata": {},
   "outputs": [],
   "source": [
    "df.limit(3).toPandas()"
   ]
  },
  {
   "cell_type": "code",
   "execution_count": null,
   "id": "1348c791-f580-4522-9032-db4481c8a440",
   "metadata": {},
   "outputs": [],
   "source": [
    "df.limit(10).show()"
   ]
  },
  {
   "cell_type": "markdown",
   "id": "45127da1-43c1-4b01-bf90-61af97badd16",
   "metadata": {},
   "source": [
    "# 새로운 컬럼 추가하기\n",
    "* .withColumn('컬럼명', 데이터)"
   ]
  },
  {
   "cell_type": "code",
   "execution_count": 15,
   "id": "9a789e3d-638c-4476-8916-bc747f1deb62",
   "metadata": {},
   "outputs": [
    {
     "name": "stdout",
     "output_type": "stream",
     "text": [
      "+-----------+--------+------+--------------------+------+----+-----+-----+----------------+-------+-----+--------+------+\n",
      "|PassengerId|Survived|Pclass|                Name|   Sex| Age|SibSp|Parch|          Ticket|   Fare|Cabin|Embarked|family|\n",
      "+-----------+--------+------+--------------------+------+----+-----+-----+----------------+-------+-----+--------+------+\n",
      "|          1|       0|     3|Braund, Mr. Owen ...|  male|  22|    1|    0|       A/5 21171|   7.25| null|       S|   1.0|\n",
      "|          2|       1|     1|Cumings, Mrs. Joh...|female|  38|    1|    0|        PC 17599|71.2833|  C85|       C|   1.0|\n",
      "|          3|       1|     3|Heikkinen, Miss. ...|female|  26|    0|    0|STON/O2. 3101282|  7.925| null|       S|   0.0|\n",
      "|          4|       1|     1|Futrelle, Mrs. Ja...|female|  35|    1|    0|          113803|   53.1| C123|       S|   1.0|\n",
      "|          5|       0|     3|Allen, Mr. Willia...|  male|  35|    0|    0|          373450|   8.05| null|       S|   0.0|\n",
      "|          6|       0|     3|    Moran, Mr. James|  male|null|    0|    0|          330877| 8.4583| null|       Q|   0.0|\n",
      "|          7|       0|     1|McCarthy, Mr. Tim...|  male|  54|    0|    0|           17463|51.8625|  E46|       S|   0.0|\n",
      "|          8|       0|     3|Palsson, Master. ...|  male|   2|    3|    1|          349909| 21.075| null|       S|   4.0|\n",
      "|          9|       1|     3|Johnson, Mrs. Osc...|female|  27|    0|    2|          347742|11.1333| null|       S|   2.0|\n",
      "|         10|       1|     2|Nasser, Mrs. Nich...|female|  14|    1|    0|          237736|30.0708| null|       C|   1.0|\n",
      "|         11|       1|     3|Sandstrom, Miss. ...|female|   4|    1|    1|         PP 9549|   16.7|   G6|       S|   2.0|\n",
      "|         12|       1|     1|Bonnell, Miss. El...|female|  58|    0|    0|          113783|  26.55| C103|       S|   0.0|\n",
      "|         13|       0|     3|Saundercock, Mr. ...|  male|  20|    0|    0|       A/5. 2151|   8.05| null|       S|   0.0|\n",
      "|         14|       0|     3|Andersson, Mr. An...|  male|  39|    1|    5|          347082| 31.275| null|       S|   6.0|\n",
      "|         15|       0|     3|Vestrom, Miss. Hu...|female|  14|    0|    0|          350406| 7.8542| null|       S|   0.0|\n",
      "|         16|       1|     2|Hewlett, Mrs. (Ma...|female|  55|    0|    0|          248706|     16| null|       S|   0.0|\n",
      "|         17|       0|     3|Rice, Master. Eugene|  male|   2|    4|    1|          382652| 29.125| null|       Q|   5.0|\n",
      "|         18|       1|     2|Williams, Mr. Cha...|  male|null|    0|    0|          244373|     13| null|       S|   0.0|\n",
      "|         19|       0|     3|Vander Planke, Mr...|female|  31|    1|    0|          345763|     18| null|       S|   1.0|\n",
      "|         20|       1|     3|Masselmani, Mrs. ...|female|null|    0|    0|            2649|  7.225| null|       C|   0.0|\n",
      "+-----------+--------+------+--------------------+------+----+-----+-----+----------------+-------+-----+--------+------+\n",
      "only showing top 20 rows\n",
      "\n"
     ]
    }
   ],
   "source": [
    "# 타이타닉 데이터에서 SipSp, Parch 컬럼을 합쳐서 family 컬럼 만들기\n",
    "df.withColumn('family', df['Sibsp'] + df['Parch']).show()\n",
    "# 문자 + 문자 인데 숫자가 나옴 ㅎ;"
   ]
  },
  {
   "cell_type": "code",
   "execution_count": 20,
   "id": "c503d039-a685-4af0-a1f6-9de1be0b4435",
   "metadata": {},
   "outputs": [],
   "source": [
    "# 주의!!! 스파크에서 show() 하고 할당하면 데이터 날아감..;; 아래 코드 하면 안됨. 할당할때는 show() 없애고 할당해야함\n",
    "# df = df.withColumn('family', df['Sibsp'] + df['Parch']).show()\n",
    "df = df.withColumn('family', df['Sibsp'] + df['Parch'])"
   ]
  },
  {
   "cell_type": "code",
   "execution_count": 16,
   "id": "4f3ed94f-da04-40f4-910f-ae4d49314ef5",
   "metadata": {},
   "outputs": [
    {
     "data": {
      "text/plain": [
       "[('PassengerId', 'string'),\n",
       " ('Survived', 'string'),\n",
       " ('Pclass', 'string'),\n",
       " ('Name', 'string'),\n",
       " ('Sex', 'string'),\n",
       " ('Age', 'string'),\n",
       " ('SibSp', 'string'),\n",
       " ('Parch', 'string'),\n",
       " ('Ticket', 'string'),\n",
       " ('Fare', 'string'),\n",
       " ('Cabin', 'string'),\n",
       " ('Embarked', 'string')]"
      ]
     },
     "execution_count": 16,
     "metadata": {},
     "output_type": "execute_result"
    }
   ],
   "source": [
    "# 스파크로 할땐 데이터 타임 꼭 찍어보기 string + stirng = double\n",
    "# Sibsp와 Parch는 모두 string 타입이지만 자동으로 숫자로 변환되어 계산 됨\n",
    "# 저장된 데이터 타입은 double\n",
    "df.dtypes"
   ]
  },
  {
   "cell_type": "code",
   "execution_count": null,
   "id": "9c463580-56a7-4b9d-8db4-ccfa4844c499",
   "metadata": {},
   "outputs": [],
   "source": [
    "# spark에서 .show()로 출력한 결과는 NoneType 이므로 변수에 할당하면 안됨.\n",
    "df.show(3)"
   ]
  },
  {
   "cell_type": "markdown",
   "id": "fd6c058a-43bd-4b65-ab49-f64751283019",
   "metadata": {},
   "source": [
    "# 컬럼 삭제하기\n",
    "* .drop('컬럼명')"
   ]
  },
  {
   "cell_type": "code",
   "execution_count": null,
   "id": "a7f040b5-057f-466c-ab09-50e3c90d3510",
   "metadata": {},
   "outputs": [],
   "source": [
    "# 판다스에서 .drop 은 행을 지우는거 axis=1 을 해줘야 컬럼을 삭제해줌\n",
    "# 스파크는 기본이 컬럼삭제 , 행삭제는 없음"
   ]
  },
  {
   "cell_type": "code",
   "execution_count": 17,
   "id": "be397de5-3109-4453-bc8e-05450ac56512",
   "metadata": {},
   "outputs": [
    {
     "name": "stdout",
     "output_type": "stream",
     "text": [
      "+-----------+--------+------+--------------------+------+----+----------------+-------+-----+--------+\n",
      "|PassengerId|Survived|Pclass|                Name|   Sex| Age|          Ticket|   Fare|Cabin|Embarked|\n",
      "+-----------+--------+------+--------------------+------+----+----------------+-------+-----+--------+\n",
      "|          1|       0|     3|Braund, Mr. Owen ...|  male|  22|       A/5 21171|   7.25| null|       S|\n",
      "|          2|       1|     1|Cumings, Mrs. Joh...|female|  38|        PC 17599|71.2833|  C85|       C|\n",
      "|          3|       1|     3|Heikkinen, Miss. ...|female|  26|STON/O2. 3101282|  7.925| null|       S|\n",
      "|          4|       1|     1|Futrelle, Mrs. Ja...|female|  35|          113803|   53.1| C123|       S|\n",
      "|          5|       0|     3|Allen, Mr. Willia...|  male|  35|          373450|   8.05| null|       S|\n",
      "|          6|       0|     3|    Moran, Mr. James|  male|null|          330877| 8.4583| null|       Q|\n",
      "|          7|       0|     1|McCarthy, Mr. Tim...|  male|  54|           17463|51.8625|  E46|       S|\n",
      "|          8|       0|     3|Palsson, Master. ...|  male|   2|          349909| 21.075| null|       S|\n",
      "|          9|       1|     3|Johnson, Mrs. Osc...|female|  27|          347742|11.1333| null|       S|\n",
      "|         10|       1|     2|Nasser, Mrs. Nich...|female|  14|          237736|30.0708| null|       C|\n",
      "|         11|       1|     3|Sandstrom, Miss. ...|female|   4|         PP 9549|   16.7|   G6|       S|\n",
      "|         12|       1|     1|Bonnell, Miss. El...|female|  58|          113783|  26.55| C103|       S|\n",
      "|         13|       0|     3|Saundercock, Mr. ...|  male|  20|       A/5. 2151|   8.05| null|       S|\n",
      "|         14|       0|     3|Andersson, Mr. An...|  male|  39|          347082| 31.275| null|       S|\n",
      "|         15|       0|     3|Vestrom, Miss. Hu...|female|  14|          350406| 7.8542| null|       S|\n",
      "|         16|       1|     2|Hewlett, Mrs. (Ma...|female|  55|          248706|     16| null|       S|\n",
      "|         17|       0|     3|Rice, Master. Eugene|  male|   2|          382652| 29.125| null|       Q|\n",
      "|         18|       1|     2|Williams, Mr. Cha...|  male|null|          244373|     13| null|       S|\n",
      "|         19|       0|     3|Vander Planke, Mr...|female|  31|          345763|     18| null|       S|\n",
      "|         20|       1|     3|Masselmani, Mrs. ...|female|null|            2649|  7.225| null|       C|\n",
      "+-----------+--------+------+--------------------+------+----+----------------+-------+-----+--------+\n",
      "only showing top 20 rows\n",
      "\n"
     ]
    }
   ],
   "source": [
    "df.drop('Sibsp', 'Parch').show()"
   ]
  },
  {
   "cell_type": "code",
   "execution_count": 18,
   "id": "c82d3aae-0d38-454f-896a-6bf17cb01d2c",
   "metadata": {},
   "outputs": [
    {
     "name": "stdout",
     "output_type": "stream",
     "text": [
      "+-----------+--------+------+--------------------+------+----+-----+-----+----------------+-------+-----+--------+\n",
      "|PassengerId|Survived|Pclass|                Name|   Sex| Age|SibSp|Parch|          Ticket|   Fare|Cabin|Embarked|\n",
      "+-----------+--------+------+--------------------+------+----+-----+-----+----------------+-------+-----+--------+\n",
      "|          1|       0|     3|Braund, Mr. Owen ...|  male|  22|    1|    0|       A/5 21171|   7.25| null|       S|\n",
      "|          2|       1|     1|Cumings, Mrs. Joh...|female|  38|    1|    0|        PC 17599|71.2833|  C85|       C|\n",
      "|          3|       1|     3|Heikkinen, Miss. ...|female|  26|    0|    0|STON/O2. 3101282|  7.925| null|       S|\n",
      "|          4|       1|     1|Futrelle, Mrs. Ja...|female|  35|    1|    0|          113803|   53.1| C123|       S|\n",
      "|          5|       0|     3|Allen, Mr. Willia...|  male|  35|    0|    0|          373450|   8.05| null|       S|\n",
      "|          6|       0|     3|    Moran, Mr. James|  male|null|    0|    0|          330877| 8.4583| null|       Q|\n",
      "|          7|       0|     1|McCarthy, Mr. Tim...|  male|  54|    0|    0|           17463|51.8625|  E46|       S|\n",
      "|          8|       0|     3|Palsson, Master. ...|  male|   2|    3|    1|          349909| 21.075| null|       S|\n",
      "|          9|       1|     3|Johnson, Mrs. Osc...|female|  27|    0|    2|          347742|11.1333| null|       S|\n",
      "|         10|       1|     2|Nasser, Mrs. Nich...|female|  14|    1|    0|          237736|30.0708| null|       C|\n",
      "|         11|       1|     3|Sandstrom, Miss. ...|female|   4|    1|    1|         PP 9549|   16.7|   G6|       S|\n",
      "|         12|       1|     1|Bonnell, Miss. El...|female|  58|    0|    0|          113783|  26.55| C103|       S|\n",
      "|         13|       0|     3|Saundercock, Mr. ...|  male|  20|    0|    0|       A/5. 2151|   8.05| null|       S|\n",
      "|         14|       0|     3|Andersson, Mr. An...|  male|  39|    1|    5|          347082| 31.275| null|       S|\n",
      "|         15|       0|     3|Vestrom, Miss. Hu...|female|  14|    0|    0|          350406| 7.8542| null|       S|\n",
      "|         16|       1|     2|Hewlett, Mrs. (Ma...|female|  55|    0|    0|          248706|     16| null|       S|\n",
      "|         17|       0|     3|Rice, Master. Eugene|  male|   2|    4|    1|          382652| 29.125| null|       Q|\n",
      "|         18|       1|     2|Williams, Mr. Cha...|  male|null|    0|    0|          244373|     13| null|       S|\n",
      "|         19|       0|     3|Vander Planke, Mr...|female|  31|    1|    0|          345763|     18| null|       S|\n",
      "|         20|       1|     3|Masselmani, Mrs. ...|female|null|    0|    0|            2649|  7.225| null|       C|\n",
      "+-----------+--------+------+--------------------+------+----+-----+-----+----------------+-------+-----+--------+\n",
      "only showing top 20 rows\n",
      "\n"
     ]
    }
   ],
   "source": [
    "# 할당 안해주면 삭제 안됨 (순서: 결과 한번 보고 show() 지우고 다시 할당)\n",
    "df.show()"
   ]
  },
  {
   "cell_type": "code",
   "execution_count": 19,
   "id": "7c14d877-d25a-4b69-9b87-7dee7953f7c2",
   "metadata": {},
   "outputs": [],
   "source": [
    "df = df.drop('Sibsp', 'Parch')"
   ]
  },
  {
   "cell_type": "code",
   "execution_count": null,
   "id": "a7412936-d4bb-4507-b810-a99de643d5f0",
   "metadata": {},
   "outputs": [],
   "source": [
    "df.show()"
   ]
  },
  {
   "cell_type": "markdown",
   "id": "5668281c-6071-4354-b386-892bd6aa6cba",
   "metadata": {},
   "source": [
    "# 컬럼 이름 바꾸기\n",
    "* .withColumnRenamed('원래이름', '새이름')"
   ]
  },
  {
   "cell_type": "code",
   "execution_count": 20,
   "id": "c55fa4e9-8c8a-4597-b9aa-490f65d47d30",
   "metadata": {},
   "outputs": [
    {
     "name": "stdout",
     "output_type": "stream",
     "text": [
      "+-----------+--------+------+--------------------+------+----+----------------+-------+---------+--------+\n",
      "|PassengerId|Survived|Pclass|                Name|   Sex| Age|          Ticket|   Fare|new_cabin|Embarked|\n",
      "+-----------+--------+------+--------------------+------+----+----------------+-------+---------+--------+\n",
      "|          1|       0|     3|Braund, Mr. Owen ...|  male|  22|       A/5 21171|   7.25|     null|       S|\n",
      "|          2|       1|     1|Cumings, Mrs. Joh...|female|  38|        PC 17599|71.2833|      C85|       C|\n",
      "|          3|       1|     3|Heikkinen, Miss. ...|female|  26|STON/O2. 3101282|  7.925|     null|       S|\n",
      "|          4|       1|     1|Futrelle, Mrs. Ja...|female|  35|          113803|   53.1|     C123|       S|\n",
      "|          5|       0|     3|Allen, Mr. Willia...|  male|  35|          373450|   8.05|     null|       S|\n",
      "|          6|       0|     3|    Moran, Mr. James|  male|null|          330877| 8.4583|     null|       Q|\n",
      "|          7|       0|     1|McCarthy, Mr. Tim...|  male|  54|           17463|51.8625|      E46|       S|\n",
      "|          8|       0|     3|Palsson, Master. ...|  male|   2|          349909| 21.075|     null|       S|\n",
      "|          9|       1|     3|Johnson, Mrs. Osc...|female|  27|          347742|11.1333|     null|       S|\n",
      "|         10|       1|     2|Nasser, Mrs. Nich...|female|  14|          237736|30.0708|     null|       C|\n",
      "|         11|       1|     3|Sandstrom, Miss. ...|female|   4|         PP 9549|   16.7|       G6|       S|\n",
      "|         12|       1|     1|Bonnell, Miss. El...|female|  58|          113783|  26.55|     C103|       S|\n",
      "|         13|       0|     3|Saundercock, Mr. ...|  male|  20|       A/5. 2151|   8.05|     null|       S|\n",
      "|         14|       0|     3|Andersson, Mr. An...|  male|  39|          347082| 31.275|     null|       S|\n",
      "|         15|       0|     3|Vestrom, Miss. Hu...|female|  14|          350406| 7.8542|     null|       S|\n",
      "|         16|       1|     2|Hewlett, Mrs. (Ma...|female|  55|          248706|     16|     null|       S|\n",
      "|         17|       0|     3|Rice, Master. Eugene|  male|   2|          382652| 29.125|     null|       Q|\n",
      "|         18|       1|     2|Williams, Mr. Cha...|  male|null|          244373|     13|     null|       S|\n",
      "|         19|       0|     3|Vander Planke, Mr...|female|  31|          345763|     18|     null|       S|\n",
      "|         20|       1|     3|Masselmani, Mrs. ...|female|null|            2649|  7.225|     null|       C|\n",
      "+-----------+--------+------+--------------------+------+----+----------------+-------+---------+--------+\n",
      "only showing top 20 rows\n",
      "\n"
     ]
    }
   ],
   "source": [
    "df.withColumnRenamed('Cabin', 'new_cabin').show()"
   ]
  },
  {
   "cell_type": "markdown",
   "id": "cbbef658-e938-4d8c-b0fa-c2b2099b5ec3",
   "metadata": {},
   "source": [
    "# 컬럼이름 여러개 바꾸기\n",
    "* .withColumnsRenamed({'원래이름1':'새이름1', '원래이름2':'새이름2'}) pyspark 3.4 버전 이후\n",
    "* .withColumnRenamed('원래이름1','새이름1').withColumnRenamed('원래이름2','새이름2')"
   ]
  },
  {
   "cell_type": "code",
   "execution_count": 21,
   "id": "8120054b-a6ca-401d-8ac4-29e31dffb928",
   "metadata": {},
   "outputs": [
    {
     "name": "stdout",
     "output_type": "stream",
     "text": [
      "+-----------+--------+------+--------------------+------+----+----------------+-------+----+--------+\n",
      "|PassengerId|Survived|Pclass|                Name|  성별| Age|          Ticket|   Fare|객실|Embarked|\n",
      "+-----------+--------+------+--------------------+------+----+----------------+-------+----+--------+\n",
      "|          1|       0|     3|Braund, Mr. Owen ...|  male|  22|       A/5 21171|   7.25|null|       S|\n",
      "|          2|       1|     1|Cumings, Mrs. Joh...|female|  38|        PC 17599|71.2833| C85|       C|\n",
      "|          3|       1|     3|Heikkinen, Miss. ...|female|  26|STON/O2. 3101282|  7.925|null|       S|\n",
      "|          4|       1|     1|Futrelle, Mrs. Ja...|female|  35|          113803|   53.1|C123|       S|\n",
      "|          5|       0|     3|Allen, Mr. Willia...|  male|  35|          373450|   8.05|null|       S|\n",
      "|          6|       0|     3|    Moran, Mr. James|  male|null|          330877| 8.4583|null|       Q|\n",
      "|          7|       0|     1|McCarthy, Mr. Tim...|  male|  54|           17463|51.8625| E46|       S|\n",
      "|          8|       0|     3|Palsson, Master. ...|  male|   2|          349909| 21.075|null|       S|\n",
      "|          9|       1|     3|Johnson, Mrs. Osc...|female|  27|          347742|11.1333|null|       S|\n",
      "|         10|       1|     2|Nasser, Mrs. Nich...|female|  14|          237736|30.0708|null|       C|\n",
      "|         11|       1|     3|Sandstrom, Miss. ...|female|   4|         PP 9549|   16.7|  G6|       S|\n",
      "|         12|       1|     1|Bonnell, Miss. El...|female|  58|          113783|  26.55|C103|       S|\n",
      "|         13|       0|     3|Saundercock, Mr. ...|  male|  20|       A/5. 2151|   8.05|null|       S|\n",
      "|         14|       0|     3|Andersson, Mr. An...|  male|  39|          347082| 31.275|null|       S|\n",
      "|         15|       0|     3|Vestrom, Miss. Hu...|female|  14|          350406| 7.8542|null|       S|\n",
      "|         16|       1|     2|Hewlett, Mrs. (Ma...|female|  55|          248706|     16|null|       S|\n",
      "|         17|       0|     3|Rice, Master. Eugene|  male|   2|          382652| 29.125|null|       Q|\n",
      "|         18|       1|     2|Williams, Mr. Cha...|  male|null|          244373|     13|null|       S|\n",
      "|         19|       0|     3|Vander Planke, Mr...|female|  31|          345763|     18|null|       S|\n",
      "|         20|       1|     3|Masselmani, Mrs. ...|female|null|            2649|  7.225|null|       C|\n",
      "+-----------+--------+------+--------------------+------+----+----------------+-------+----+--------+\n",
      "only showing top 20 rows\n",
      "\n"
     ]
    }
   ],
   "source": [
    "df.withColumnRenamed('Cabin','객실').withColumnRenamed('Sex','성별').show()"
   ]
  },
  {
   "cell_type": "markdown",
   "id": "93e86150-4811-4fc8-91ed-2d16f20545c5",
   "metadata": {},
   "source": [
    "# 결측값인 행 찾아서 개수 세기"
   ]
  },
  {
   "cell_type": "code",
   "execution_count": 26,
   "id": "f75515d9-2a48-4b87-bbe8-37b599df9916",
   "metadata": {},
   "outputs": [
    {
     "data": {
      "text/plain": [
       "DataFrame[Age: string]"
      ]
     },
     "execution_count": 26,
     "metadata": {},
     "output_type": "execute_result"
    }
   ],
   "source": [
    "df.select('Age')"
   ]
  },
  {
   "cell_type": "code",
   "execution_count": 22,
   "id": "81596019-c8ba-4c9c-a990-59ed3c0e0f70",
   "metadata": {},
   "outputs": [
    {
     "name": "stdout",
     "output_type": "stream",
     "text": [
      "+-----------+--------+------+----+---+---+------+----+-----+--------+\n",
      "|PassengerId|Survived|Pclass|Name|Sex|Age|Ticket|Fare|Cabin|Embarked|\n",
      "+-----------+--------+------+----+---+---+------+----+-----+--------+\n",
      "|          0|       0|     0|   0|  0|177|     0|   0|  687|       2|\n",
      "+-----------+--------+------+----+---+---+------+----+-----+--------+\n",
      "\n"
     ]
    }
   ],
   "source": [
    "import pyspark.sql.functions as f\n",
    "# * 는 리스트 언패킹 할때 쓰는거\n",
    "df.select(*(f.sum(f.col(c).isNull().cast('int')).alias(c) for c in df.columns)).show()"
   ]
  },
  {
   "cell_type": "code",
   "execution_count": 23,
   "id": "f5668e3f-5bd1-44c3-9134-c3e2c0df23f0",
   "metadata": {},
   "outputs": [
    {
     "ename": "AttributeError",
     "evalue": "'DataFrame' object has no attribute 'isNull'",
     "output_type": "error",
     "traceback": [
      "\u001b[0;31m---------------------------------------------------------------------------\u001b[0m",
      "\u001b[0;31mAttributeError\u001b[0m                            Traceback (most recent call last)",
      "Cell \u001b[0;32mIn[23], line 1\u001b[0m\n\u001b[0;32m----> 1\u001b[0m df\u001b[38;5;241m.\u001b[39misNull()\n",
      "File \u001b[0;32m~/.local/lib/python3.11/site-packages/pyspark/sql/dataframe.py:1988\u001b[0m, in \u001b[0;36mDataFrame.__getattr__\u001b[0;34m(self, name)\u001b[0m\n\u001b[1;32m   1978\u001b[0m \u001b[38;5;250m\u001b[39m\u001b[38;5;124;03m\"\"\"Returns the :class:`Column` denoted by ``name``.\u001b[39;00m\n\u001b[1;32m   1979\u001b[0m \n\u001b[1;32m   1980\u001b[0m \u001b[38;5;124;03m.. versionadded:: 1.3.0\u001b[39;00m\n\u001b[0;32m   (...)\u001b[0m\n\u001b[1;32m   1985\u001b[0m \u001b[38;5;124;03m[Row(age=2), Row(age=5)]\u001b[39;00m\n\u001b[1;32m   1986\u001b[0m \u001b[38;5;124;03m\"\"\"\u001b[39;00m\n\u001b[1;32m   1987\u001b[0m \u001b[38;5;28;01mif\u001b[39;00m name \u001b[38;5;129;01mnot\u001b[39;00m \u001b[38;5;129;01min\u001b[39;00m \u001b[38;5;28mself\u001b[39m\u001b[38;5;241m.\u001b[39mcolumns:\n\u001b[0;32m-> 1988\u001b[0m     \u001b[38;5;28;01mraise\u001b[39;00m \u001b[38;5;167;01mAttributeError\u001b[39;00m(\n\u001b[1;32m   1989\u001b[0m         \u001b[38;5;124m\"\u001b[39m\u001b[38;5;124m'\u001b[39m\u001b[38;5;132;01m%s\u001b[39;00m\u001b[38;5;124m'\u001b[39m\u001b[38;5;124m object has no attribute \u001b[39m\u001b[38;5;124m'\u001b[39m\u001b[38;5;132;01m%s\u001b[39;00m\u001b[38;5;124m'\u001b[39m\u001b[38;5;124m\"\u001b[39m \u001b[38;5;241m%\u001b[39m (\u001b[38;5;28mself\u001b[39m\u001b[38;5;241m.\u001b[39m\u001b[38;5;18m__class__\u001b[39m\u001b[38;5;241m.\u001b[39m\u001b[38;5;18m__name__\u001b[39m, name)\n\u001b[1;32m   1990\u001b[0m     )\n\u001b[1;32m   1991\u001b[0m jc \u001b[38;5;241m=\u001b[39m \u001b[38;5;28mself\u001b[39m\u001b[38;5;241m.\u001b[39m_jdf\u001b[38;5;241m.\u001b[39mapply(name)\n\u001b[1;32m   1992\u001b[0m \u001b[38;5;28;01mreturn\u001b[39;00m Column(jc)\n",
      "\u001b[0;31mAttributeError\u001b[0m: 'DataFrame' object has no attribute 'isNull'"
     ]
    }
   ],
   "source": [
    "df.isNull()"
   ]
  },
  {
   "cell_type": "code",
   "execution_count": 24,
   "id": "0f943579-0ab9-4a77-b816-de9b9b14cf29",
   "metadata": {},
   "outputs": [
    {
     "name": "stdout",
     "output_type": "stream",
     "text": [
      "+---+\n",
      "|Age|\n",
      "+---+\n",
      "|177|\n",
      "+---+\n",
      "\n"
     ]
    }
   ],
   "source": [
    "df.select(f.sum(f.col('Age').isNull().cast('int')).alias('Age')).show()"
   ]
  },
  {
   "cell_type": "markdown",
   "id": "41a57a25-b9a2-4c57-a896-ba5609de4d4b",
   "metadata": {},
   "source": [
    "# 결측값 처리\n",
    "* .na.drop() 결측값이 있는 행 삭제"
   ]
  },
  {
   "cell_type": "code",
   "execution_count": 25,
   "id": "be412c18-5f3d-418b-a052-182bcd328118",
   "metadata": {},
   "outputs": [
    {
     "name": "stdout",
     "output_type": "stream",
     "text": [
      "+-----------+--------+------+--------------------+------+---+-----------+--------+-----------+--------+\n",
      "|PassengerId|Survived|Pclass|                Name|   Sex|Age|     Ticket|    Fare|      Cabin|Embarked|\n",
      "+-----------+--------+------+--------------------+------+---+-----------+--------+-----------+--------+\n",
      "|          2|       1|     1|Cumings, Mrs. Joh...|female| 38|   PC 17599| 71.2833|        C85|       C|\n",
      "|          4|       1|     1|Futrelle, Mrs. Ja...|female| 35|     113803|    53.1|       C123|       S|\n",
      "|          7|       0|     1|McCarthy, Mr. Tim...|  male| 54|      17463| 51.8625|        E46|       S|\n",
      "|         11|       1|     3|Sandstrom, Miss. ...|female|  4|    PP 9549|    16.7|         G6|       S|\n",
      "|         12|       1|     1|Bonnell, Miss. El...|female| 58|     113783|   26.55|       C103|       S|\n",
      "|         22|       1|     2|Beesley, Mr. Lawr...|  male| 34|     248698|      13|        D56|       S|\n",
      "|         24|       1|     1|Sloper, Mr. Willi...|  male| 28|     113788|    35.5|         A6|       S|\n",
      "|         28|       0|     1|Fortune, Mr. Char...|  male| 19|      19950|     263|C23 C25 C27|       S|\n",
      "|         53|       1|     1|Harper, Mrs. Henr...|female| 49|   PC 17572| 76.7292|        D33|       C|\n",
      "|         55|       0|     1|Ostby, Mr. Engelh...|  male| 65|     113509| 61.9792|        B30|       C|\n",
      "|         63|       0|     1|Harris, Mr. Henry...|  male| 45|      36973|  83.475|        C83|       S|\n",
      "|         67|       1|     2|Nye, Mrs. (Elizab...|female| 29| C.A. 29395|    10.5|        F33|       S|\n",
      "|         76|       0|     3|Moen, Mr. Sigurd ...|  male| 25|     348123|    7.65|      F G73|       S|\n",
      "|         89|       1|     1|Fortune, Miss. Ma...|female| 23|      19950|     263|C23 C25 C27|       S|\n",
      "|         93|       0|     1|Chaffee, Mr. Herb...|  male| 46|W.E.P. 5734|  61.175|        E31|       S|\n",
      "|         97|       0|     1|Goldschmidt, Mr. ...|  male| 71|   PC 17754| 34.6542|         A5|       C|\n",
      "|         98|       1|     1|Greenfield, Mr. W...|  male| 23|   PC 17759| 63.3583|    D10 D12|       C|\n",
      "|        103|       0|     1|White, Mr. Richar...|  male| 21|      35281| 77.2875|        D26|       S|\n",
      "|        111|       0|     1|Porter, Mr. Walte...|  male| 47|     110465|      52|       C110|       S|\n",
      "|        119|       0|     1|Baxter, Mr. Quigg...|  male| 24|   PC 17558|247.5208|    B58 B60|       C|\n",
      "+-----------+--------+------+--------------------+------+---+-----------+--------+-----------+--------+\n",
      "only showing top 20 rows\n",
      "\n"
     ]
    }
   ],
   "source": [
    "df.na.drop().show()"
   ]
  },
  {
   "cell_type": "code",
   "execution_count": 26,
   "id": "f969a6d5-3b16-4938-b38f-75f403f5c3d8",
   "metadata": {},
   "outputs": [
    {
     "name": "stdout",
     "output_type": "stream",
     "text": [
      "<class 'pandas.core.frame.DataFrame'>\n",
      "RangeIndex: 183 entries, 0 to 182\n",
      "Data columns (total 10 columns):\n",
      " #   Column       Non-Null Count  Dtype \n",
      "---  ------       --------------  ----- \n",
      " 0   PassengerId  183 non-null    object\n",
      " 1   Survived     183 non-null    object\n",
      " 2   Pclass       183 non-null    object\n",
      " 3   Name         183 non-null    object\n",
      " 4   Sex          183 non-null    object\n",
      " 5   Age          183 non-null    object\n",
      " 6   Ticket       183 non-null    object\n",
      " 7   Fare         183 non-null    object\n",
      " 8   Cabin        183 non-null    object\n",
      " 9   Embarked     183 non-null    object\n",
      "dtypes: object(10)\n",
      "memory usage: 14.4+ KB\n"
     ]
    }
   ],
   "source": [
    "# 몇개가 삭제됐는지 보기 위해 판다스로 봐줌\n",
    "df.na.drop().toPandas().info()"
   ]
  },
  {
   "cell_type": "markdown",
   "id": "418c9c80-1527-46f1-ae6a-7c4883ebce29",
   "metadata": {},
   "source": [
    "* .na.drop(subset='컬럼명') 특정 컬럼을 기준으로 결측이 있는 행 삭제"
   ]
  },
  {
   "cell_type": "code",
   "execution_count": 27,
   "id": "a9cbf1df-3ac7-49ff-ac29-e3d46f86758d",
   "metadata": {},
   "outputs": [
    {
     "name": "stdout",
     "output_type": "stream",
     "text": [
      "<class 'pandas.core.frame.DataFrame'>\n",
      "RangeIndex: 714 entries, 0 to 713\n",
      "Data columns (total 10 columns):\n",
      " #   Column       Non-Null Count  Dtype \n",
      "---  ------       --------------  ----- \n",
      " 0   PassengerId  714 non-null    object\n",
      " 1   Survived     714 non-null    object\n",
      " 2   Pclass       714 non-null    object\n",
      " 3   Name         714 non-null    object\n",
      " 4   Sex          714 non-null    object\n",
      " 5   Age          714 non-null    object\n",
      " 6   Ticket       714 non-null    object\n",
      " 7   Fare         714 non-null    object\n",
      " 8   Cabin        185 non-null    object\n",
      " 9   Embarked     712 non-null    object\n",
      "dtypes: object(10)\n",
      "memory usage: 55.9+ KB\n"
     ]
    }
   ],
   "source": [
    "# Cabin이 결측인 행 모두 삭제\n",
    "df.na.drop(subset='Age').toPandas().info()"
   ]
  },
  {
   "cell_type": "markdown",
   "id": "e461f7ec-343d-44ef-87e5-622d241bced8",
   "metadata": {},
   "source": [
    "* .na.drop(subset=['컬럼명1','컬럼명2']) 여러 컬럼을 기준으로 결측이 있는 행 삭제"
   ]
  },
  {
   "cell_type": "code",
   "execution_count": 28,
   "id": "91628fc8-ce4f-41e0-b0db-835fab7399eb",
   "metadata": {},
   "outputs": [
    {
     "name": "stdout",
     "output_type": "stream",
     "text": [
      "<class 'pandas.core.frame.DataFrame'>\n",
      "RangeIndex: 712 entries, 0 to 711\n",
      "Data columns (total 10 columns):\n",
      " #   Column       Non-Null Count  Dtype \n",
      "---  ------       --------------  ----- \n",
      " 0   PassengerId  712 non-null    object\n",
      " 1   Survived     712 non-null    object\n",
      " 2   Pclass       712 non-null    object\n",
      " 3   Name         712 non-null    object\n",
      " 4   Sex          712 non-null    object\n",
      " 5   Age          712 non-null    object\n",
      " 6   Ticket       712 non-null    object\n",
      " 7   Fare         712 non-null    object\n",
      " 8   Cabin        183 non-null    object\n",
      " 9   Embarked     712 non-null    object\n",
      "dtypes: object(10)\n",
      "memory usage: 55.8+ KB\n"
     ]
    }
   ],
   "source": [
    "df.na.drop(subset=['Age','Embarked']).toPandas().info()"
   ]
  },
  {
   "cell_type": "code",
   "execution_count": 34,
   "id": "06bfae17-4f5d-4f81-98a0-8f1cac15c186",
   "metadata": {},
   "outputs": [
    {
     "name": "stdout",
     "output_type": "stream",
     "text": [
      "<class 'pandas.core.frame.DataFrame'>\n",
      "RangeIndex: 712 entries, 0 to 711\n",
      "Data columns (total 10 columns):\n",
      " #   Column       Non-Null Count  Dtype  \n",
      "---  ------       --------------  -----  \n",
      " 0   PassengerId  712 non-null    object \n",
      " 1   Survived     712 non-null    object \n",
      " 2   Pclass       712 non-null    object \n",
      " 3   Name         712 non-null    object \n",
      " 4   Sex          712 non-null    object \n",
      " 5   Age          712 non-null    object \n",
      " 6   Ticket       712 non-null    object \n",
      " 7   Fare         712 non-null    object \n",
      " 8   Embarked     712 non-null    object \n",
      " 9   family       712 non-null    float64\n",
      "dtypes: float64(1), object(9)\n",
      "memory usage: 55.8+ KB\n"
     ]
    }
   ],
   "source": [
    "df.drop('Cabin').na.drop().toPandas().info()"
   ]
  },
  {
   "cell_type": "markdown",
   "id": "ea3783e2-b79f-41a1-8645-203bebbbfc72",
   "metadata": {},
   "source": [
    "# 결측값 대치\n",
    "* .na.fill('대치값', subset='컬럼명')"
   ]
  },
  {
   "cell_type": "code",
   "execution_count": 42,
   "id": "eaa55b15-18f8-41a1-8c65-8601ce4118f2",
   "metadata": {},
   "outputs": [
    {
     "name": "stdout",
     "output_type": "stream",
     "text": [
      "+------------------+\n",
      "|          avg(Age)|\n",
      "+------------------+\n",
      "|29.679271708683473|\n",
      "+------------------+\n",
      "\n"
     ]
    }
   ],
   "source": [
    "# f.mean 평균\n",
    "df.select(f.mean('Age')).show()"
   ]
  },
  {
   "cell_type": "code",
   "execution_count": 29,
   "id": "00d99a14-6a68-45f6-8b75-9ee36ddb8f91",
   "metadata": {
    "scrolled": true
   },
   "outputs": [
    {
     "name": "stdout",
     "output_type": "stream",
     "text": [
      "+-----------+--------+------+--------------------+------+---+----------------+-------+-----+--------+\n",
      "|PassengerId|Survived|Pclass|                Name|   Sex|Age|          Ticket|   Fare|Cabin|Embarked|\n",
      "+-----------+--------+------+--------------------+------+---+----------------+-------+-----+--------+\n",
      "|          1|       0|     3|Braund, Mr. Owen ...|  male| 22|       A/5 21171|   7.25| null|       S|\n",
      "|          2|       1|     1|Cumings, Mrs. Joh...|female| 38|        PC 17599|71.2833|  C85|       C|\n",
      "|          3|       1|     3|Heikkinen, Miss. ...|female| 26|STON/O2. 3101282|  7.925| null|       S|\n",
      "|          4|       1|     1|Futrelle, Mrs. Ja...|female| 35|          113803|   53.1| C123|       S|\n",
      "|          5|       0|     3|Allen, Mr. Willia...|  male| 35|          373450|   8.05| null|       S|\n",
      "|          6|       0|     3|    Moran, Mr. James|  male| 29|          330877| 8.4583| null|       Q|\n",
      "|          7|       0|     1|McCarthy, Mr. Tim...|  male| 54|           17463|51.8625|  E46|       S|\n",
      "|          8|       0|     3|Palsson, Master. ...|  male|  2|          349909| 21.075| null|       S|\n",
      "|          9|       1|     3|Johnson, Mrs. Osc...|female| 27|          347742|11.1333| null|       S|\n",
      "|         10|       1|     2|Nasser, Mrs. Nich...|female| 14|          237736|30.0708| null|       C|\n",
      "|         11|       1|     3|Sandstrom, Miss. ...|female|  4|         PP 9549|   16.7|   G6|       S|\n",
      "|         12|       1|     1|Bonnell, Miss. El...|female| 58|          113783|  26.55| C103|       S|\n",
      "|         13|       0|     3|Saundercock, Mr. ...|  male| 20|       A/5. 2151|   8.05| null|       S|\n",
      "|         14|       0|     3|Andersson, Mr. An...|  male| 39|          347082| 31.275| null|       S|\n",
      "|         15|       0|     3|Vestrom, Miss. Hu...|female| 14|          350406| 7.8542| null|       S|\n",
      "|         16|       1|     2|Hewlett, Mrs. (Ma...|female| 55|          248706|     16| null|       S|\n",
      "|         17|       0|     3|Rice, Master. Eugene|  male|  2|          382652| 29.125| null|       Q|\n",
      "|         18|       1|     2|Williams, Mr. Cha...|  male| 29|          244373|     13| null|       S|\n",
      "|         19|       0|     3|Vander Planke, Mr...|female| 31|          345763|     18| null|       S|\n",
      "|         20|       1|     3|Masselmani, Mrs. ...|female| 29|            2649|  7.225| null|       C|\n",
      "+-----------+--------+------+--------------------+------+---+----------------+-------+-----+--------+\n",
      "only showing top 20 rows\n",
      "\n"
     ]
    }
   ],
   "source": [
    "df.na.fill('29', 'Age').show()"
   ]
  },
  {
   "cell_type": "code",
   "execution_count": 53,
   "id": "6d6f2e53-a37f-4571-a6bd-f9009156e9b5",
   "metadata": {},
   "outputs": [
    {
     "name": "stdout",
     "output_type": "stream",
     "text": [
      "+-----------+--------+------+--------------------+------+----+----------------+-------+-----+--------+\n",
      "|PassengerId|Survived|Pclass|                Name|   Sex| Age|          Ticket|   Fare|Cabin|Embarked|\n",
      "+-----------+--------+------+--------------------+------+----+----------------+-------+-----+--------+\n",
      "|          1|       0|     3|Braund, Mr. Owen ...|  male|  22|       A/5 21171|   7.25| null|       S|\n",
      "|          2|       1|     1|Cumings, Mrs. Joh...|female|  38|        PC 17599|71.2833|  C85|       C|\n",
      "|          3|       1|     3|Heikkinen, Miss. ...|female|  26|STON/O2. 3101282|  7.925| null|       S|\n",
      "|          4|       1|     1|Futrelle, Mrs. Ja...|female|  35|          113803|   53.1| C123|       S|\n",
      "|          5|       0|     3|Allen, Mr. Willia...|  male|  35|          373450|   8.05| null|       S|\n",
      "|          6|       0|     3|    Moran, Mr. James|  male|null|          330877| 8.4583| null|       Q|\n",
      "|          7|       0|     1|McCarthy, Mr. Tim...|  male|  54|           17463|51.8625|  E46|       S|\n",
      "|          8|       0|     3|Palsson, Master. ...|  male|   2|          349909| 21.075| null|       S|\n",
      "|          9|       1|     3|Johnson, Mrs. Osc...|female|  27|          347742|11.1333| null|       S|\n",
      "|         10|       1|     2|Nasser, Mrs. Nich...|female|  14|          237736|30.0708| null|       C|\n",
      "|         11|       1|     3|Sandstrom, Miss. ...|female|   4|         PP 9549|   16.7|   G6|       S|\n",
      "|         12|       1|     1|Bonnell, Miss. El...|female|  58|          113783|  26.55| C103|       S|\n",
      "|         13|       0|     3|Saundercock, Mr. ...|  male|  20|       A/5. 2151|   8.05| null|       S|\n",
      "|         14|       0|     3|Andersson, Mr. An...|  male|  39|          347082| 31.275| null|       S|\n",
      "|         15|       0|     3|Vestrom, Miss. Hu...|female|  14|          350406| 7.8542| null|       S|\n",
      "|         16|       1|     2|Hewlett, Mrs. (Ma...|female|  55|          248706|     16| null|       S|\n",
      "|         17|       0|     3|Rice, Master. Eugene|  male|   2|          382652| 29.125| null|       Q|\n",
      "|         18|       1|     2|Williams, Mr. Cha...|  male|null|          244373|     13| null|       S|\n",
      "|         19|       0|     3|Vander Planke, Mr...|female|  31|          345763|     18| null|       S|\n",
      "|         20|       1|     3|Masselmani, Mrs. ...|female|null|            2649|  7.225| null|       C|\n",
      "+-----------+--------+------+--------------------+------+----+----------------+-------+-----+--------+\n",
      "only showing top 20 rows\n",
      "\n"
     ]
    }
   ],
   "source": [
    "df.na.fill('29', 'Age').show()"
   ]
  },
  {
   "cell_type": "code",
   "execution_count": 54,
   "id": "c59feadd-1419-4d66-9c37-10e505ff6ffd",
   "metadata": {},
   "outputs": [
    {
     "name": "stdout",
     "output_type": "stream",
     "text": [
      "+-----------+--------+------+--------------------+------+----+----------------+-------+-----+--------+\n",
      "|PassengerId|Survived|Pclass|                Name|   Sex| Age|          Ticket|   Fare|Cabin|Embarked|\n",
      "+-----------+--------+------+--------------------+------+----+----------------+-------+-----+--------+\n",
      "|          1|       0|     3|Braund, Mr. Owen ...|  male|  22|       A/5 21171|   7.25| null|       S|\n",
      "|          2|       1|     1|Cumings, Mrs. Joh...|female|  38|        PC 17599|71.2833|  C85|       C|\n",
      "|          3|       1|     3|Heikkinen, Miss. ...|female|  26|STON/O2. 3101282|  7.925| null|       S|\n",
      "|          4|       1|     1|Futrelle, Mrs. Ja...|female|  35|          113803|   53.1| C123|       S|\n",
      "|          5|       0|     3|Allen, Mr. Willia...|  male|  35|          373450|   8.05| null|       S|\n",
      "|          6|       0|     3|    Moran, Mr. James|  male|null|          330877| 8.4583| null|       Q|\n",
      "|          7|       0|     1|McCarthy, Mr. Tim...|  male|  54|           17463|51.8625|  E46|       S|\n",
      "|          8|       0|     3|Palsson, Master. ...|  male|   2|          349909| 21.075| null|       S|\n",
      "|          9|       1|     3|Johnson, Mrs. Osc...|female|  27|          347742|11.1333| null|       S|\n",
      "|         10|       1|     2|Nasser, Mrs. Nich...|female|  14|          237736|30.0708| null|       C|\n",
      "|         11|       1|     3|Sandstrom, Miss. ...|female|   4|         PP 9549|   16.7|   G6|       S|\n",
      "|         12|       1|     1|Bonnell, Miss. El...|female|  58|          113783|  26.55| C103|       S|\n",
      "|         13|       0|     3|Saundercock, Mr. ...|  male|  20|       A/5. 2151|   8.05| null|       S|\n",
      "|         14|       0|     3|Andersson, Mr. An...|  male|  39|          347082| 31.275| null|       S|\n",
      "|         15|       0|     3|Vestrom, Miss. Hu...|female|  14|          350406| 7.8542| null|       S|\n",
      "|         16|       1|     2|Hewlett, Mrs. (Ma...|female|  55|          248706|     16| null|       S|\n",
      "|         17|       0|     3|Rice, Master. Eugene|  male|   2|          382652| 29.125| null|       Q|\n",
      "|         18|       1|     2|Williams, Mr. Cha...|  male|null|          244373|     13| null|       S|\n",
      "|         19|       0|     3|Vander Planke, Mr...|female|  31|          345763|     18| null|       S|\n",
      "|         20|       1|     3|Masselmani, Mrs. ...|female|null|            2649|  7.225| null|       C|\n",
      "+-----------+--------+------+--------------------+------+----+----------------+-------+-----+--------+\n",
      "only showing top 20 rows\n",
      "\n"
     ]
    }
   ],
   "source": [
    "df.show()"
   ]
  },
  {
   "cell_type": "code",
   "execution_count": 55,
   "id": "ea2e0a3b-eac4-48b3-bca1-796e0972f6b6",
   "metadata": {},
   "outputs": [
    {
     "name": "stdout",
     "output_type": "stream",
     "text": [
      "<class 'pandas.core.frame.DataFrame'>\n",
      "RangeIndex: 891 entries, 0 to 890\n",
      "Data columns (total 10 columns):\n",
      " #   Column       Non-Null Count  Dtype  \n",
      "---  ------       --------------  -----  \n",
      " 0   PassengerId  891 non-null    object \n",
      " 1   Survived     891 non-null    int32  \n",
      " 2   Pclass       891 non-null    object \n",
      " 3   Name         891 non-null    object \n",
      " 4   Sex          891 non-null    object \n",
      " 5   Age          714 non-null    float64\n",
      " 6   Ticket       891 non-null    object \n",
      " 7   Fare         891 non-null    object \n",
      " 8   Cabin        204 non-null    object \n",
      " 9   Embarked     889 non-null    object \n",
      "dtypes: float64(1), int32(1), object(8)\n",
      "memory usage: 66.3+ KB\n"
     ]
    }
   ],
   "source": [
    "df.toPandas().info()"
   ]
  },
  {
   "cell_type": "markdown",
   "id": "0a47510f-31b0-42e4-8ba1-641ce60f5b6e",
   "metadata": {},
   "source": [
    "# 컬럼 데이터 타입 바꾸기\n",
    "* .withColumn('컬럼명', '컬럼명'.cast('자료형'))"
   ]
  },
  {
   "cell_type": "code",
   "execution_count": 56,
   "id": "8ec85c53-5149-49f7-92ce-aedb38e46168",
   "metadata": {},
   "outputs": [
    {
     "name": "stdout",
     "output_type": "stream",
     "text": [
      "root\n",
      " |-- PassengerId: string (nullable = true)\n",
      " |-- Survived: integer (nullable = true)\n",
      " |-- Pclass: string (nullable = true)\n",
      " |-- Name: string (nullable = true)\n",
      " |-- Sex: string (nullable = true)\n",
      " |-- Age: integer (nullable = true)\n",
      " |-- Ticket: string (nullable = true)\n",
      " |-- Fare: string (nullable = true)\n",
      " |-- Cabin: string (nullable = true)\n",
      " |-- Embarked: string (nullable = true)\n",
      "\n"
     ]
    }
   ],
   "source": [
    "df.printSchema()"
   ]
  },
  {
   "cell_type": "code",
   "execution_count": 48,
   "id": "cd10eee8-2b0d-4fc0-ae66-bb5d6228c686",
   "metadata": {},
   "outputs": [],
   "source": [
    "# Age 컬럼의 데이터 타입을 int\n",
    "# 아래 코드 둘다 가능!\n",
    "# df.withColumn('Age', f.col('Age').cast('Integer')).toPandas().info()\n",
    "# df.withColumn('Age', df['Age'].cast('Integer')).toPandas().info()\n",
    "df = df.withColumn('Age', df['Age'].cast('Integer'))"
   ]
  },
  {
   "cell_type": "code",
   "execution_count": 49,
   "id": "67d4787d-4788-453d-bf79-d5dbc19e5479",
   "metadata": {},
   "outputs": [],
   "source": [
    "# Survived 를 int 로\n",
    "df = df.withColumn('Survived', df['Survived'].cast('Integer'))"
   ]
  },
  {
   "cell_type": "code",
   "execution_count": 50,
   "id": "0bccac90-a1a3-4681-b9d1-b0b33c7eecca",
   "metadata": {},
   "outputs": [
    {
     "name": "stdout",
     "output_type": "stream",
     "text": [
      "root\n",
      " |-- PassengerId: string (nullable = true)\n",
      " |-- Survived: integer (nullable = true)\n",
      " |-- Pclass: string (nullable = true)\n",
      " |-- Name: string (nullable = true)\n",
      " |-- Sex: string (nullable = true)\n",
      " |-- Age: integer (nullable = true)\n",
      " |-- Ticket: string (nullable = true)\n",
      " |-- Fare: string (nullable = true)\n",
      " |-- Cabin: string (nullable = true)\n",
      " |-- Embarked: string (nullable = true)\n",
      "\n"
     ]
    }
   ],
   "source": [
    "df.printSchema()"
   ]
  },
  {
   "cell_type": "markdown",
   "id": "d50b09b3-816c-4fea-ad64-497d58f1f697",
   "metadata": {},
   "source": [
    "# pyspark의 imputer를 사용한 결측값 처리"
   ]
  },
  {
   "cell_type": "code",
   "execution_count": null,
   "id": "677cd960-054c-4e0a-a705-3203ab599498",
   "metadata": {},
   "outputs": [],
   "source": [
    "df.printSchema()"
   ]
  },
  {
   "cell_type": "code",
   "execution_count": 57,
   "id": "65c816d1-fb29-4452-8c10-c8b866daaf56",
   "metadata": {},
   "outputs": [
    {
     "name": "stdout",
     "output_type": "stream",
     "text": [
      "+-------------------------------+\n",
      "|sum(CAST((Age IS NULL) AS INT))|\n",
      "+-------------------------------+\n",
      "|                            177|\n",
      "+-------------------------------+\n",
      "\n"
     ]
    }
   ],
   "source": [
    "df.select(f.sum(df['Age'].isNull().cast('int'))).show()"
   ]
  },
  {
   "cell_type": "code",
   "execution_count": 58,
   "id": "a67a9157-24b6-4919-95e8-8720e69d39a3",
   "metadata": {},
   "outputs": [],
   "source": [
    "df = df.withColumn('Age', df['Age'].cast('Integer'))"
   ]
  },
  {
   "cell_type": "code",
   "execution_count": 59,
   "id": "c87edd0a-3001-4140-a3d0-e886343e0723",
   "metadata": {},
   "outputs": [
    {
     "name": "stdout",
     "output_type": "stream",
     "text": [
      "root\n",
      " |-- PassengerId: string (nullable = true)\n",
      " |-- Survived: integer (nullable = true)\n",
      " |-- Pclass: string (nullable = true)\n",
      " |-- Name: string (nullable = true)\n",
      " |-- Sex: string (nullable = true)\n",
      " |-- Age: integer (nullable = true)\n",
      " |-- Ticket: string (nullable = true)\n",
      " |-- Fare: string (nullable = true)\n",
      " |-- Cabin: string (nullable = true)\n",
      " |-- Embarked: string (nullable = true)\n",
      "\n"
     ]
    }
   ],
   "source": [
    "df.printSchema()"
   ]
  },
  {
   "cell_type": "code",
   "execution_count": 60,
   "id": "50dc5069-adc2-4e75-bb1a-fc0f697c8ebd",
   "metadata": {},
   "outputs": [],
   "source": [
    "from pyspark.ml.feature import Imputer"
   ]
  },
  {
   "cell_type": "code",
   "execution_count": 62,
   "id": "429e91e5-1a74-4877-b210-01f40bcd4eab",
   "metadata": {},
   "outputs": [
    {
     "name": "stdout",
     "output_type": "stream",
     "text": [
      "+-----------+--------+------+--------------------+------+---+----------------+-------+-----+--------+\n",
      "|PassengerId|Survived|Pclass|                Name|   Sex|Age|          Ticket|   Fare|Cabin|Embarked|\n",
      "+-----------+--------+------+--------------------+------+---+----------------+-------+-----+--------+\n",
      "|          1|       0|     3|Braund, Mr. Owen ...|  male| 22|       A/5 21171|   7.25| null|       S|\n",
      "|          2|       1|     1|Cumings, Mrs. Joh...|female| 38|        PC 17599|71.2833|  C85|       C|\n",
      "|          3|       1|     3|Heikkinen, Miss. ...|female| 26|STON/O2. 3101282|  7.925| null|       S|\n",
      "|          4|       1|     1|Futrelle, Mrs. Ja...|female| 35|          113803|   53.1| C123|       S|\n",
      "|          5|       0|     3|Allen, Mr. Willia...|  male| 35|          373450|   8.05| null|       S|\n",
      "|          6|       0|     3|    Moran, Mr. James|  male| 29|          330877| 8.4583| null|       Q|\n",
      "|          7|       0|     1|McCarthy, Mr. Tim...|  male| 54|           17463|51.8625|  E46|       S|\n",
      "|          8|       0|     3|Palsson, Master. ...|  male|  2|          349909| 21.075| null|       S|\n",
      "|          9|       1|     3|Johnson, Mrs. Osc...|female| 27|          347742|11.1333| null|       S|\n",
      "|         10|       1|     2|Nasser, Mrs. Nich...|female| 14|          237736|30.0708| null|       C|\n",
      "|         11|       1|     3|Sandstrom, Miss. ...|female|  4|         PP 9549|   16.7|   G6|       S|\n",
      "|         12|       1|     1|Bonnell, Miss. El...|female| 58|          113783|  26.55| C103|       S|\n",
      "|         13|       0|     3|Saundercock, Mr. ...|  male| 20|       A/5. 2151|   8.05| null|       S|\n",
      "|         14|       0|     3|Andersson, Mr. An...|  male| 39|          347082| 31.275| null|       S|\n",
      "|         15|       0|     3|Vestrom, Miss. Hu...|female| 14|          350406| 7.8542| null|       S|\n",
      "|         16|       1|     2|Hewlett, Mrs. (Ma...|female| 55|          248706|     16| null|       S|\n",
      "|         17|       0|     3|Rice, Master. Eugene|  male|  2|          382652| 29.125| null|       Q|\n",
      "|         18|       1|     2|Williams, Mr. Cha...|  male| 29|          244373|     13| null|       S|\n",
      "|         19|       0|     3|Vander Planke, Mr...|female| 31|          345763|     18| null|       S|\n",
      "|         20|       1|     3|Masselmani, Mrs. ...|female| 29|            2649|  7.225| null|       C|\n",
      "+-----------+--------+------+--------------------+------+---+----------------+-------+-----+--------+\n",
      "only showing top 20 rows\n",
      "\n"
     ]
    }
   ],
   "source": [
    "# setStrategy('mean', 'median', 'mode') mode는 최빈값(가장많이나온값)\n",
    "imputer = Imputer(inputCols=['Age'], outputCols=['Age']).setStrategy('mean')\n",
    "imputer.fit(df).transform(df).show()"
   ]
  },
  {
   "cell_type": "markdown",
   "id": "ce8e3968-1b25-4671-8868-62065d8835df",
   "metadata": {},
   "source": [
    "# 원하는 조건의 행/컬럼 필터링 하기\n",
    ".filter(조건)"
   ]
  },
  {
   "cell_type": "code",
   "execution_count": 63,
   "id": "a644d16d-5d55-4f45-9363-3404984996ec",
   "metadata": {},
   "outputs": [
    {
     "name": "stdout",
     "output_type": "stream",
     "text": [
      "+-----------+--------+------+--------------------+------+---+----------+-------+-----+--------+\n",
      "|PassengerId|Survived|Pclass|                Name|   Sex|Age|    Ticket|   Fare|Cabin|Embarked|\n",
      "+-----------+--------+------+--------------------+------+---+----------+-------+-----+--------+\n",
      "|          2|       1|     1|Cumings, Mrs. Joh...|female| 38|  PC 17599|71.2833|  C85|       C|\n",
      "|          4|       1|     1|Futrelle, Mrs. Ja...|female| 35|    113803|   53.1| C123|       S|\n",
      "|          5|       0|     3|Allen, Mr. Willia...|  male| 35|    373450|   8.05| null|       S|\n",
      "|          7|       0|     1|McCarthy, Mr. Tim...|  male| 54|     17463|51.8625|  E46|       S|\n",
      "|         12|       1|     1|Bonnell, Miss. El...|female| 58|    113783|  26.55| C103|       S|\n",
      "|         14|       0|     3|Andersson, Mr. An...|  male| 39|    347082| 31.275| null|       S|\n",
      "|         16|       1|     2|Hewlett, Mrs. (Ma...|female| 55|    248706|     16| null|       S|\n",
      "|         19|       0|     3|Vander Planke, Mr...|female| 31|    345763|     18| null|       S|\n",
      "|         21|       0|     2|Fynney, Mr. Joseph J|  male| 35|    239865|     26| null|       S|\n",
      "|         22|       1|     2|Beesley, Mr. Lawr...|  male| 34|    248698|     13|  D56|       S|\n",
      "|         26|       1|     3|Asplund, Mrs. Car...|female| 38|    347077|31.3875| null|       S|\n",
      "|         31|       0|     1|Uruchurtu, Don. M...|  male| 40|  PC 17601|27.7208| null|       C|\n",
      "|         34|       0|     2|Wheadon, Mr. Edwa...|  male| 66|C.A. 24579|   10.5| null|       S|\n",
      "|         36|       0|     1|Holverson, Mr. Al...|  male| 42|    113789|     52| null|       S|\n",
      "|         41|       0|     3|Ahlin, Mrs. Johan...|female| 40|      7546|  9.475| null|       S|\n",
      "|         53|       1|     1|Harper, Mrs. Henr...|female| 49|  PC 17572|76.7292|  D33|       C|\n",
      "|         55|       0|     1|Ostby, Mr. Engelh...|  male| 65|    113509|61.9792|  B30|       C|\n",
      "|         62|       1|     1| Icard, Miss. Amelie|female| 38|    113572|     80|  B28|    null|\n",
      "|         63|       0|     1|Harris, Mr. Henry...|  male| 45|     36973| 83.475|  C83|       S|\n",
      "|         71|       0|     2|Jenkin, Mr. Steph...|  male| 32|C.A. 33111|   10.5| null|       S|\n",
      "+-----------+--------+------+--------------------+------+---+----------+-------+-----+--------+\n",
      "only showing top 20 rows\n",
      "\n"
     ]
    }
   ],
   "source": [
    "df.filter('Age > 29').show()"
   ]
  },
  {
   "cell_type": "markdown",
   "id": "88da4df7-e379-4cd3-886c-c37d29c6b7de",
   "metadata": {},
   "source": [
    "# 2개 이상의 조건으로 검색할 때\n",
    "* pandas의 .loc와 비슷한 문법 .loc => .filter"
   ]
  },
  {
   "cell_type": "code",
   "execution_count": 65,
   "id": "00a79b8a-7966-4991-8d26-f7627fcbde41",
   "metadata": {},
   "outputs": [
    {
     "name": "stdout",
     "output_type": "stream",
     "text": [
      "+-----------+--------+------+--------------------+------+---+----------------+-------+-----+--------+\n",
      "|PassengerId|Survived|Pclass|                Name|   Sex|Age|          Ticket|   Fare|Cabin|Embarked|\n",
      "+-----------+--------+------+--------------------+------+---+----------------+-------+-----+--------+\n",
      "|          1|       0|     3|Braund, Mr. Owen ...|  male| 22|       A/5 21171|   7.25| null|       S|\n",
      "|          2|       1|     1|Cumings, Mrs. Joh...|female| 38|        PC 17599|71.2833|  C85|       C|\n",
      "|          3|       1|     3|Heikkinen, Miss. ...|female| 26|STON/O2. 3101282|  7.925| null|       S|\n",
      "|          4|       1|     1|Futrelle, Mrs. Ja...|female| 35|          113803|   53.1| C123|       S|\n",
      "|          5|       0|     3|Allen, Mr. Willia...|  male| 35|          373450|   8.05| null|       S|\n",
      "|          9|       1|     3|Johnson, Mrs. Osc...|female| 27|          347742|11.1333| null|       S|\n",
      "|         14|       0|     3|Andersson, Mr. An...|  male| 39|          347082| 31.275| null|       S|\n",
      "|         19|       0|     3|Vander Planke, Mr...|female| 31|          345763|     18| null|       S|\n",
      "|         21|       0|     2|Fynney, Mr. Joseph J|  male| 35|          239865|     26| null|       S|\n",
      "|         22|       1|     2|Beesley, Mr. Lawr...|  male| 34|          248698|     13|  D56|       S|\n",
      "|         24|       1|     1|Sloper, Mr. Willi...|  male| 28|          113788|   35.5|   A6|       S|\n",
      "|         26|       1|     3|Asplund, Mrs. Car...|female| 38|          347077|31.3875| null|       S|\n",
      "|         31|       0|     1|Uruchurtu, Don. M...|  male| 40|        PC 17601|27.7208| null|       C|\n",
      "|         35|       0|     1|Meyer, Mr. Edgar ...|  male| 28|        PC 17604|82.1708| null|       C|\n",
      "|         36|       0|     1|Holverson, Mr. Al...|  male| 42|          113789|     52| null|       S|\n",
      "|         38|       0|     3|Cann, Mr. Ernest ...|  male| 21|      A./5. 2152|   8.05| null|       S|\n",
      "|         41|       0|     3|Ahlin, Mrs. Johan...|female| 40|            7546|  9.475| null|       S|\n",
      "|         42|       0|     2|Turpin, Mrs. Will...|female| 27|           11668|     21| null|       S|\n",
      "|         52|       0|     3|Nosworthy, Mr. Ri...|  male| 21|      A/4. 39886|    7.8| null|       S|\n",
      "|         53|       1|     1|Harper, Mrs. Henr...|female| 49|        PC 17572|76.7292|  D33|       C|\n",
      "+-----------+--------+------+--------------------+------+---+----------------+-------+-----+--------+\n",
      "only showing top 20 rows\n",
      "\n"
     ]
    }
   ],
   "source": [
    "# 나이가 20살 초과 50살 미만\n",
    "df.filter((df['Age'] > 20) & (df['Age'] < 50)).show()"
   ]
  },
  {
   "cell_type": "code",
   "execution_count": 66,
   "id": "41bf3249-f78e-4b6d-a3e4-fce554aee097",
   "metadata": {},
   "outputs": [
    {
     "name": "stdout",
     "output_type": "stream",
     "text": [
      "+-----------+--------+------+--------------------+----+---+------------+-------+-----+--------+\n",
      "|PassengerId|Survived|Pclass|                Name| Sex|Age|      Ticket|   Fare|Cabin|Embarked|\n",
      "+-----------+--------+------+--------------------+----+---+------------+-------+-----+--------+\n",
      "|          1|       0|     3|Braund, Mr. Owen ...|male| 22|   A/5 21171|   7.25| null|       S|\n",
      "|          5|       0|     3|Allen, Mr. Willia...|male| 35|      373450|   8.05| null|       S|\n",
      "|         14|       0|     3|Andersson, Mr. An...|male| 39|      347082| 31.275| null|       S|\n",
      "|         21|       0|     2|Fynney, Mr. Joseph J|male| 35|      239865|     26| null|       S|\n",
      "|         22|       1|     2|Beesley, Mr. Lawr...|male| 34|      248698|     13|  D56|       S|\n",
      "|         24|       1|     1|Sloper, Mr. Willi...|male| 28|      113788|   35.5|   A6|       S|\n",
      "|         31|       0|     1|Uruchurtu, Don. M...|male| 40|    PC 17601|27.7208| null|       C|\n",
      "|         35|       0|     1|Meyer, Mr. Edgar ...|male| 28|    PC 17604|82.1708| null|       C|\n",
      "|         36|       0|     1|Holverson, Mr. Al...|male| 42|      113789|     52| null|       S|\n",
      "|         38|       0|     3|Cann, Mr. Ernest ...|male| 21|  A./5. 2152|   8.05| null|       S|\n",
      "|         52|       0|     3|Nosworthy, Mr. Ri...|male| 21|  A/4. 39886|    7.8| null|       S|\n",
      "|         58|       0|     3| Novel, Mr. Mansouer|male| 28|        2697| 7.2292| null|       C|\n",
      "|         61|       0|     3|Sirayanian, Mr. O...|male| 22|        2669| 7.2292| null|       C|\n",
      "|         63|       0|     1|Harris, Mr. Henry...|male| 45|       36973| 83.475|  C83|       S|\n",
      "|         70|       0|     3|   Kink, Mr. Vincenz|male| 26|      315151| 8.6625| null|       S|\n",
      "|         71|       0|     2|Jenkin, Mr. Steph...|male| 32|  C.A. 33111|   10.5| null|       S|\n",
      "|         73|       0|     2|Hood, Mr. Ambrose Jr|male| 21|S.O.C. 14879|   73.5| null|       S|\n",
      "|         74|       0|     3|Chronopoulos, Mr....|male| 26|        2680|14.4542| null|       C|\n",
      "|         75|       1|     3|       Bing, Mr. Lee|male| 32|        1601|56.4958| null|       S|\n",
      "|         76|       0|     3|Moen, Mr. Sigurd ...|male| 25|      348123|   7.65|F G73|       S|\n",
      "+-----------+--------+------+--------------------+----+---+------------+-------+-----+--------+\n",
      "only showing top 20 rows\n",
      "\n"
     ]
    }
   ],
   "source": [
    "# 나이가 20살 초과 50살 미만이면서 남자인 사람\n",
    "df.filter((df['Age'] > 20) & (df['Age'] < 50) & (df['Sex'] == 'male')).show()"
   ]
  },
  {
   "cell_type": "markdown",
   "id": "04f3e4d8-a87f-4735-ae9d-02682c3327dd",
   "metadata": {},
   "source": [
    "# 원하는 조건으로 필터링 후 특정 컬럼만 보기"
   ]
  },
  {
   "cell_type": "code",
   "execution_count": 67,
   "id": "5a1491bc-1a01-4caa-b2fe-7967fa877aa7",
   "metadata": {},
   "outputs": [
    {
     "name": "stdout",
     "output_type": "stream",
     "text": [
      "+--------------------+---+----+\n",
      "|                Name|Age| Sex|\n",
      "+--------------------+---+----+\n",
      "|Braund, Mr. Owen ...| 22|male|\n",
      "|Allen, Mr. Willia...| 35|male|\n",
      "|Andersson, Mr. An...| 39|male|\n",
      "|Fynney, Mr. Joseph J| 35|male|\n",
      "|Beesley, Mr. Lawr...| 34|male|\n",
      "|Sloper, Mr. Willi...| 28|male|\n",
      "|Uruchurtu, Don. M...| 40|male|\n",
      "|Meyer, Mr. Edgar ...| 28|male|\n",
      "|Holverson, Mr. Al...| 42|male|\n",
      "|Cann, Mr. Ernest ...| 21|male|\n",
      "|Nosworthy, Mr. Ri...| 21|male|\n",
      "| Novel, Mr. Mansouer| 28|male|\n",
      "|Sirayanian, Mr. O...| 22|male|\n",
      "|Harris, Mr. Henry...| 45|male|\n",
      "|   Kink, Mr. Vincenz| 26|male|\n",
      "|Jenkin, Mr. Steph...| 32|male|\n",
      "|Hood, Mr. Ambrose Jr| 21|male|\n",
      "|Chronopoulos, Mr....| 26|male|\n",
      "|       Bing, Mr. Lee| 32|male|\n",
      "|Moen, Mr. Sigurd ...| 25|male|\n",
      "+--------------------+---+----+\n",
      "only showing top 20 rows\n",
      "\n"
     ]
    }
   ],
   "source": [
    "df.filter((df['Age'] > 20) & (df['Age'] < 50) & (df['Sex'] == 'male')).select(['Name','Age','Sex']).show()"
   ]
  },
  {
   "cell_type": "markdown",
   "id": "5bd3394f-d63c-4bb0-9617-f3b47c7aeb03",
   "metadata": {},
   "source": [
    "# 특정 조건이 아닌 행 보기 ~로 부정"
   ]
  },
  {
   "cell_type": "code",
   "execution_count": 68,
   "id": "1d026cd9-9207-4cd6-a6e1-dd8736b49153",
   "metadata": {},
   "outputs": [
    {
     "name": "stdout",
     "output_type": "stream",
     "text": [
      "+-----------+--------+------+--------------------+------+---+----------------+-------+-----+--------+\n",
      "|PassengerId|Survived|Pclass|                Name|   Sex|Age|          Ticket|   Fare|Cabin|Embarked|\n",
      "+-----------+--------+------+--------------------+------+---+----------------+-------+-----+--------+\n",
      "|          3|       1|     3|Heikkinen, Miss. ...|female| 26|STON/O2. 3101282|  7.925| null|       S|\n",
      "|          9|       1|     3|Johnson, Mrs. Osc...|female| 27|          347742|11.1333| null|       S|\n",
      "|         10|       1|     2|Nasser, Mrs. Nich...|female| 14|          237736|30.0708| null|       C|\n",
      "|         11|       1|     3|Sandstrom, Miss. ...|female|  4|         PP 9549|   16.7|   G6|       S|\n",
      "|         15|       0|     3|Vestrom, Miss. Hu...|female| 14|          350406| 7.8542| null|       S|\n",
      "|         23|       1|     3|\"McGowan, Miss. A...|female| 15|          330923| 8.0292| null|       Q|\n",
      "|         25|       0|     3|Palsson, Miss. To...|female|  8|          349909| 21.075| null|       S|\n",
      "|         39|       0|     3|Vander Planke, Mi...|female| 18|          345764|     18| null|       S|\n",
      "|         40|       1|     3|Nicola-Yarred, Mi...|female| 14|            2651|11.2417| null|       C|\n",
      "|         42|       0|     2|Turpin, Mrs. Will...|female| 27|           11668|     21| null|       S|\n",
      "|         44|       1|     2|Laroche, Miss. Si...|female|  3|   SC/Paris 2123|41.5792| null|       C|\n",
      "|         45|       1|     3|Devaney, Miss. Ma...|female| 19|          330958| 7.8792| null|       Q|\n",
      "|         50|       0|     3|Arnold-Franchi, M...|female| 18|          349237|   17.8| null|       S|\n",
      "|         54|       1|     2|Faunthorpe, Mrs. ...|female| 29|            2926|     26| null|       S|\n",
      "|         57|       1|     2|   Rugg, Miss. Emily|female| 21|      C.A. 31026|   10.5| null|       S|\n",
      "|         59|       1|     2|West, Miss. Const...|female|  5|      C.A. 34651|  27.75| null|       S|\n",
      "|         67|       1|     2|Nye, Mrs. (Elizab...|female| 29|      C.A. 29395|   10.5|  F33|       S|\n",
      "|         69|       1|     3|Andersson, Miss. ...|female| 17|         3101281|  7.925| null|       S|\n",
      "|         72|       0|     3|Goodwin, Miss. Li...|female| 16|         CA 2144|   46.9| null|       S|\n",
      "|         80|       1|     3|Dowdell, Miss. El...|female| 30|          364516| 12.475| null|       S|\n",
      "+-----------+--------+------+--------------------+------+---+----------------+-------+-----+--------+\n",
      "only showing top 20 rows\n",
      "\n"
     ]
    }
   ],
   "source": [
    "df.filter(~(df['Age'] > 30) & ~(df['Sex'] == 'male')).show()"
   ]
  },
  {
   "cell_type": "markdown",
   "id": "144a18d1-28c7-4d66-bf62-1c87da08119e",
   "metadata": {},
   "source": [
    "# groupby 연산하기\n",
    "* .groupby('컬럼명').연산함수(sum, mean, max, min)"
   ]
  },
  {
   "cell_type": "code",
   "execution_count": 69,
   "id": "5801a9ff-edde-4696-8177-ac51986fd39e",
   "metadata": {},
   "outputs": [
    {
     "name": "stdout",
     "output_type": "stream",
     "text": [
      "+----+-------------------+--------+\n",
      "| Age|      avg(Survived)|avg(Age)|\n",
      "+----+-------------------+--------+\n",
      "|  31|0.47058823529411764|    31.0|\n",
      "|  65|                0.0|    65.0|\n",
      "|  53|                1.0|    53.0|\n",
      "|  34|              0.375|    34.0|\n",
      "|  28|0.25925925925925924|    28.0|\n",
      "|  26| 0.3333333333333333|    26.0|\n",
      "|  27| 0.6111111111111112|    27.0|\n",
      "|  44| 0.3333333333333333|    44.0|\n",
      "|  12|                1.0|    12.0|\n",
      "|  22| 0.4074074074074074|    22.0|\n",
      "|  47| 0.1111111111111111|    47.0|\n",
      "|null| 0.2937853107344633|    null|\n",
      "|   1| 0.7142857142857143|     1.0|\n",
      "|  52|                0.5|    52.0|\n",
      "|  13|                1.0|    13.0|\n",
      "|  16|0.35294117647058826|    16.0|\n",
      "|   6| 0.6666666666666666|     6.0|\n",
      "|   3| 0.8333333333333334|     3.0|\n",
      "|  20|             0.1875|    20.0|\n",
      "|  40|                0.4|    40.0|\n",
      "+----+-------------------+--------+\n",
      "only showing top 20 rows\n",
      "\n"
     ]
    }
   ],
   "source": [
    "df.groupby('Age').mean().show()"
   ]
  },
  {
   "cell_type": "markdown",
   "id": "965ce507-5154-4917-b0ed-b40c0400b38f",
   "metadata": {},
   "source": [
    "# groupby 후 컬럼별 다른 연산 적용하기\n",
    "* 연산함수는 mean median .. \n",
    "* .agg({'컬럼명' : '연산함수', '컬럼명2' : '연산함수2'}).show()"
   ]
  },
  {
   "cell_type": "code",
   "execution_count": 70,
   "id": "f70fbd91-ea7c-4354-9453-4ef4b1f49d78",
   "metadata": {},
   "outputs": [
    {
     "name": "stdout",
     "output_type": "stream",
     "text": [
      "+---------------+--------+\n",
      "|count(Embarked)|max(Age)|\n",
      "+---------------+--------+\n",
      "|            889|      80|\n",
      "+---------------+--------+\n",
      "\n"
     ]
    }
   ],
   "source": [
    "# 딕셔너리에서 컬럼명이 중복되면 마지막 컬럼명만 나옴 다 나오게 하려면 아래아래 코드 참고\n",
    "df.agg({'Age':'mean', 'Embarked': 'count', 'Age':'max'}).show()"
   ]
  },
  {
   "cell_type": "code",
   "execution_count": 71,
   "id": "17d1b366-9f24-409e-9b97-61b921e78f52",
   "metadata": {},
   "outputs": [
    {
     "name": "stdout",
     "output_type": "stream",
     "text": [
      "+------------------+--------+--------+\n",
      "|          avg(Age)|max(Age)|min(Age)|\n",
      "+------------------+--------+--------+\n",
      "|29.679271708683473|      80|       0|\n",
      "+------------------+--------+--------+\n",
      "\n"
     ]
    }
   ],
   "source": [
    "# 만약 컬럼명이 동일하면 마지막 컬럼만 나오는데 컬럼명이 중복되더라도 다 보이게 하려면 아래와 같이 f.연산함수\n",
    "df.agg(f.mean(df['Age']), f.max(df['Age']), f.min(df['Age'])).show()"
   ]
  },
  {
   "cell_type": "code",
   "execution_count": 72,
   "id": "8cf5fd8f-c9d5-4a4e-a949-18a2b9675252",
   "metadata": {},
   "outputs": [
    {
     "name": "stdout",
     "output_type": "stream",
     "text": [
      "+------+------+-------------+\n",
      "|   Sex|Pclass|sum(Survived)|\n",
      "+------+------+-------------+\n",
      "|female|     3|           72|\n",
      "|  male|     2|           17|\n",
      "|female|     1|           91|\n",
      "|  male|     1|           45|\n",
      "|  male|     3|           47|\n",
      "|female|     2|           70|\n",
      "+------+------+-------------+\n",
      "\n"
     ]
    }
   ],
   "source": [
    "# 성별별, Pclass별 생존자 수 구하기\n",
    "df.groupby('Sex', 'Pclass').agg({'Survived':'sum'}).show()"
   ]
  },
  {
   "cell_type": "code",
   "execution_count": 73,
   "id": "970e426f-3e82-4aed-ac77-1d680ed735ff",
   "metadata": {},
   "outputs": [
    {
     "name": "stdout",
     "output_type": "stream",
     "text": [
      "+-----------+--------+------+--------------------+------+----+----------------+-------+-----+--------+\n",
      "|PassengerId|Survived|Pclass|                Name|   Sex| Age|          Ticket|   Fare|Cabin|Embarked|\n",
      "+-----------+--------+------+--------------------+------+----+----------------+-------+-----+--------+\n",
      "|          1|       0|     3|Braund, Mr. Owen ...|  male|  22|       A/5 21171|   7.25| null|       S|\n",
      "|          2|       1|     1|Cumings, Mrs. Joh...|female|  38|        PC 17599|71.2833|  C85|       C|\n",
      "|          3|       1|     3|Heikkinen, Miss. ...|female|  26|STON/O2. 3101282|  7.925| null|       S|\n",
      "|          4|       1|     1|Futrelle, Mrs. Ja...|female|  35|          113803|   53.1| C123|       S|\n",
      "|          5|       0|     3|Allen, Mr. Willia...|  male|  35|          373450|   8.05| null|       S|\n",
      "|          6|       0|     3|    Moran, Mr. James|  male|null|          330877| 8.4583| null|       Q|\n",
      "|          7|       0|     1|McCarthy, Mr. Tim...|  male|  54|           17463|51.8625|  E46|       S|\n",
      "|          8|       0|     3|Palsson, Master. ...|  male|   2|          349909| 21.075| null|       S|\n",
      "|          9|       1|     3|Johnson, Mrs. Osc...|female|  27|          347742|11.1333| null|       S|\n",
      "|         10|       1|     2|Nasser, Mrs. Nich...|female|  14|          237736|30.0708| null|       C|\n",
      "|         11|       1|     3|Sandstrom, Miss. ...|female|   4|         PP 9549|   16.7|   G6|       S|\n",
      "|         12|       1|     1|Bonnell, Miss. El...|female|  58|          113783|  26.55| C103|       S|\n",
      "|         13|       0|     3|Saundercock, Mr. ...|  male|  20|       A/5. 2151|   8.05| null|       S|\n",
      "|         14|       0|     3|Andersson, Mr. An...|  male|  39|          347082| 31.275| null|       S|\n",
      "|         15|       0|     3|Vestrom, Miss. Hu...|female|  14|          350406| 7.8542| null|       S|\n",
      "|         16|       1|     2|Hewlett, Mrs. (Ma...|female|  55|          248706|     16| null|       S|\n",
      "|         17|       0|     3|Rice, Master. Eugene|  male|   2|          382652| 29.125| null|       Q|\n",
      "|         18|       1|     2|Williams, Mr. Cha...|  male|null|          244373|     13| null|       S|\n",
      "|         19|       0|     3|Vander Planke, Mr...|female|  31|          345763|     18| null|       S|\n",
      "|         20|       1|     3|Masselmani, Mrs. ...|female|null|            2649|  7.225| null|       C|\n",
      "+-----------+--------+------+--------------------+------+----+----------------+-------+-----+--------+\n",
      "only showing top 20 rows\n",
      "\n"
     ]
    }
   ],
   "source": [
    "df.show()"
   ]
  },
  {
   "cell_type": "code",
   "execution_count": 74,
   "id": "2ced5ff9-a785-4527-baf5-3571586170c0",
   "metadata": {},
   "outputs": [],
   "source": [
    "# 필요한 컬럼 외 전부 drop 시켜주기\n",
    "df = df.drop('Fare', 'Cabin', 'PassengerId', 'Name','SibSp','Parch','Ticket')"
   ]
  },
  {
   "cell_type": "code",
   "execution_count": 78,
   "id": "0a9b4fc0-394c-4c0d-9e82-7047bdcea844",
   "metadata": {},
   "outputs": [],
   "source": [
    "df = df.na.fill(29, 'Age') # 평균값으로 결측값 채워주기"
   ]
  },
  {
   "cell_type": "code",
   "execution_count": 75,
   "id": "144a4bff-f6e0-481e-813f-c3a0f5be882f",
   "metadata": {},
   "outputs": [
    {
     "data": {
      "text/plain": [
       "Embarked\n",
       "S    644\n",
       "C    168\n",
       "Q     77\n",
       "Name: count, dtype: int64"
      ]
     },
     "execution_count": 75,
     "metadata": {},
     "output_type": "execute_result"
    }
   ],
   "source": [
    "df.toPandas()['Embarked'].value_counts()"
   ]
  },
  {
   "cell_type": "code",
   "execution_count": 76,
   "id": "add521f2-c450-43eb-8d90-c519aecb07ef",
   "metadata": {},
   "outputs": [],
   "source": [
    "df = df.na.fill('S', 'Embarked') # Embarked는 가장 많은 값인 S로 채워줌"
   ]
  },
  {
   "cell_type": "code",
   "execution_count": 79,
   "id": "3d42f238-b751-4628-ad76-96ca89e8c0df",
   "metadata": {},
   "outputs": [
    {
     "name": "stdout",
     "output_type": "stream",
     "text": [
      "<class 'pandas.core.frame.DataFrame'>\n",
      "RangeIndex: 891 entries, 0 to 890\n",
      "Data columns (total 5 columns):\n",
      " #   Column    Non-Null Count  Dtype \n",
      "---  ------    --------------  ----- \n",
      " 0   Survived  891 non-null    int32 \n",
      " 1   Pclass    891 non-null    object\n",
      " 2   Sex       891 non-null    object\n",
      " 3   Age       891 non-null    int32 \n",
      " 4   Embarked  891 non-null    object\n",
      "dtypes: int32(2), object(3)\n",
      "memory usage: 28.0+ KB\n"
     ]
    }
   ],
   "source": [
    "df.toPandas().info()"
   ]
  },
  {
   "cell_type": "code",
   "execution_count": 80,
   "id": "fdd8d0d8-d1d5-43df-b1b0-f038e9ba75be",
   "metadata": {},
   "outputs": [
    {
     "name": "stdout",
     "output_type": "stream",
     "text": [
      "root\n",
      " |-- Survived: integer (nullable = true)\n",
      " |-- Pclass: string (nullable = true)\n",
      " |-- Sex: string (nullable = true)\n",
      " |-- Age: integer (nullable = true)\n",
      " |-- Embarked: string (nullable = false)\n",
      "\n"
     ]
    }
   ],
   "source": [
    "df.printSchema()"
   ]
  },
  {
   "cell_type": "code",
   "execution_count": 81,
   "id": "a8fa22bf-e050-4f2b-84f3-f14340244f58",
   "metadata": {},
   "outputs": [],
   "source": [
    "# 판다스에서는 겟더미로 원핫인코딩을 해줬지만 스파크에서는 그게 안됨. 그래서 string을 다 int로 바꾼 후 원핫 인코딩 해야함\n",
    "df = df.withColumn('Age', df['Age'].cast('Integer'))\n",
    "df = df.withColumn('Survived', df['Survived'].cast('Integer'))\n",
    "df = df.withColumn('Pclass', df['Pclass'].cast('Integer'))"
   ]
  },
  {
   "cell_type": "code",
   "execution_count": 82,
   "id": "67c32762-92dd-4094-9df3-3fef31af802a",
   "metadata": {},
   "outputs": [
    {
     "name": "stdout",
     "output_type": "stream",
     "text": [
      "root\n",
      " |-- Survived: integer (nullable = true)\n",
      " |-- Pclass: integer (nullable = true)\n",
      " |-- Sex: string (nullable = true)\n",
      " |-- Age: integer (nullable = true)\n",
      " |-- Embarked: string (nullable = false)\n",
      "\n"
     ]
    }
   ],
   "source": [
    "df.printSchema()"
   ]
  },
  {
   "cell_type": "markdown",
   "id": "475cc787-3f7b-4c8d-8283-88f723eda1d5",
   "metadata": {},
   "source": [
    "# 문자형 컬럼 레이블 인코딩 => 원핫인코딩\n",
    "* spark에서는 원핫 인코딩을 문자에서 바로 할 수 없다.\n",
    "* StringIdexer => OneHotEncoding 순서로 해야함."
   ]
  },
  {
   "cell_type": "code",
   "execution_count": 89,
   "id": "951d82a8-43f3-47b9-84a7-1ffe8775cbfe",
   "metadata": {},
   "outputs": [],
   "source": [
    "# 레이블 인코딩 하기 scikit-learn의 label encoding과 같은 역할\n",
    "from pyspark.ml.feature import StringIndexer\n",
    "indexer = StringIndexer(inputCols=['Sex','Embarked'], outputCols=['SexIndex','EmbarkedIndex'])\n",
    "df = indexer.fit(df).transform(df)"
   ]
  },
  {
   "cell_type": "code",
   "execution_count": 90,
   "id": "57169041-76d2-43e5-bd76-4e88483e0631",
   "metadata": {},
   "outputs": [
    {
     "name": "stdout",
     "output_type": "stream",
     "text": [
      "+--------+------+------+---+--------+--------+-------------+\n",
      "|Survived|Pclass|   Sex|Age|Embarked|SexIndex|EmbarkedIndex|\n",
      "+--------+------+------+---+--------+--------+-------------+\n",
      "|       0|     3|  male| 22|       S|     0.0|          0.0|\n",
      "|       1|     1|female| 38|       C|     1.0|          1.0|\n",
      "|       1|     3|female| 26|       S|     1.0|          0.0|\n",
      "|       1|     1|female| 35|       S|     1.0|          0.0|\n",
      "|       0|     3|  male| 35|       S|     0.0|          0.0|\n",
      "|       0|     3|  male| 29|       Q|     0.0|          2.0|\n",
      "|       0|     1|  male| 54|       S|     0.0|          0.0|\n",
      "|       0|     3|  male|  2|       S|     0.0|          0.0|\n",
      "|       1|     3|female| 27|       S|     1.0|          0.0|\n",
      "|       1|     2|female| 14|       C|     1.0|          1.0|\n",
      "|       1|     3|female|  4|       S|     1.0|          0.0|\n",
      "|       1|     1|female| 58|       S|     1.0|          0.0|\n",
      "|       0|     3|  male| 20|       S|     0.0|          0.0|\n",
      "|       0|     3|  male| 39|       S|     0.0|          0.0|\n",
      "|       0|     3|female| 14|       S|     1.0|          0.0|\n",
      "|       1|     2|female| 55|       S|     1.0|          0.0|\n",
      "|       0|     3|  male|  2|       Q|     0.0|          2.0|\n",
      "|       1|     2|  male| 29|       S|     0.0|          0.0|\n",
      "|       0|     3|female| 31|       S|     1.0|          0.0|\n",
      "|       1|     3|female| 29|       C|     1.0|          1.0|\n",
      "+--------+------+------+---+--------+--------+-------------+\n",
      "only showing top 20 rows\n",
      "\n"
     ]
    }
   ],
   "source": [
    "df.show()"
   ]
  },
  {
   "cell_type": "code",
   "execution_count": 91,
   "id": "69b8c45e-4aa0-4be5-8464-6be50c51be33",
   "metadata": {},
   "outputs": [],
   "source": [
    "# 원핫인코딩 하기 -> 먼저하면 오류남(레이블인코딩먼저)\n",
    "from pyspark.ml.feature import OneHotEncoder\n",
    "encoder = OneHotEncoder(inputCols=['SexIndex','EmbarkedIndex'], outputCols=['Sex_vec','Embarked_vec'])\n",
    "df= encoder.fit(df).transform(df)"
   ]
  },
  {
   "cell_type": "code",
   "execution_count": 92,
   "id": "081283f1-7dc1-4f78-bdb7-a979706c166e",
   "metadata": {},
   "outputs": [
    {
     "name": "stdout",
     "output_type": "stream",
     "text": [
      "+--------+------+------+---+--------+--------+-------------+-------------+-------------+\n",
      "|Survived|Pclass|   Sex|Age|Embarked|SexIndex|EmbarkedIndex|      Sex_vec| Embarked_vec|\n",
      "+--------+------+------+---+--------+--------+-------------+-------------+-------------+\n",
      "|       0|     3|  male| 22|       S|     0.0|          0.0|(1,[0],[1.0])|(2,[0],[1.0])|\n",
      "|       1|     1|female| 38|       C|     1.0|          1.0|    (1,[],[])|(2,[1],[1.0])|\n",
      "|       1|     3|female| 26|       S|     1.0|          0.0|    (1,[],[])|(2,[0],[1.0])|\n",
      "|       1|     1|female| 35|       S|     1.0|          0.0|    (1,[],[])|(2,[0],[1.0])|\n",
      "|       0|     3|  male| 35|       S|     0.0|          0.0|(1,[0],[1.0])|(2,[0],[1.0])|\n",
      "|       0|     3|  male| 29|       Q|     0.0|          2.0|(1,[0],[1.0])|    (2,[],[])|\n",
      "|       0|     1|  male| 54|       S|     0.0|          0.0|(1,[0],[1.0])|(2,[0],[1.0])|\n",
      "|       0|     3|  male|  2|       S|     0.0|          0.0|(1,[0],[1.0])|(2,[0],[1.0])|\n",
      "|       1|     3|female| 27|       S|     1.0|          0.0|    (1,[],[])|(2,[0],[1.0])|\n",
      "|       1|     2|female| 14|       C|     1.0|          1.0|    (1,[],[])|(2,[1],[1.0])|\n",
      "|       1|     3|female|  4|       S|     1.0|          0.0|    (1,[],[])|(2,[0],[1.0])|\n",
      "|       1|     1|female| 58|       S|     1.0|          0.0|    (1,[],[])|(2,[0],[1.0])|\n",
      "|       0|     3|  male| 20|       S|     0.0|          0.0|(1,[0],[1.0])|(2,[0],[1.0])|\n",
      "|       0|     3|  male| 39|       S|     0.0|          0.0|(1,[0],[1.0])|(2,[0],[1.0])|\n",
      "|       0|     3|female| 14|       S|     1.0|          0.0|    (1,[],[])|(2,[0],[1.0])|\n",
      "|       1|     2|female| 55|       S|     1.0|          0.0|    (1,[],[])|(2,[0],[1.0])|\n",
      "|       0|     3|  male|  2|       Q|     0.0|          2.0|(1,[0],[1.0])|    (2,[],[])|\n",
      "|       1|     2|  male| 29|       S|     0.0|          0.0|(1,[0],[1.0])|(2,[0],[1.0])|\n",
      "|       0|     3|female| 31|       S|     1.0|          0.0|    (1,[],[])|(2,[0],[1.0])|\n",
      "|       1|     3|female| 29|       C|     1.0|          1.0|    (1,[],[])|(2,[1],[1.0])|\n",
      "+--------+------+------+---+--------+--------+-------------+-------------+-------------+\n",
      "only showing top 20 rows\n",
      "\n"
     ]
    }
   ],
   "source": [
    "df.show()"
   ]
  },
  {
   "cell_type": "code",
   "execution_count": 93,
   "id": "386e1782-8d07-49cb-b1c9-08f364bd7465",
   "metadata": {},
   "outputs": [
    {
     "name": "stdout",
     "output_type": "stream",
     "text": [
      "+--------+------+---+-------------+-------------+\n",
      "|Survived|Pclass|Age|      Sex_vec| Embarked_vec|\n",
      "+--------+------+---+-------------+-------------+\n",
      "|       0|     3| 22|(1,[0],[1.0])|(2,[0],[1.0])|\n",
      "|       1|     1| 38|    (1,[],[])|(2,[1],[1.0])|\n",
      "|       1|     3| 26|    (1,[],[])|(2,[0],[1.0])|\n",
      "|       1|     1| 35|    (1,[],[])|(2,[0],[1.0])|\n",
      "|       0|     3| 35|(1,[0],[1.0])|(2,[0],[1.0])|\n",
      "|       0|     3| 29|(1,[0],[1.0])|    (2,[],[])|\n",
      "|       0|     1| 54|(1,[0],[1.0])|(2,[0],[1.0])|\n",
      "|       0|     3|  2|(1,[0],[1.0])|(2,[0],[1.0])|\n",
      "|       1|     3| 27|    (1,[],[])|(2,[0],[1.0])|\n",
      "|       1|     2| 14|    (1,[],[])|(2,[1],[1.0])|\n",
      "|       1|     3|  4|    (1,[],[])|(2,[0],[1.0])|\n",
      "|       1|     1| 58|    (1,[],[])|(2,[0],[1.0])|\n",
      "|       0|     3| 20|(1,[0],[1.0])|(2,[0],[1.0])|\n",
      "|       0|     3| 39|(1,[0],[1.0])|(2,[0],[1.0])|\n",
      "|       0|     3| 14|    (1,[],[])|(2,[0],[1.0])|\n",
      "|       1|     2| 55|    (1,[],[])|(2,[0],[1.0])|\n",
      "|       0|     3|  2|(1,[0],[1.0])|    (2,[],[])|\n",
      "|       1|     2| 29|(1,[0],[1.0])|(2,[0],[1.0])|\n",
      "|       0|     3| 31|    (1,[],[])|(2,[0],[1.0])|\n",
      "|       1|     3| 29|    (1,[],[])|(2,[1],[1.0])|\n",
      "+--------+------+---+-------------+-------------+\n",
      "only showing top 20 rows\n",
      "\n"
     ]
    }
   ],
   "source": [
    "df.drop('Sex','Embarked','SexIndex','EmbarkedIndex').show()"
   ]
  },
  {
   "cell_type": "code",
   "execution_count": 94,
   "id": "5bbd471b-64d7-4bec-a0ce-4df621bcb5f0",
   "metadata": {},
   "outputs": [],
   "source": [
    "df = df.drop('Sex','Embarked','SexIndex','EmbarkedIndex')"
   ]
  },
  {
   "cell_type": "code",
   "execution_count": 95,
   "id": "3f35448f-e1cd-4ea4-bb94-6972e0248718",
   "metadata": {},
   "outputs": [
    {
     "name": "stdout",
     "output_type": "stream",
     "text": [
      "+--------+------+---+-------------+-------------+\n",
      "|Survived|Pclass|Age|      Sex_vec| Embarked_vec|\n",
      "+--------+------+---+-------------+-------------+\n",
      "|       0|     3| 22|(1,[0],[1.0])|(2,[0],[1.0])|\n",
      "|       1|     1| 38|    (1,[],[])|(2,[1],[1.0])|\n",
      "|       1|     3| 26|    (1,[],[])|(2,[0],[1.0])|\n",
      "|       1|     1| 35|    (1,[],[])|(2,[0],[1.0])|\n",
      "|       0|     3| 35|(1,[0],[1.0])|(2,[0],[1.0])|\n",
      "|       0|     3| 29|(1,[0],[1.0])|    (2,[],[])|\n",
      "|       0|     1| 54|(1,[0],[1.0])|(2,[0],[1.0])|\n",
      "|       0|     3|  2|(1,[0],[1.0])|(2,[0],[1.0])|\n",
      "|       1|     3| 27|    (1,[],[])|(2,[0],[1.0])|\n",
      "|       1|     2| 14|    (1,[],[])|(2,[1],[1.0])|\n",
      "|       1|     3|  4|    (1,[],[])|(2,[0],[1.0])|\n",
      "|       1|     1| 58|    (1,[],[])|(2,[0],[1.0])|\n",
      "|       0|     3| 20|(1,[0],[1.0])|(2,[0],[1.0])|\n",
      "|       0|     3| 39|(1,[0],[1.0])|(2,[0],[1.0])|\n",
      "|       0|     3| 14|    (1,[],[])|(2,[0],[1.0])|\n",
      "|       1|     2| 55|    (1,[],[])|(2,[0],[1.0])|\n",
      "|       0|     3|  2|(1,[0],[1.0])|    (2,[],[])|\n",
      "|       1|     2| 29|(1,[0],[1.0])|(2,[0],[1.0])|\n",
      "|       0|     3| 31|    (1,[],[])|(2,[0],[1.0])|\n",
      "|       1|     3| 29|    (1,[],[])|(2,[1],[1.0])|\n",
      "+--------+------+---+-------------+-------------+\n",
      "only showing top 20 rows\n",
      "\n"
     ]
    }
   ],
   "source": [
    "df.show()"
   ]
  },
  {
   "cell_type": "code",
   "execution_count": 96,
   "id": "666241e9-3ab4-47d2-af80-259e6fdcb68a",
   "metadata": {},
   "outputs": [
    {
     "name": "stdout",
     "output_type": "stream",
     "text": [
      "root\n",
      " |-- Survived: integer (nullable = true)\n",
      " |-- Pclass: integer (nullable = true)\n",
      " |-- Age: integer (nullable = true)\n",
      " |-- Sex_vec: vector (nullable = true)\n",
      " |-- Embarked_vec: vector (nullable = true)\n",
      "\n"
     ]
    }
   ],
   "source": [
    "df.printSchema()"
   ]
  },
  {
   "cell_type": "markdown",
   "id": "60eb49c5-53f1-4101-afb7-b8fbf1df5357",
   "metadata": {},
   "source": [
    "혹시 여기까지 헷갈리면 쌤꺼 깃허브 보기!!! 다시정리\n",
    "한번 혼자 다시 해보기"
   ]
  },
  {
   "cell_type": "markdown",
   "id": "891b22a2-4086-4e7e-b274-3340ba4a32b4",
   "metadata": {},
   "source": [
    "# 종속변수 인덱싱, 독립변수 인덱싱\n",
    "* pyspark 에서는 X, y를 나누지 않고, 독립변수는 1개의 벡터로 통합, 종속변수는 그대로 유지\n",
    "* target, feature 두개의 컬럼만 남김"
   ]
  },
  {
   "cell_type": "markdown",
   "id": "e05dc748-f411-4470-b9f3-246bdd849cee",
   "metadata": {},
   "source": [
    "## 독립변수를 하나의 벡터로 만들기 Features\n",
    "* VectorAssembler"
   ]
  },
  {
   "cell_type": "code",
   "execution_count": 97,
   "id": "024035b1-a8b5-42d7-b827-9f5ab5f728a6",
   "metadata": {},
   "outputs": [
    {
     "data": {
      "text/plain": [
       "['Survived', 'Pclass', 'Age', 'Sex_vec', 'Embarked_vec']"
      ]
     },
     "execution_count": 97,
     "metadata": {},
     "output_type": "execute_result"
    }
   ],
   "source": [
    "df.columns"
   ]
  },
  {
   "cell_type": "code",
   "execution_count": 98,
   "id": "d60dd03f-d04f-490e-b75a-a5f08c8bd361",
   "metadata": {},
   "outputs": [
    {
     "name": "stdout",
     "output_type": "stream",
     "text": [
      "+--------+------+---+-------------+-------------+--------------------+\n",
      "|Survived|Pclass|Age|      Sex_vec| Embarked_vec|            Features|\n",
      "+--------+------+---+-------------+-------------+--------------------+\n",
      "|       0|     3| 22|(1,[0],[1.0])|(2,[0],[1.0])|[3.0,22.0,1.0,1.0...|\n",
      "|       1|     1| 38|    (1,[],[])|(2,[1],[1.0])|[1.0,38.0,0.0,0.0...|\n",
      "|       1|     3| 26|    (1,[],[])|(2,[0],[1.0])|[3.0,26.0,0.0,1.0...|\n",
      "|       1|     1| 35|    (1,[],[])|(2,[0],[1.0])|[1.0,35.0,0.0,1.0...|\n",
      "|       0|     3| 35|(1,[0],[1.0])|(2,[0],[1.0])|[3.0,35.0,1.0,1.0...|\n",
      "|       0|     3| 29|(1,[0],[1.0])|    (2,[],[])|[3.0,29.0,1.0,0.0...|\n",
      "|       0|     1| 54|(1,[0],[1.0])|(2,[0],[1.0])|[1.0,54.0,1.0,1.0...|\n",
      "|       0|     3|  2|(1,[0],[1.0])|(2,[0],[1.0])|[3.0,2.0,1.0,1.0,...|\n",
      "|       1|     3| 27|    (1,[],[])|(2,[0],[1.0])|[3.0,27.0,0.0,1.0...|\n",
      "|       1|     2| 14|    (1,[],[])|(2,[1],[1.0])|[2.0,14.0,0.0,0.0...|\n",
      "|       1|     3|  4|    (1,[],[])|(2,[0],[1.0])|[3.0,4.0,0.0,1.0,...|\n",
      "|       1|     1| 58|    (1,[],[])|(2,[0],[1.0])|[1.0,58.0,0.0,1.0...|\n",
      "|       0|     3| 20|(1,[0],[1.0])|(2,[0],[1.0])|[3.0,20.0,1.0,1.0...|\n",
      "|       0|     3| 39|(1,[0],[1.0])|(2,[0],[1.0])|[3.0,39.0,1.0,1.0...|\n",
      "|       0|     3| 14|    (1,[],[])|(2,[0],[1.0])|[3.0,14.0,0.0,1.0...|\n",
      "|       1|     2| 55|    (1,[],[])|(2,[0],[1.0])|[2.0,55.0,0.0,1.0...|\n",
      "|       0|     3|  2|(1,[0],[1.0])|    (2,[],[])|[3.0,2.0,1.0,0.0,...|\n",
      "|       1|     2| 29|(1,[0],[1.0])|(2,[0],[1.0])|[2.0,29.0,1.0,1.0...|\n",
      "|       0|     3| 31|    (1,[],[])|(2,[0],[1.0])|[3.0,31.0,0.0,1.0...|\n",
      "|       1|     3| 29|    (1,[],[])|(2,[1],[1.0])|[3.0,29.0,0.0,0.0...|\n",
      "+--------+------+---+-------------+-------------+--------------------+\n",
      "only showing top 20 rows\n",
      "\n"
     ]
    }
   ],
   "source": [
    "from pyspark.ml.feature import VectorAssembler\n",
    "feature_assembler = VectorAssembler(inputCols = ['Pclass', 'Age', 'Sex_vec', 'Embarked_vec'], outputCol = 'Features')\n",
    "df = feature_assembler.transform(df)\n",
    "df.show()"
   ]
  },
  {
   "cell_type": "code",
   "execution_count": 99,
   "id": "f97db686-9ba2-4d5b-ae35-654c916e51ff",
   "metadata": {},
   "outputs": [
    {
     "name": "stdout",
     "output_type": "stream",
     "text": [
      "+--------+--------------------+\n",
      "|Survived|            Features|\n",
      "+--------+--------------------+\n",
      "|       0|[3.0,22.0,1.0,1.0...|\n",
      "|       1|[1.0,38.0,0.0,0.0...|\n",
      "|       1|[3.0,26.0,0.0,1.0...|\n",
      "|       1|[1.0,35.0,0.0,1.0...|\n",
      "|       0|[3.0,35.0,1.0,1.0...|\n",
      "|       0|[3.0,29.0,1.0,0.0...|\n",
      "|       0|[1.0,54.0,1.0,1.0...|\n",
      "|       0|[3.0,2.0,1.0,1.0,...|\n",
      "|       1|[3.0,27.0,0.0,1.0...|\n",
      "|       1|[2.0,14.0,0.0,0.0...|\n",
      "|       1|[3.0,4.0,0.0,1.0,...|\n",
      "|       1|[1.0,58.0,0.0,1.0...|\n",
      "|       0|[3.0,20.0,1.0,1.0...|\n",
      "|       0|[3.0,39.0,1.0,1.0...|\n",
      "|       0|[3.0,14.0,0.0,1.0...|\n",
      "|       1|[2.0,55.0,0.0,1.0...|\n",
      "|       0|[3.0,2.0,1.0,0.0,...|\n",
      "|       1|[2.0,29.0,1.0,1.0...|\n",
      "|       0|[3.0,31.0,0.0,1.0...|\n",
      "|       1|[3.0,29.0,0.0,0.0...|\n",
      "+--------+--------------------+\n",
      "only showing top 20 rows\n",
      "\n"
     ]
    }
   ],
   "source": [
    "df = df.drop('Pclass', 'Age', 'Sex_vec', 'Embarked_vec')\n",
    "df.show()"
   ]
  },
  {
   "cell_type": "markdown",
   "id": "6f6ec30b-1751-46c6-904f-ebef9f85316a",
   "metadata": {},
   "source": [
    "# train과 test로 홀드아웃\n",
    "* (train_data, test_data) = 데이터프레임.randomsplit(['훈련데이터 비율', '테스트데이터 비율'], seed=10)"
   ]
  },
  {
   "cell_type": "code",
   "execution_count": 101,
   "id": "6dc0d3a9-f9f9-4bc4-946c-49185899505c",
   "metadata": {},
   "outputs": [
    {
     "name": "stdout",
     "output_type": "stream",
     "text": [
      "root\n",
      " |-- Survived: integer (nullable = true)\n",
      " |-- Features: vector (nullable = true)\n",
      "\n"
     ]
    }
   ],
   "source": [
    "df.printSchema()"
   ]
  },
  {
   "cell_type": "code",
   "execution_count": 102,
   "id": "95a82b21-ff77-43f3-a5f1-1c71ea6a83cf",
   "metadata": {},
   "outputs": [],
   "source": [
    "(train_data, test_data) = df.randomSplit([0.8, 0.2], seed=10)"
   ]
  },
  {
   "cell_type": "code",
   "execution_count": 103,
   "id": "41d6ab8f-eaa7-4436-86e1-68c092bb5d4b",
   "metadata": {},
   "outputs": [
    {
     "name": "stdout",
     "output_type": "stream",
     "text": [
      "root\n",
      " |-- Survived: integer (nullable = true)\n",
      " |-- Features: vector (nullable = true)\n",
      "\n"
     ]
    }
   ],
   "source": [
    "train_data.printSchema()"
   ]
  },
  {
   "cell_type": "code",
   "execution_count": 104,
   "id": "2b0a5196-2474-4eb5-b33f-919ffd20450e",
   "metadata": {},
   "outputs": [
    {
     "name": "stdout",
     "output_type": "stream",
     "text": [
      "root\n",
      " |-- Survived: integer (nullable = true)\n",
      " |-- Features: vector (nullable = true)\n",
      "\n"
     ]
    }
   ],
   "source": [
    "test_data.printSchema()"
   ]
  },
  {
   "cell_type": "markdown",
   "id": "59a983ba-cf4b-4ea0-9ecd-c9e9533f377a",
   "metadata": {},
   "source": [
    "# 의사 결정 나무로 분석하기"
   ]
  },
  {
   "cell_type": "code",
   "execution_count": 105,
   "id": "0fd5cdab-e5c9-46d3-97f0-763c4727793a",
   "metadata": {},
   "outputs": [],
   "source": [
    "from pyspark.ml.classification import DecisionTreeClassifier"
   ]
  },
  {
   "cell_type": "code",
   "execution_count": 106,
   "id": "ad70b53c-0fd1-4452-a9f6-3939dcaa2a91",
   "metadata": {},
   "outputs": [
    {
     "name": "stdout",
     "output_type": "stream",
     "text": [
      "+--------+--------------------+-------------+--------------------+----------+\n",
      "|Survived|            Features|rawPrediction|         probability|prediction|\n",
      "+--------+--------------------+-------------+--------------------+----------+\n",
      "|       0|(5,[0,1],[3.0,21.0])|  [14.0,33.0]|[0.29787234042553...|       1.0|\n",
      "|       0|(5,[0,1],[3.0,29.0])|  [14.0,33.0]|[0.29787234042553...|       1.0|\n",
      "|       0|(5,[0,1],[3.0,30.0])|  [14.0,33.0]|[0.29787234042553...|       1.0|\n",
      "|       0|[1.0,18.0,1.0,0.0...|  [57.0,35.0]|[0.61956521739130...|       0.0|\n",
      "|       0|[1.0,21.0,1.0,1.0...|  [57.0,35.0]|[0.61956521739130...|       0.0|\n",
      "|       0|[1.0,24.0,1.0,0.0...|  [57.0,35.0]|[0.61956521739130...|       0.0|\n",
      "|       0|[1.0,29.0,1.0,1.0...|  [57.0,35.0]|[0.61956521739130...|       0.0|\n",
      "|       0|[1.0,29.0,1.0,1.0...|  [57.0,35.0]|[0.61956521739130...|       0.0|\n",
      "|       0|[1.0,29.0,1.0,1.0...|  [57.0,35.0]|[0.61956521739130...|       0.0|\n",
      "|       0|[1.0,30.0,1.0,0.0...|  [57.0,35.0]|[0.61956521739130...|       0.0|\n",
      "|       0|[1.0,42.0,1.0,1.0...|  [57.0,35.0]|[0.61956521739130...|       0.0|\n",
      "|       0|[1.0,44.0,1.0,0.0...|  [57.0,35.0]|[0.61956521739130...|       0.0|\n",
      "|       0|[1.0,45.0,1.0,1.0...|  [57.0,35.0]|[0.61956521739130...|       0.0|\n",
      "|       0|[1.0,45.0,1.0,1.0...|  [57.0,35.0]|[0.61956521739130...|       0.0|\n",
      "|       0|[1.0,47.0,1.0,1.0...|  [57.0,35.0]|[0.61956521739130...|       0.0|\n",
      "|       0|[1.0,50.0,1.0,0.0...|  [57.0,35.0]|[0.61956521739130...|       0.0|\n",
      "|       0|[1.0,51.0,1.0,0.0...|  [57.0,35.0]|[0.61956521739130...|       0.0|\n",
      "|       0|[1.0,52.0,1.0,1.0...|  [57.0,35.0]|[0.61956521739130...|       0.0|\n",
      "|       0|[1.0,54.0,1.0,1.0...|  [57.0,35.0]|[0.61956521739130...|       0.0|\n",
      "|       0|[1.0,60.0,1.0,1.0...|  [57.0,35.0]|[0.61956521739130...|       0.0|\n",
      "+--------+--------------------+-------------+--------------------+----------+\n",
      "only showing top 20 rows\n",
      "\n"
     ]
    }
   ],
   "source": [
    "dtc = DecisionTreeClassifier(featuresCol = 'Features', labelCol='Survived', maxDepth=3)\n",
    "dtc = dtc.fit(train_data)\n",
    "pred = dtc.transform(test_data)\n",
    "pred.show()"
   ]
  },
  {
   "cell_type": "code",
   "execution_count": 107,
   "id": "dca0eeee-4f8d-4cb7-9bc6-ebcad3cc5b46",
   "metadata": {},
   "outputs": [],
   "source": [
    "from sklearn.metrics import accuracy_score, classification_report"
   ]
  },
  {
   "cell_type": "code",
   "execution_count": 108,
   "id": "72ae3e59-1c73-4df7-af99-29051857cf98",
   "metadata": {},
   "outputs": [],
   "source": [
    "pred = pred.toPandas()"
   ]
  },
  {
   "cell_type": "code",
   "execution_count": 109,
   "id": "cf3d5253-0b76-413b-9358-0b1a6ebfbf4b",
   "metadata": {},
   "outputs": [
    {
     "data": {
      "text/html": [
       "<div>\n",
       "<style scoped>\n",
       "    .dataframe tbody tr th:only-of-type {\n",
       "        vertical-align: middle;\n",
       "    }\n",
       "\n",
       "    .dataframe tbody tr th {\n",
       "        vertical-align: top;\n",
       "    }\n",
       "\n",
       "    .dataframe thead th {\n",
       "        text-align: right;\n",
       "    }\n",
       "</style>\n",
       "<table border=\"1\" class=\"dataframe\">\n",
       "  <thead>\n",
       "    <tr style=\"text-align: right;\">\n",
       "      <th></th>\n",
       "      <th>Survived</th>\n",
       "      <th>Features</th>\n",
       "      <th>rawPrediction</th>\n",
       "      <th>probability</th>\n",
       "      <th>prediction</th>\n",
       "    </tr>\n",
       "  </thead>\n",
       "  <tbody>\n",
       "    <tr>\n",
       "      <th>0</th>\n",
       "      <td>0</td>\n",
       "      <td>(3.0, 21.0, 0.0, 0.0, 0.0)</td>\n",
       "      <td>[14.0, 33.0]</td>\n",
       "      <td>[0.2978723404255319, 0.7021276595744681]</td>\n",
       "      <td>1.0</td>\n",
       "    </tr>\n",
       "    <tr>\n",
       "      <th>1</th>\n",
       "      <td>0</td>\n",
       "      <td>(3.0, 29.0, 0.0, 0.0, 0.0)</td>\n",
       "      <td>[14.0, 33.0]</td>\n",
       "      <td>[0.2978723404255319, 0.7021276595744681]</td>\n",
       "      <td>1.0</td>\n",
       "    </tr>\n",
       "    <tr>\n",
       "      <th>2</th>\n",
       "      <td>0</td>\n",
       "      <td>(3.0, 30.0, 0.0, 0.0, 0.0)</td>\n",
       "      <td>[14.0, 33.0]</td>\n",
       "      <td>[0.2978723404255319, 0.7021276595744681]</td>\n",
       "      <td>1.0</td>\n",
       "    </tr>\n",
       "    <tr>\n",
       "      <th>3</th>\n",
       "      <td>0</td>\n",
       "      <td>[1.0, 18.0, 1.0, 0.0, 1.0]</td>\n",
       "      <td>[57.0, 35.0]</td>\n",
       "      <td>[0.6195652173913043, 0.3804347826086957]</td>\n",
       "      <td>0.0</td>\n",
       "    </tr>\n",
       "    <tr>\n",
       "      <th>4</th>\n",
       "      <td>0</td>\n",
       "      <td>[1.0, 21.0, 1.0, 1.0, 0.0]</td>\n",
       "      <td>[57.0, 35.0]</td>\n",
       "      <td>[0.6195652173913043, 0.3804347826086957]</td>\n",
       "      <td>0.0</td>\n",
       "    </tr>\n",
       "    <tr>\n",
       "      <th>...</th>\n",
       "      <td>...</td>\n",
       "      <td>...</td>\n",
       "      <td>...</td>\n",
       "      <td>...</td>\n",
       "      <td>...</td>\n",
       "    </tr>\n",
       "    <tr>\n",
       "      <th>182</th>\n",
       "      <td>1</td>\n",
       "      <td>[3.0, 29.0, 1.0, 1.0, 0.0]</td>\n",
       "      <td>[300.0, 36.0]</td>\n",
       "      <td>[0.8928571428571429, 0.10714285714285714]</td>\n",
       "      <td>0.0</td>\n",
       "    </tr>\n",
       "    <tr>\n",
       "      <th>183</th>\n",
       "      <td>1</td>\n",
       "      <td>[3.0, 30.0, 1.0, 1.0, 0.0]</td>\n",
       "      <td>[300.0, 36.0]</td>\n",
       "      <td>[0.8928571428571429, 0.10714285714285714]</td>\n",
       "      <td>0.0</td>\n",
       "    </tr>\n",
       "    <tr>\n",
       "      <th>184</th>\n",
       "      <td>1</td>\n",
       "      <td>[3.0, 31.0, 0.0, 1.0, 0.0]</td>\n",
       "      <td>[45.0, 25.0]</td>\n",
       "      <td>[0.6428571428571429, 0.35714285714285715]</td>\n",
       "      <td>0.0</td>\n",
       "    </tr>\n",
       "    <tr>\n",
       "      <th>185</th>\n",
       "      <td>1</td>\n",
       "      <td>[3.0, 32.0, 1.0, 1.0, 0.0]</td>\n",
       "      <td>[300.0, 36.0]</td>\n",
       "      <td>[0.8928571428571429, 0.10714285714285714]</td>\n",
       "      <td>0.0</td>\n",
       "    </tr>\n",
       "    <tr>\n",
       "      <th>186</th>\n",
       "      <td>1</td>\n",
       "      <td>[3.0, 44.0, 1.0, 1.0, 0.0]</td>\n",
       "      <td>[300.0, 36.0]</td>\n",
       "      <td>[0.8928571428571429, 0.10714285714285714]</td>\n",
       "      <td>0.0</td>\n",
       "    </tr>\n",
       "  </tbody>\n",
       "</table>\n",
       "<p>187 rows × 5 columns</p>\n",
       "</div>"
      ],
      "text/plain": [
       "     Survived                    Features  rawPrediction  \\\n",
       "0           0  (3.0, 21.0, 0.0, 0.0, 0.0)   [14.0, 33.0]   \n",
       "1           0  (3.0, 29.0, 0.0, 0.0, 0.0)   [14.0, 33.0]   \n",
       "2           0  (3.0, 30.0, 0.0, 0.0, 0.0)   [14.0, 33.0]   \n",
       "3           0  [1.0, 18.0, 1.0, 0.0, 1.0]   [57.0, 35.0]   \n",
       "4           0  [1.0, 21.0, 1.0, 1.0, 0.0]   [57.0, 35.0]   \n",
       "..        ...                         ...            ...   \n",
       "182         1  [3.0, 29.0, 1.0, 1.0, 0.0]  [300.0, 36.0]   \n",
       "183         1  [3.0, 30.0, 1.0, 1.0, 0.0]  [300.0, 36.0]   \n",
       "184         1  [3.0, 31.0, 0.0, 1.0, 0.0]   [45.0, 25.0]   \n",
       "185         1  [3.0, 32.0, 1.0, 1.0, 0.0]  [300.0, 36.0]   \n",
       "186         1  [3.0, 44.0, 1.0, 1.0, 0.0]  [300.0, 36.0]   \n",
       "\n",
       "                                   probability  prediction  \n",
       "0     [0.2978723404255319, 0.7021276595744681]         1.0  \n",
       "1     [0.2978723404255319, 0.7021276595744681]         1.0  \n",
       "2     [0.2978723404255319, 0.7021276595744681]         1.0  \n",
       "3     [0.6195652173913043, 0.3804347826086957]         0.0  \n",
       "4     [0.6195652173913043, 0.3804347826086957]         0.0  \n",
       "..                                         ...         ...  \n",
       "182  [0.8928571428571429, 0.10714285714285714]         0.0  \n",
       "183  [0.8928571428571429, 0.10714285714285714]         0.0  \n",
       "184  [0.6428571428571429, 0.35714285714285715]         0.0  \n",
       "185  [0.8928571428571429, 0.10714285714285714]         0.0  \n",
       "186  [0.8928571428571429, 0.10714285714285714]         0.0  \n",
       "\n",
       "[187 rows x 5 columns]"
      ]
     },
     "execution_count": 109,
     "metadata": {},
     "output_type": "execute_result"
    }
   ],
   "source": [
    "pred"
   ]
  },
  {
   "cell_type": "code",
   "execution_count": 110,
   "id": "79408f9b-5651-477a-845a-6e7b63d3143d",
   "metadata": {},
   "outputs": [
    {
     "name": "stdout",
     "output_type": "stream",
     "text": [
      "0.8288770053475936\n"
     ]
    },
    {
     "name": "stderr",
     "output_type": "stream",
     "text": [
      "/home/himedia/.conda/envs/spark/lib/python3.11/site-packages/sklearn/utils/validation.py:605: FutureWarning: is_sparse is deprecated and will be removed in a future version. Check `isinstance(dtype, pd.SparseDtype)` instead.\n",
      "  if is_sparse(pd_dtype):\n",
      "/home/himedia/.conda/envs/spark/lib/python3.11/site-packages/sklearn/utils/validation.py:614: FutureWarning: is_sparse is deprecated and will be removed in a future version. Check `isinstance(dtype, pd.SparseDtype)` instead.\n",
      "  if is_sparse(pd_dtype) or not is_extension_array_dtype(pd_dtype):\n",
      "/home/himedia/.conda/envs/spark/lib/python3.11/site-packages/sklearn/utils/validation.py:605: FutureWarning: is_sparse is deprecated and will be removed in a future version. Check `isinstance(dtype, pd.SparseDtype)` instead.\n",
      "  if is_sparse(pd_dtype):\n",
      "/home/himedia/.conda/envs/spark/lib/python3.11/site-packages/sklearn/utils/validation.py:614: FutureWarning: is_sparse is deprecated and will be removed in a future version. Check `isinstance(dtype, pd.SparseDtype)` instead.\n",
      "  if is_sparse(pd_dtype) or not is_extension_array_dtype(pd_dtype):\n",
      "/home/himedia/.conda/envs/spark/lib/python3.11/site-packages/sklearn/utils/validation.py:605: FutureWarning: is_sparse is deprecated and will be removed in a future version. Check `isinstance(dtype, pd.SparseDtype)` instead.\n",
      "  if is_sparse(pd_dtype):\n",
      "/home/himedia/.conda/envs/spark/lib/python3.11/site-packages/sklearn/utils/validation.py:614: FutureWarning: is_sparse is deprecated and will be removed in a future version. Check `isinstance(dtype, pd.SparseDtype)` instead.\n",
      "  if is_sparse(pd_dtype) or not is_extension_array_dtype(pd_dtype):\n",
      "/home/himedia/.conda/envs/spark/lib/python3.11/site-packages/sklearn/utils/validation.py:605: FutureWarning: is_sparse is deprecated and will be removed in a future version. Check `isinstance(dtype, pd.SparseDtype)` instead.\n",
      "  if is_sparse(pd_dtype):\n",
      "/home/himedia/.conda/envs/spark/lib/python3.11/site-packages/sklearn/utils/validation.py:614: FutureWarning: is_sparse is deprecated and will be removed in a future version. Check `isinstance(dtype, pd.SparseDtype)` instead.\n",
      "  if is_sparse(pd_dtype) or not is_extension_array_dtype(pd_dtype):\n",
      "/home/himedia/.conda/envs/spark/lib/python3.11/site-packages/sklearn/utils/validation.py:605: FutureWarning: is_sparse is deprecated and will be removed in a future version. Check `isinstance(dtype, pd.SparseDtype)` instead.\n",
      "  if is_sparse(pd_dtype):\n",
      "/home/himedia/.conda/envs/spark/lib/python3.11/site-packages/sklearn/utils/validation.py:614: FutureWarning: is_sparse is deprecated and will be removed in a future version. Check `isinstance(dtype, pd.SparseDtype)` instead.\n",
      "  if is_sparse(pd_dtype) or not is_extension_array_dtype(pd_dtype):\n",
      "/home/himedia/.conda/envs/spark/lib/python3.11/site-packages/sklearn/utils/validation.py:605: FutureWarning: is_sparse is deprecated and will be removed in a future version. Check `isinstance(dtype, pd.SparseDtype)` instead.\n",
      "  if is_sparse(pd_dtype):\n",
      "/home/himedia/.conda/envs/spark/lib/python3.11/site-packages/sklearn/utils/validation.py:614: FutureWarning: is_sparse is deprecated and will be removed in a future version. Check `isinstance(dtype, pd.SparseDtype)` instead.\n",
      "  if is_sparse(pd_dtype) or not is_extension_array_dtype(pd_dtype):\n"
     ]
    }
   ],
   "source": [
    "print(accuracy_score(pred['prediction'], pred['Survived']))"
   ]
  },
  {
   "cell_type": "code",
   "execution_count": 111,
   "id": "c4163881-ae41-472a-856b-355193c4c638",
   "metadata": {},
   "outputs": [
    {
     "name": "stdout",
     "output_type": "stream",
     "text": [
      "              precision    recall  f1-score   support\n",
      "\n",
      "         0.0       0.96      0.80      0.87       137\n",
      "         1.0       0.62      0.90      0.74        50\n",
      "\n",
      "    accuracy                           0.83       187\n",
      "   macro avg       0.79      0.85      0.81       187\n",
      "weighted avg       0.87      0.83      0.84       187\n",
      "\n"
     ]
    },
    {
     "name": "stderr",
     "output_type": "stream",
     "text": [
      "/home/himedia/.conda/envs/spark/lib/python3.11/site-packages/sklearn/utils/validation.py:605: FutureWarning: is_sparse is deprecated and will be removed in a future version. Check `isinstance(dtype, pd.SparseDtype)` instead.\n",
      "  if is_sparse(pd_dtype):\n",
      "/home/himedia/.conda/envs/spark/lib/python3.11/site-packages/sklearn/utils/validation.py:614: FutureWarning: is_sparse is deprecated and will be removed in a future version. Check `isinstance(dtype, pd.SparseDtype)` instead.\n",
      "  if is_sparse(pd_dtype) or not is_extension_array_dtype(pd_dtype):\n",
      "/home/himedia/.conda/envs/spark/lib/python3.11/site-packages/sklearn/utils/validation.py:605: FutureWarning: is_sparse is deprecated and will be removed in a future version. Check `isinstance(dtype, pd.SparseDtype)` instead.\n",
      "  if is_sparse(pd_dtype):\n",
      "/home/himedia/.conda/envs/spark/lib/python3.11/site-packages/sklearn/utils/validation.py:614: FutureWarning: is_sparse is deprecated and will be removed in a future version. Check `isinstance(dtype, pd.SparseDtype)` instead.\n",
      "  if is_sparse(pd_dtype) or not is_extension_array_dtype(pd_dtype):\n",
      "/home/himedia/.conda/envs/spark/lib/python3.11/site-packages/sklearn/utils/validation.py:605: FutureWarning: is_sparse is deprecated and will be removed in a future version. Check `isinstance(dtype, pd.SparseDtype)` instead.\n",
      "  if is_sparse(pd_dtype):\n",
      "/home/himedia/.conda/envs/spark/lib/python3.11/site-packages/sklearn/utils/validation.py:614: FutureWarning: is_sparse is deprecated and will be removed in a future version. Check `isinstance(dtype, pd.SparseDtype)` instead.\n",
      "  if is_sparse(pd_dtype) or not is_extension_array_dtype(pd_dtype):\n",
      "/home/himedia/.conda/envs/spark/lib/python3.11/site-packages/sklearn/utils/validation.py:605: FutureWarning: is_sparse is deprecated and will be removed in a future version. Check `isinstance(dtype, pd.SparseDtype)` instead.\n",
      "  if is_sparse(pd_dtype):\n",
      "/home/himedia/.conda/envs/spark/lib/python3.11/site-packages/sklearn/utils/validation.py:614: FutureWarning: is_sparse is deprecated and will be removed in a future version. Check `isinstance(dtype, pd.SparseDtype)` instead.\n",
      "  if is_sparse(pd_dtype) or not is_extension_array_dtype(pd_dtype):\n",
      "/home/himedia/.conda/envs/spark/lib/python3.11/site-packages/sklearn/utils/validation.py:605: FutureWarning: is_sparse is deprecated and will be removed in a future version. Check `isinstance(dtype, pd.SparseDtype)` instead.\n",
      "  if is_sparse(pd_dtype):\n",
      "/home/himedia/.conda/envs/spark/lib/python3.11/site-packages/sklearn/utils/validation.py:614: FutureWarning: is_sparse is deprecated and will be removed in a future version. Check `isinstance(dtype, pd.SparseDtype)` instead.\n",
      "  if is_sparse(pd_dtype) or not is_extension_array_dtype(pd_dtype):\n",
      "/home/himedia/.conda/envs/spark/lib/python3.11/site-packages/sklearn/utils/validation.py:605: FutureWarning: is_sparse is deprecated and will be removed in a future version. Check `isinstance(dtype, pd.SparseDtype)` instead.\n",
      "  if is_sparse(pd_dtype):\n",
      "/home/himedia/.conda/envs/spark/lib/python3.11/site-packages/sklearn/utils/validation.py:614: FutureWarning: is_sparse is deprecated and will be removed in a future version. Check `isinstance(dtype, pd.SparseDtype)` instead.\n",
      "  if is_sparse(pd_dtype) or not is_extension_array_dtype(pd_dtype):\n"
     ]
    }
   ],
   "source": [
    "print(classification_report(pred['prediction'], pred['Survived']))"
   ]
  },
  {
   "cell_type": "code",
   "execution_count": null,
   "id": "d981b15c-e1f1-451a-b159-b7745f7b3ea0",
   "metadata": {},
   "outputs": [],
   "source": []
  },
  {
   "cell_type": "code",
   "execution_count": null,
   "id": "c30ec7e9-5c1b-436b-af54-733e4ef0aedb",
   "metadata": {},
   "outputs": [],
   "source": []
  },
  {
   "cell_type": "code",
   "execution_count": null,
   "id": "5e729e4e-75bb-4940-90ee-30dfefc45f63",
   "metadata": {},
   "outputs": [],
   "source": []
  },
  {
   "cell_type": "code",
   "execution_count": null,
   "id": "655e2c95-a110-432b-9a8a-421c94fa08e2",
   "metadata": {},
   "outputs": [],
   "source": []
  },
  {
   "cell_type": "code",
   "execution_count": null,
   "id": "b5f6efc2-e5cc-47ae-a3c8-d619c6f83220",
   "metadata": {},
   "outputs": [],
   "source": []
  }
 ],
 "metadata": {
  "kernelspec": {
   "display_name": "Python 3 (ipykernel)",
   "language": "python",
   "name": "python3"
  },
  "language_info": {
   "codemirror_mode": {
    "name": "ipython",
    "version": 3
   },
   "file_extension": ".py",
   "mimetype": "text/x-python",
   "name": "python",
   "nbconvert_exporter": "python",
   "pygments_lexer": "ipython3",
   "version": "3.11.5"
  }
 },
 "nbformat": 4,
 "nbformat_minor": 5
}
