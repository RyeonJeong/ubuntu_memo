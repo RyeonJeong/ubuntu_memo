{
 "cells": [
  {
   "cell_type": "code",
   "execution_count": 1,
   "id": "3db6bd58-ebe1-4f00-acce-c2e4abd621dd",
   "metadata": {},
   "outputs": [
    {
     "name": "stderr",
     "output_type": "stream",
     "text": [
      "/home/himedia/.local/lib/python3.11/site-packages/pyspark/pandas/__init__.py:49: UserWarning: 'PYARROW_IGNORE_TIMEZONE' environment variable was not set. It is required to set this environment variable to '1' in both driver and executor sides if you use pyarrow>=2.0.0. pandas-on-Spark will set it for you but it does not work if there is a Spark context already launched.\n",
      "  warnings.warn(\n"
     ]
    }
   ],
   "source": [
    "from pyspark.sql import SparkSession\n",
    "import pyspark.pandas as ps\n",
    "import pandas as pd"
   ]
  },
  {
   "cell_type": "code",
   "execution_count": 2,
   "id": "b2d49605-63c1-459b-ac38-f7c7f460c4f3",
   "metadata": {},
   "outputs": [
    {
     "name": "stderr",
     "output_type": "stream",
     "text": [
      "Setting default log level to \"WARN\".\n",
      "To adjust logging level use sc.setLogLevel(newLevel). For SparkR, use setLogLevel(newLevel).\n"
     ]
    },
    {
     "name": "stdout",
     "output_type": "stream",
     "text": [
      "23/11/30 14:43:11 WARN NativeCodeLoader: Unable to load native-hadoop library for your platform... using builtin-java classes where applicable\n",
      "23/11/30 14:43:12 WARN Utils: Service 'SparkUI' could not bind on port 4040. Attempting port 4041.\n"
     ]
    }
   ],
   "source": [
    "spark = SparkSession.builder.config(\"spark.executor.memory\", \"10g\").config(\"spark.driver.memory\", \"2G\").getOrCreate()"
   ]
  },
  {
   "cell_type": "code",
   "execution_count": 3,
   "id": "12f29f26-19f9-4c98-ae33-abc4e28ea543",
   "metadata": {},
   "outputs": [],
   "source": [
    "data = spark.read.csv('./data/부동산실거래가1998-2023.csv', header=True)"
   ]
  },
  {
   "cell_type": "code",
   "execution_count": 4,
   "id": "1d95fa1b-5395-4507-89f4-396f7ad78554",
   "metadata": {},
   "outputs": [
    {
     "name": "stdout",
     "output_type": "stream",
     "text": [
      "+---------------------------------+-----------+------------+--------+--------------+---+--------+\n",
      "|                           시군구|     단지명|전용면적(㎡)|계약년월|거래금액(만원)| 층|건축년도|\n",
      "+---------------------------------+-----------+------------+--------+--------------+---+--------+\n",
      "|강원특별자치도 양구군 양구읍 상리|       경림|        59.4|  200509|          5000| 11|    1998|\n",
      "|           경기도 의정부시 민락동| 한라비발디|       84.99|  200510|         12750| 19|    2003|\n",
      "|           경기도 의정부시 신곡동|      신일1|      59.878|  200510|          5750|  3|    1997|\n",
      "|           경기도 의정부시 신곡동|       풍림|       49.83|  200510|          5500|  8|    1998|\n",
      "|           경기도 의정부시 용현동|용현현대1차|      129.73|  200511|         12200| 11|    1992|\n",
      "|           경기도 의정부시 용현동|용현현대1차|      129.73|  200511|         11500| 17|    1992|\n",
      "|     강원특별자치도 강릉시 견소동|   송정한신|       43.38|  200601|          4200|  1|    1997|\n",
      "|       강원특별자치도 강릉시 교동|  교동1주공|       59.89|  200601|          7500|  2|    1999|\n",
      "|       강원특별자치도 강릉시 교동|  교동1주공|       59.89|  200601|          8500| 11|    1999|\n",
      "|       강원특별자치도 강릉시 교동|  교동1주공|       84.84|  200601|         12500|  5|    1999|\n",
      "|       강원특별자치도 강릉시 교동|  교동1주공|       59.89|  200601|          5998|  2|    1999|\n",
      "|       강원특별자치도 강릉시 교동|  교동1주공|       59.89|  200601|          7379|  4|    1999|\n",
      "|       강원특별자치도 강릉시 교동|  교동1주공|       49.85|  200601|          5580|  6|    1999|\n",
      "|       강원특별자치도 강릉시 교동|  교동1주공|       59.89|  200601|          7213| 14|    1999|\n",
      "|       강원특별자치도 강릉시 교동|  교동1주공|       59.89|  200601|          7379|  7|    1999|\n",
      "|       강원특별자치도 강릉시 교동|  교동1주공|       59.89|  200601|          7379| 13|    1999|\n",
      "|       강원특별자치도 강릉시 교동|  교동1주공|       59.89|  200601|          7213| 14|    1999|\n",
      "|       강원특별자치도 강릉시 교동|  교동1주공|       59.89|  200601|          7379|  9|    1999|\n",
      "|       강원특별자치도 강릉시 교동|  교동1주공|       59.89|  200601|          7379|  3|    1999|\n",
      "|       강원특별자치도 강릉시 교동|  교동1주공|       59.89|  200601|          8600|  7|    1999|\n",
      "+---------------------------------+-----------+------------+--------+--------------+---+--------+\n",
      "only showing top 20 rows\n",
      "\n"
     ]
    }
   ],
   "source": [
    "data.show()"
   ]
  },
  {
   "cell_type": "code",
   "execution_count": 5,
   "id": "1a3bfbcf-bfdf-4cdc-8154-b8e47d752a32",
   "metadata": {},
   "outputs": [
    {
     "name": "stdout",
     "output_type": "stream",
     "text": [
      "root\n",
      " |-- 시군구: string (nullable = true)\n",
      " |-- 단지명: string (nullable = true)\n",
      " |-- 전용면적(㎡): string (nullable = true)\n",
      " |-- 계약년월: string (nullable = true)\n",
      " |-- 거래금액(만원): string (nullable = true)\n",
      " |-- 층: string (nullable = true)\n",
      " |-- 건축년도: string (nullable = true)\n",
      "\n"
     ]
    }
   ],
   "source": [
    "data.printSchema()"
   ]
  },
  {
   "cell_type": "markdown",
   "id": "b67f8fcb-ee6b-4569-8d9f-7e8e57c356fa",
   "metadata": {},
   "source": [
    "# 전체 데이터의 양 측정\n",
    "* count() = 전체 행\n",
    "* len(데이터프레임.columns) = 컬럼 수"
   ]
  },
  {
   "cell_type": "code",
   "execution_count": 6,
   "id": "40c17522-5955-427a-a7ca-ba49092ab75a",
   "metadata": {},
   "outputs": [],
   "source": [
    "import pyspark.sql.functions as f"
   ]
  },
  {
   "cell_type": "code",
   "execution_count": 7,
   "id": "630f3d77-6c89-44a3-aeaa-e06d0cedba5e",
   "metadata": {},
   "outputs": [
    {
     "name": "stderr",
     "output_type": "stream",
     "text": [
      "[Stage 2:=======================================>                   (4 + 2) / 6]\r"
     ]
    },
    {
     "name": "stdout",
     "output_type": "stream",
     "text": [
      "9591228 7\n"
     ]
    },
    {
     "name": "stderr",
     "output_type": "stream",
     "text": [
      "                                                                                \r"
     ]
    }
   ],
   "source": [
    "print(data.count(), len(data.columns))"
   ]
  },
  {
   "cell_type": "markdown",
   "id": "83fde7f6-a44d-4459-a7a6-5e1507e9f40c",
   "metadata": {},
   "source": [
    "# 컬럼의 데이터 타입 바꾸기(거래금액, 전용면적) 숫자로 바꾸기"
   ]
  },
  {
   "cell_type": "code",
   "execution_count": 8,
   "id": "2836e327-62cb-46aa-aca5-7e2b7f1160a2",
   "metadata": {},
   "outputs": [],
   "source": [
    "data = data.withColumn('거래금액(만원)', f.col('거래금액(만원)').cast('int'))"
   ]
  },
  {
   "cell_type": "code",
   "execution_count": 9,
   "id": "9103ffae-170a-4213-acf0-0c4fa6ec9065",
   "metadata": {},
   "outputs": [
    {
     "name": "stdout",
     "output_type": "stream",
     "text": [
      "root\n",
      " |-- 시군구: string (nullable = true)\n",
      " |-- 단지명: string (nullable = true)\n",
      " |-- 전용면적(㎡): string (nullable = true)\n",
      " |-- 계약년월: string (nullable = true)\n",
      " |-- 거래금액(만원): integer (nullable = true)\n",
      " |-- 층: string (nullable = true)\n",
      " |-- 건축년도: string (nullable = true)\n",
      "\n"
     ]
    }
   ],
   "source": [
    "data.printSchema()"
   ]
  },
  {
   "cell_type": "code",
   "execution_count": 10,
   "id": "6cb001e1-82ee-4c5d-ab0b-5fb20fda836a",
   "metadata": {},
   "outputs": [],
   "source": [
    "data = data.withColumn('전용면적(㎡)', f.col('전용면적(㎡)').cast('float'))"
   ]
  },
  {
   "cell_type": "code",
   "execution_count": 11,
   "id": "035a2abf-5823-4f94-8e4a-07cefa853089",
   "metadata": {},
   "outputs": [
    {
     "name": "stdout",
     "output_type": "stream",
     "text": [
      "root\n",
      " |-- 시군구: string (nullable = true)\n",
      " |-- 단지명: string (nullable = true)\n",
      " |-- 전용면적(㎡): float (nullable = true)\n",
      " |-- 계약년월: string (nullable = true)\n",
      " |-- 거래금액(만원): integer (nullable = true)\n",
      " |-- 층: string (nullable = true)\n",
      " |-- 건축년도: string (nullable = true)\n",
      "\n"
     ]
    }
   ],
   "source": [
    "data.printSchema()"
   ]
  },
  {
   "cell_type": "code",
   "execution_count": 12,
   "id": "5079ff82-fc39-4830-9f7c-172cda0a798c",
   "metadata": {},
   "outputs": [
    {
     "name": "stderr",
     "output_type": "stream",
     "text": [
      "ERROR:root:KeyboardInterrupt while sending command.                 (0 + 4) / 6]\n",
      "Traceback (most recent call last):\n",
      "  File \"/home/himedia/.local/lib/python3.11/site-packages/py4j/java_gateway.py\", line 1038, in send_command\n",
      "    response = connection.send_command(command)\n",
      "               ^^^^^^^^^^^^^^^^^^^^^^^^^^^^^^^^\n",
      "  File \"/home/himedia/.local/lib/python3.11/site-packages/py4j/clientserver.py\", line 511, in send_command\n",
      "    answer = smart_decode(self.stream.readline()[:-1])\n",
      "                          ^^^^^^^^^^^^^^^^^^^^^^\n",
      "  File \"/home/himedia/.conda/envs/spark/lib/python3.11/socket.py\", line 706, in readinto\n",
      "    return self._sock.recv_into(b)\n",
      "           ^^^^^^^^^^^^^^^^^^^^^^^\n",
      "KeyboardInterrupt\n"
     ]
    },
    {
     "ename": "KeyboardInterrupt",
     "evalue": "",
     "output_type": "error",
     "traceback": [
      "\u001b[0;31m---------------------------------------------------------------------------\u001b[0m",
      "\u001b[0;31mKeyboardInterrupt\u001b[0m                         Traceback (most recent call last)",
      "Cell \u001b[0;32mIn[12], line 1\u001b[0m\n\u001b[0;32m----> 1\u001b[0m data\u001b[38;5;241m.\u001b[39msummary()\u001b[38;5;241m.\u001b[39mshow()\n",
      "File \u001b[0;32m~/.local/lib/python3.11/site-packages/pyspark/sql/dataframe.py:1885\u001b[0m, in \u001b[0;36mDataFrame.summary\u001b[0;34m(self, *statistics)\u001b[0m\n\u001b[1;32m   1883\u001b[0m \u001b[38;5;28;01mif\u001b[39;00m \u001b[38;5;28mlen\u001b[39m(statistics) \u001b[38;5;241m==\u001b[39m \u001b[38;5;241m1\u001b[39m \u001b[38;5;129;01mand\u001b[39;00m \u001b[38;5;28misinstance\u001b[39m(statistics[\u001b[38;5;241m0\u001b[39m], \u001b[38;5;28mlist\u001b[39m):\n\u001b[1;32m   1884\u001b[0m     statistics \u001b[38;5;241m=\u001b[39m statistics[\u001b[38;5;241m0\u001b[39m]\n\u001b[0;32m-> 1885\u001b[0m jdf \u001b[38;5;241m=\u001b[39m \u001b[38;5;28mself\u001b[39m\u001b[38;5;241m.\u001b[39m_jdf\u001b[38;5;241m.\u001b[39msummary(\u001b[38;5;28mself\u001b[39m\u001b[38;5;241m.\u001b[39m_jseq(statistics))\n\u001b[1;32m   1886\u001b[0m \u001b[38;5;28;01mreturn\u001b[39;00m DataFrame(jdf, \u001b[38;5;28mself\u001b[39m\u001b[38;5;241m.\u001b[39msparkSession)\n",
      "File \u001b[0;32m~/.local/lib/python3.11/site-packages/py4j/java_gateway.py:1320\u001b[0m, in \u001b[0;36mJavaMember.__call__\u001b[0;34m(self, *args)\u001b[0m\n\u001b[1;32m   1313\u001b[0m args_command, temp_args \u001b[38;5;241m=\u001b[39m \u001b[38;5;28mself\u001b[39m\u001b[38;5;241m.\u001b[39m_build_args(\u001b[38;5;241m*\u001b[39margs)\n\u001b[1;32m   1315\u001b[0m command \u001b[38;5;241m=\u001b[39m proto\u001b[38;5;241m.\u001b[39mCALL_COMMAND_NAME \u001b[38;5;241m+\u001b[39m\\\n\u001b[1;32m   1316\u001b[0m     \u001b[38;5;28mself\u001b[39m\u001b[38;5;241m.\u001b[39mcommand_header \u001b[38;5;241m+\u001b[39m\\\n\u001b[1;32m   1317\u001b[0m     args_command \u001b[38;5;241m+\u001b[39m\\\n\u001b[1;32m   1318\u001b[0m     proto\u001b[38;5;241m.\u001b[39mEND_COMMAND_PART\n\u001b[0;32m-> 1320\u001b[0m answer \u001b[38;5;241m=\u001b[39m \u001b[38;5;28mself\u001b[39m\u001b[38;5;241m.\u001b[39mgateway_client\u001b[38;5;241m.\u001b[39msend_command(command)\n\u001b[1;32m   1321\u001b[0m return_value \u001b[38;5;241m=\u001b[39m get_return_value(\n\u001b[1;32m   1322\u001b[0m     answer, \u001b[38;5;28mself\u001b[39m\u001b[38;5;241m.\u001b[39mgateway_client, \u001b[38;5;28mself\u001b[39m\u001b[38;5;241m.\u001b[39mtarget_id, \u001b[38;5;28mself\u001b[39m\u001b[38;5;241m.\u001b[39mname)\n\u001b[1;32m   1324\u001b[0m \u001b[38;5;28;01mfor\u001b[39;00m temp_arg \u001b[38;5;129;01min\u001b[39;00m temp_args:\n",
      "File \u001b[0;32m~/.local/lib/python3.11/site-packages/py4j/java_gateway.py:1038\u001b[0m, in \u001b[0;36mGatewayClient.send_command\u001b[0;34m(self, command, retry, binary)\u001b[0m\n\u001b[1;32m   1036\u001b[0m connection \u001b[38;5;241m=\u001b[39m \u001b[38;5;28mself\u001b[39m\u001b[38;5;241m.\u001b[39m_get_connection()\n\u001b[1;32m   1037\u001b[0m \u001b[38;5;28;01mtry\u001b[39;00m:\n\u001b[0;32m-> 1038\u001b[0m     response \u001b[38;5;241m=\u001b[39m connection\u001b[38;5;241m.\u001b[39msend_command(command)\n\u001b[1;32m   1039\u001b[0m     \u001b[38;5;28;01mif\u001b[39;00m binary:\n\u001b[1;32m   1040\u001b[0m         \u001b[38;5;28;01mreturn\u001b[39;00m response, \u001b[38;5;28mself\u001b[39m\u001b[38;5;241m.\u001b[39m_create_connection_guard(connection)\n",
      "File \u001b[0;32m~/.local/lib/python3.11/site-packages/py4j/clientserver.py:511\u001b[0m, in \u001b[0;36mClientServerConnection.send_command\u001b[0;34m(self, command)\u001b[0m\n\u001b[1;32m    509\u001b[0m \u001b[38;5;28;01mtry\u001b[39;00m:\n\u001b[1;32m    510\u001b[0m     \u001b[38;5;28;01mwhile\u001b[39;00m \u001b[38;5;28;01mTrue\u001b[39;00m:\n\u001b[0;32m--> 511\u001b[0m         answer \u001b[38;5;241m=\u001b[39m smart_decode(\u001b[38;5;28mself\u001b[39m\u001b[38;5;241m.\u001b[39mstream\u001b[38;5;241m.\u001b[39mreadline()[:\u001b[38;5;241m-\u001b[39m\u001b[38;5;241m1\u001b[39m])\n\u001b[1;32m    512\u001b[0m         logger\u001b[38;5;241m.\u001b[39mdebug(\u001b[38;5;124m\"\u001b[39m\u001b[38;5;124mAnswer received: \u001b[39m\u001b[38;5;132;01m{0}\u001b[39;00m\u001b[38;5;124m\"\u001b[39m\u001b[38;5;241m.\u001b[39mformat(answer))\n\u001b[1;32m    513\u001b[0m         \u001b[38;5;66;03m# Happens when a the other end is dead. There might be an empty\u001b[39;00m\n\u001b[1;32m    514\u001b[0m         \u001b[38;5;66;03m# answer before the socket raises an error.\u001b[39;00m\n",
      "File \u001b[0;32m~/.conda/envs/spark/lib/python3.11/socket.py:706\u001b[0m, in \u001b[0;36mSocketIO.readinto\u001b[0;34m(self, b)\u001b[0m\n\u001b[1;32m    704\u001b[0m \u001b[38;5;28;01mwhile\u001b[39;00m \u001b[38;5;28;01mTrue\u001b[39;00m:\n\u001b[1;32m    705\u001b[0m     \u001b[38;5;28;01mtry\u001b[39;00m:\n\u001b[0;32m--> 706\u001b[0m         \u001b[38;5;28;01mreturn\u001b[39;00m \u001b[38;5;28mself\u001b[39m\u001b[38;5;241m.\u001b[39m_sock\u001b[38;5;241m.\u001b[39mrecv_into(b)\n\u001b[1;32m    707\u001b[0m     \u001b[38;5;28;01mexcept\u001b[39;00m timeout:\n\u001b[1;32m    708\u001b[0m         \u001b[38;5;28mself\u001b[39m\u001b[38;5;241m.\u001b[39m_timeout_occurred \u001b[38;5;241m=\u001b[39m \u001b[38;5;28;01mTrue\u001b[39;00m\n",
      "\u001b[0;31mKeyboardInterrupt\u001b[0m: "
     ]
    }
   ],
   "source": [
    "data.summary().show()"
   ]
  },
  {
   "cell_type": "code",
   "execution_count": 13,
   "id": "826af72c-7909-498a-832d-312ec66bb1e3",
   "metadata": {},
   "outputs": [
    {
     "name": "stderr",
     "output_type": "stream",
     "text": [
      "[Stage 5:============>      (4 + 2) / 6][Stage 6:===============>   (5 + 1) / 6]\r"
     ]
    },
    {
     "name": "stdout",
     "output_type": "stream",
     "text": [
      "+------+------+------------+--------+--------------+---+--------+\n",
      "|시군구|단지명|전용면적(㎡)|계약년월|거래금액(만원)| 층|건축년도|\n",
      "+------+------+------------+--------+--------------+---+--------+\n",
      "|     0|     0|           0|       0|             0|  0|       0|\n",
      "+------+------+------------+--------+--------------+---+--------+\n",
      "\n"
     ]
    },
    {
     "name": "stderr",
     "output_type": "stream",
     "text": [
      "[Stage 5:=======================================>                   (4 + 2) / 6]\r"
     ]
    }
   ],
   "source": [
    "# 결측값 검사\n",
    "data.select(*(f.sum(f.col(c).isNull().cast('int')).alias(c) for c in data.columns)).show()\n",
    "# 결측값 없어서 0 나옴"
   ]
  },
  {
   "cell_type": "markdown",
   "id": "4fcd3215-afa6-4a56-98fc-4c1a44603ee8",
   "metadata": {},
   "source": [
    "# 데이터 프레임에서 이상값 찾기"
   ]
  },
  {
   "cell_type": "code",
   "execution_count": 14,
   "id": "0cf46e19-9717-4f21-a478-2f9af19d66f4",
   "metadata": {},
   "outputs": [
    {
     "name": "stderr",
     "output_type": "stream",
     "text": [
      "[Stage 5:=======================================>                   (4 + 2) / 6]\r"
     ]
    }
   ],
   "source": [
    "bounds = data.stat.approxQuantile('거래금액(만원)', [0.25, 0.75], 0)"
   ]
  },
  {
   "cell_type": "code",
   "execution_count": 15,
   "id": "75cb10fd-27e5-4cbe-98f8-68c50f182b62",
   "metadata": {},
   "outputs": [
    {
     "data": {
      "text/plain": [
       "[11000.0, 32000.0]"
      ]
     },
     "execution_count": 15,
     "metadata": {},
     "output_type": "execute_result"
    }
   ],
   "source": [
    "bounds"
   ]
  },
  {
   "cell_type": "code",
   "execution_count": 16,
   "id": "cfdad26e-0c3e-473f-8f6f-d2b6dc773721",
   "metadata": {},
   "outputs": [],
   "source": [
    "# 이상치 최대값, 최소값\n",
    "lower_range = bounds[0] - (1.5 * (bounds[1] - bounds[0]))\n",
    "upper_range = bounds[1] + (1.5 * (bounds[1] - bounds[0]))"
   ]
  },
  {
   "cell_type": "code",
   "execution_count": 17,
   "id": "45b9595c-f0a9-4cc6-aa2c-8247468307b9",
   "metadata": {},
   "outputs": [
    {
     "name": "stdout",
     "output_type": "stream",
     "text": [
      "-20500.0\n",
      "63500.0\n"
     ]
    }
   ],
   "source": [
    "print(lower_range)\n",
    "print(upper_range)"
   ]
  },
  {
   "cell_type": "code",
   "execution_count": 18,
   "id": "d559198e-02c1-4951-aabe-2ea70fe018c9",
   "metadata": {},
   "outputs": [
    {
     "name": "stderr",
     "output_type": "stream",
     "text": [
      "                                                                                \r"
     ]
    },
    {
     "data": {
      "text/plain": [
       "578946"
      ]
     },
     "execution_count": 18,
     "metadata": {},
     "output_type": "execute_result"
    },
    {
     "name": "stderr",
     "output_type": "stream",
     "text": [
      "[Stage 5:=======================================>                   (4 + 2) / 6]\r"
     ]
    }
   ],
   "source": [
    "data.filter((data['거래금액(만원)'] < lower_range) | (data['거래금액(만원)'] > upper_range)).count()"
   ]
  },
  {
   "cell_type": "code",
   "execution_count": 19,
   "id": "bd680df8-423e-40b0-b791-fac7c3a9f876",
   "metadata": {},
   "outputs": [
    {
     "name": "stdout",
     "output_type": "stream",
     "text": [
      "+--------------------------+---------------+------------+--------+--------------+---+--------+\n",
      "|                    시군구|         단지명|전용면적(㎡)|계약년월|거래금액(만원)| 층|건축년도|\n",
      "+--------------------------+---------------+------------+--------+--------------+---+--------+\n",
      "|경기도 고양일산동구 마두동| 강촌마을(영남)|      165.99|  200601|         78000| 18|    1992|\n",
      "|경기도 고양일산동구 마두동| 강촌마을(우방)|      134.99|  200601|         71300| 10|    1993|\n",
      "|경기도 고양일산동구 마두동| 강촌마을(우방)|      134.99|  200601|         73000|  5|    1993|\n",
      "|경기도 고양일산동구 마두동| 강촌마을(우방)|      134.99|  200601|         67000|  7|    1993|\n",
      "|경기도 고양일산동구 마두동| 강촌마을(우방)|      164.37|  200601|         87500| 17|    1993|\n",
      "|경기도 고양일산동구 마두동| 강촌마을(우방)|      164.37|  200601|        102750|  5|    1993|\n",
      "|경기도 고양일산동구 마두동| 강촌마을(한신)|      173.58|  200601|         78500| 17|    1993|\n",
      "|경기도 고양일산동구 마두동| 강촌마을(한신)|      173.58|  200601|         73500| 12|    1993|\n",
      "|경기도 고양일산동구 마두동| 강촌마을(한신)|     134.803|  200601|         67500| 10|    1993|\n",
      "|경기도 고양일산동구 마두동| 백마마을(극동)|       132.8|  200601|         79700|  9|    1992|\n",
      "|경기도 고양일산동구 마두동| 백마마을(극동)|       132.8|  200601|         69000| 11|    1992|\n",
      "|경기도 고양일산동구 마두동| 백마마을(삼성)|      133.47|  200601|         69000|  8|    1993|\n",
      "|경기도 고양일산동구 마두동| 백마마을(삼성)|      133.47|  200601|         72500|  5|    1993|\n",
      "|경기도 고양일산동구 마두동| 백마마을(삼성)|      133.47|  200601|         76400| 18|    1993|\n",
      "|경기도 고양일산동구 마두동| 백마마을(삼환)|       132.8|  200601|         70000|  8|    1992|\n",
      "|경기도 고양일산동구 마두동| 백마마을(삼환)|       132.8|  200601|         71500|  8|    1992|\n",
      "|경기도 고양일산동구 장항동| 호수마을(삼환)|      132.33|  200601|         65000|  9|    1994|\n",
      "|경기도 고양일산서구 일산동| 후곡마을(동신)|      164.52|  200601|         71500|  9|    1994|\n",
      "|경기도 고양일산서구 일산동| 후곡마을(임광)|      130.23|  200601|         64700|  6|    1995|\n",
      "|경기도 고양일산서구 일산동|후곡마을(현대3)|     133.425|  200601|         64800| 12|    1994|\n",
      "+--------------------------+---------------+------------+--------+--------------+---+--------+\n",
      "only showing top 20 rows\n",
      "\n"
     ]
    },
    {
     "name": "stderr",
     "output_type": "stream",
     "text": [
      "[Stage 5:=======================================>                   (4 + 2) / 6]\r"
     ]
    }
   ],
   "source": [
    "data.filter((data['거래금액(만원)'] < lower_range) | (data['거래금액(만원)'] > upper_range)).show()"
   ]
  },
  {
   "cell_type": "markdown",
   "id": "d27b3094-42af-45f6-9f79-b51374fee733",
   "metadata": {},
   "source": [
    "# 데이터프레임에서 이상값 찾는 함수"
   ]
  },
  {
   "cell_type": "code",
   "execution_count": 20,
   "id": "6f80d0a9-39a2-45d8-8eac-eb4066cc639a",
   "metadata": {
    "scrolled": true
   },
   "outputs": [
    {
     "data": {
      "text/plain": [
       "[('전용면적(㎡)', 'float')]"
      ]
     },
     "execution_count": 20,
     "metadata": {},
     "output_type": "execute_result"
    }
   ],
   "source": [
    "data.select('전용면적(㎡)').dtypes"
   ]
  },
  {
   "cell_type": "code",
   "execution_count": 21,
   "id": "9216a5a6-49c5-4a62-ab8c-44fa02867788",
   "metadata": {},
   "outputs": [
    {
     "data": {
      "text/plain": [
       "'float'"
      ]
     },
     "execution_count": 21,
     "metadata": {},
     "output_type": "execute_result"
    }
   ],
   "source": [
    "data.select('전용면적(㎡)').dtypes[0][1]"
   ]
  },
  {
   "cell_type": "code",
   "execution_count": 22,
   "id": "4d4ae877-2078-487c-ad03-cb27530b60ae",
   "metadata": {},
   "outputs": [],
   "source": [
    "def out_lier(data):\n",
    "    import pyspark.sql.functions as f\n",
    "    for col_name in data.columns:\n",
    "        if data.select(col_name).dtypes[0][1] in ('int', 'integer', 'float', 'float32', 'float64', 'double'):\n",
    "            bounds = data.stat.approxQuantile(col_name, [0.25, 0.75], 0)\n",
    "            # 이상치 범위계산\n",
    "            lower_range = bounds[0] - (1.5 * (bounds[1] - bounds[0]))\n",
    "            upper_range = bounds[1] + (1.5 * (bounds[1] - bounds[0]))\n",
    "            print(col_name, lower_range, upper_range)\n",
    "            # 이상치 필터링\n",
    "            outliers = data.filter((data[col_name] < lower_range) | (data[col_name] > upper_range))\n",
    "            print('number of outliers: ', outliers.count())\n",
    "            outliers.show()"
   ]
  },
  {
   "cell_type": "code",
   "execution_count": 23,
   "id": "362d2f5c-4e66-48cb-911b-dacb8ad2559a",
   "metadata": {},
   "outputs": [
    {
     "name": "stderr",
     "output_type": "stream",
     "text": [
      "                                                                                \r"
     ]
    },
    {
     "name": "stdout",
     "output_type": "stream",
     "text": [
      "전용면적(㎡) 21.3750057220459 123.09499168395996\n"
     ]
    },
    {
     "name": "stderr",
     "output_type": "stream",
     "text": [
      "                                                                                \r"
     ]
    },
    {
     "name": "stdout",
     "output_type": "stream",
     "text": [
      "number of outliers:  639736\n",
      "+-----------------------------------+-------------------+------------+--------+--------------+---+--------+\n",
      "|                             시군구|             단지명|전용면적(㎡)|계약년월|거래금액(만원)| 층|건축년도|\n",
      "+-----------------------------------+-------------------+------------+--------+--------------+---+--------+\n",
      "|             경기도 의정부시 용현동|        용현현대1차|      129.73|  200511|         12200| 11|    1992|\n",
      "|             경기도 의정부시 용현동|        용현현대1차|      129.73|  200511|         11500| 17|    1992|\n",
      "|       강원특별자치도 강릉시 노암동|           노암한라|     129.801|  200601|         11300|  6|    1994|\n",
      "|       강원특별자치도 강릉시 포남동|              대인4|       19.99|  200601|          1000|  5|    1995|\n",
      "|       강원특별자치도 강릉시 포남동|              대인4|       19.99|  200601|          1850| 10|    1995|\n",
      "|       강원특별자치도 속초시 조양동|              부영3|     166.535|  200601|         15650| 11|    1996|\n",
      "|       강원특별자치도 속초시 조양동|              부영3|     133.835|  200601|         12100|  9|    1996|\n",
      "|강원특별자치도 양양군 양양읍 구교리|       동북아트맨션|      130.26|  200601|          8500|  1|    1992|\n",
      "|       강원특별자치도 원주시 단계동|            현대3차|     132.725|  200601|         15000|  7|    1992|\n",
      "|       강원특별자치도 원주시 단구동|               두산|      134.97|  200601|         17500|  6|    1997|\n",
      "|       강원특별자치도 원주시 명륜동|              현대1|      127.13|  200601|         14800|  9|    1990|\n",
      "|       강원특별자치도 춘천시 퇴계동|               한주|      134.43|  200601|         11000|  2|    1993|\n",
      "|       강원특별자치도 춘천시 후평동|               한신|      128.79|  200601|          9100| 15|    1991|\n",
      "|           경기도 고양덕양구 고양동|      푸른마을2단지|       134.1|  200601|         31000| 24|    2004|\n",
      "|           경기도 고양덕양구 성사동|      신원당(동신7)|      145.62|  200601|         40500| 11|    1992|\n",
      "|           경기도 고양덕양구 토당동|능곡풍림아이원1단지|      134.59|  200601|         33500|  2|    2002|\n",
      "|           경기도 고양덕양구 토당동|능곡풍림아이원1단지|      134.59|  200601|         32000|  2|    2002|\n",
      "|           경기도 고양덕양구 행신동|               동문|      131.27|  200601|         21800|  5|    1992|\n",
      "|           경기도 고양덕양구 행신동|      무원마을5단지|      134.07|  200601|         49500| 14|    1995|\n",
      "|           경기도 고양덕양구 행신동|      무원마을5단지|      134.07|  200601|         47800|  6|    1995|\n",
      "+-----------------------------------+-------------------+------------+--------+--------------+---+--------+\n",
      "only showing top 20 rows\n",
      "\n"
     ]
    },
    {
     "name": "stderr",
     "output_type": "stream",
     "text": [
      "                                                                                \r"
     ]
    },
    {
     "name": "stdout",
     "output_type": "stream",
     "text": [
      "거래금액(만원) -20500.0 63500.0\n"
     ]
    },
    {
     "name": "stderr",
     "output_type": "stream",
     "text": [
      "                                                                                \r"
     ]
    },
    {
     "name": "stdout",
     "output_type": "stream",
     "text": [
      "number of outliers:  578946\n",
      "+--------------------------+---------------+------------+--------+--------------+---+--------+\n",
      "|                    시군구|         단지명|전용면적(㎡)|계약년월|거래금액(만원)| 층|건축년도|\n",
      "+--------------------------+---------------+------------+--------+--------------+---+--------+\n",
      "|경기도 고양일산동구 마두동| 강촌마을(영남)|      165.99|  200601|         78000| 18|    1992|\n",
      "|경기도 고양일산동구 마두동| 강촌마을(우방)|      134.99|  200601|         71300| 10|    1993|\n",
      "|경기도 고양일산동구 마두동| 강촌마을(우방)|      134.99|  200601|         73000|  5|    1993|\n",
      "|경기도 고양일산동구 마두동| 강촌마을(우방)|      134.99|  200601|         67000|  7|    1993|\n",
      "|경기도 고양일산동구 마두동| 강촌마을(우방)|      164.37|  200601|         87500| 17|    1993|\n",
      "|경기도 고양일산동구 마두동| 강촌마을(우방)|      164.37|  200601|        102750|  5|    1993|\n",
      "|경기도 고양일산동구 마두동| 강촌마을(한신)|      173.58|  200601|         78500| 17|    1993|\n",
      "|경기도 고양일산동구 마두동| 강촌마을(한신)|      173.58|  200601|         73500| 12|    1993|\n",
      "|경기도 고양일산동구 마두동| 강촌마을(한신)|     134.803|  200601|         67500| 10|    1993|\n",
      "|경기도 고양일산동구 마두동| 백마마을(극동)|       132.8|  200601|         79700|  9|    1992|\n",
      "|경기도 고양일산동구 마두동| 백마마을(극동)|       132.8|  200601|         69000| 11|    1992|\n",
      "|경기도 고양일산동구 마두동| 백마마을(삼성)|      133.47|  200601|         69000|  8|    1993|\n",
      "|경기도 고양일산동구 마두동| 백마마을(삼성)|      133.47|  200601|         72500|  5|    1993|\n",
      "|경기도 고양일산동구 마두동| 백마마을(삼성)|      133.47|  200601|         76400| 18|    1993|\n",
      "|경기도 고양일산동구 마두동| 백마마을(삼환)|       132.8|  200601|         70000|  8|    1992|\n",
      "|경기도 고양일산동구 마두동| 백마마을(삼환)|       132.8|  200601|         71500|  8|    1992|\n",
      "|경기도 고양일산동구 장항동| 호수마을(삼환)|      132.33|  200601|         65000|  9|    1994|\n",
      "|경기도 고양일산서구 일산동| 후곡마을(동신)|      164.52|  200601|         71500|  9|    1994|\n",
      "|경기도 고양일산서구 일산동| 후곡마을(임광)|      130.23|  200601|         64700|  6|    1995|\n",
      "|경기도 고양일산서구 일산동|후곡마을(현대3)|     133.425|  200601|         64800| 12|    1994|\n",
      "+--------------------------+---------------+------------+--------+--------------+---+--------+\n",
      "only showing top 20 rows\n",
      "\n"
     ]
    }
   ],
   "source": [
    "out_lier(data)"
   ]
  },
  {
   "cell_type": "markdown",
   "id": "69d573e6-0637-40e7-bdcd-427288c5b2a7",
   "metadata": {},
   "source": [
    "# 레이블 인코딩하기 StringIndexer\n",
    "* 데이터 프레임의 데이터 타입을 검출한 후 string이면 StringIndexer를 사용해 숫자로 변환"
   ]
  },
  {
   "cell_type": "markdown",
   "id": "88312199-1240-4639-b3a4-cbfefb9bbc99",
   "metadata": {},
   "source": [
    "# 레이블 인코딩과 one-hot 인코딩 한번에 하기\n",
    "* 데이터 프레임에서 데이터 타입이 string인 컬럼 찾기\n",
    "* StringIndexer 를 이용해 레이블 인코딩(문자->숫자)\n",
    "* 숫자로 변경된 컬럼을 OneHotEncoder를 이용해 OneHotEncoding (숫자-> 원핫인코딩)"
   ]
  },
  {
   "cell_type": "code",
   "execution_count": null,
   "id": "c6115fb3-4034-4742-b948-6a0e1f129b67",
   "metadata": {},
   "outputs": [],
   "source": []
  },
  {
   "cell_type": "code",
   "execution_count": null,
   "id": "d6e27258-fbdb-4fdf-8e0e-99ede6645e71",
   "metadata": {},
   "outputs": [],
   "source": []
  },
  {
   "cell_type": "code",
   "execution_count": null,
   "id": "8c04bc1b-a49a-4eb2-ad11-f6402f228364",
   "metadata": {},
   "outputs": [],
   "source": []
  },
  {
   "cell_type": "code",
   "execution_count": null,
   "id": "37e237bf-a87a-4188-bd8e-926eef66a6f6",
   "metadata": {},
   "outputs": [],
   "source": []
  },
  {
   "cell_type": "code",
   "execution_count": null,
   "id": "27f0d2b3-6d41-44b4-8dd6-ba0bb5edef7b",
   "metadata": {},
   "outputs": [],
   "source": []
  },
  {
   "cell_type": "code",
   "execution_count": null,
   "id": "8ae16a0e-166c-44ea-9a44-aa74bd438900",
   "metadata": {},
   "outputs": [],
   "source": []
  },
  {
   "cell_type": "code",
   "execution_count": null,
   "id": "440971df-5579-4fac-91e7-192c97e99d6e",
   "metadata": {},
   "outputs": [],
   "source": []
  },
  {
   "cell_type": "code",
   "execution_count": 25,
   "id": "57468375-0c1f-4bca-b7c7-507d2efbd832",
   "metadata": {},
   "outputs": [
    {
     "data": {
      "text/plain": [
       "[('시군구', 'string'),\n",
       " ('단지명', 'string'),\n",
       " ('전용면적(㎡)', 'float'),\n",
       " ('계약년월', 'string'),\n",
       " ('거래금액(만원)', 'int'),\n",
       " ('층', 'string'),\n",
       " ('건축년도', 'string')]"
      ]
     },
     "execution_count": 25,
     "metadata": {},
     "output_type": "execute_result"
    }
   ],
   "source": [
    "data.dtypes"
   ]
  },
  {
   "cell_type": "code",
   "execution_count": 26,
   "id": "dba65339-0cf3-4657-93fc-22bd4be06192",
   "metadata": {},
   "outputs": [
    {
     "name": "stderr",
     "output_type": "stream",
     "text": [
      "                                                                                \r"
     ]
    }
   ],
   "source": [
    "# 레이블 인코딩 하기 scikit-learn의 label encoding과 같은 역할\n",
    "from pyspark.ml.feature import StringIndexer\n",
    "indexer = StringIndexer(inputCols=['시군구','단지명','계약년월','층','건축년도'], outputCols=['시군구Index','단지명Index','계약년월Index','층Index','건축년도Index'])\n",
    "data = indexer.fit(data).transform(data)"
   ]
  },
  {
   "cell_type": "code",
   "execution_count": 27,
   "id": "487d5bf6-7ceb-415e-b6af-a927ba54c580",
   "metadata": {},
   "outputs": [
    {
     "data": {
      "text/plain": [
       "[('시군구', 'string'),\n",
       " ('단지명', 'string'),\n",
       " ('전용면적(㎡)', 'float'),\n",
       " ('계약년월', 'string'),\n",
       " ('거래금액(만원)', 'int'),\n",
       " ('층', 'string'),\n",
       " ('건축년도', 'string'),\n",
       " ('시군구Index', 'double'),\n",
       " ('단지명Index', 'double'),\n",
       " ('계약년월Index', 'double'),\n",
       " ('층Index', 'double'),\n",
       " ('건축년도Index', 'double')]"
      ]
     },
     "execution_count": 27,
     "metadata": {},
     "output_type": "execute_result"
    }
   ],
   "source": [
    "data.dtypes"
   ]
  },
  {
   "cell_type": "code",
   "execution_count": 28,
   "id": "1cf3eb3e-348f-4b19-8fee-75242cc95681",
   "metadata": {},
   "outputs": [
    {
     "name": "stdout",
     "output_type": "stream",
     "text": [
      "23/11/30 14:51:00 WARN DAGScheduler: Broadcasting large task binary with size 1711.8 KiB\n",
      "+---------------------------------+-----------+------------+--------+--------------+---+--------+-----------+-----------+-------------+-------+-------------+\n",
      "|                           시군구|     단지명|전용면적(㎡)|계약년월|거래금액(만원)| 층|건축년도|시군구Index|단지명Index|계약년월Index|층Index|건축년도Index|\n",
      "+---------------------------------+-----------+------------+--------+--------------+---+--------+-----------+-----------+-------------+-------+-------------+\n",
      "|강원특별자치도 양구군 양구읍 상리|       경림|        59.4|  200509|          5000| 11|    1998|     1969.0|     2139.0|        206.0|   10.0|          1.0|\n",
      "|           경기도 의정부시 민락동| 한라비발디|       84.99|  200510|         12750| 19|    2003|       95.0|       25.0|        204.0|   18.0|          9.0|\n",
      "|           경기도 의정부시 신곡동|      신일1|      59.878|  200510|          5750|  3|    1997|       17.0|     6011.0|        204.0|    2.0|          0.0|\n",
      "|           경기도 의정부시 신곡동|       풍림|       49.83|  200510|          5500|  8|    1998|       17.0|       36.0|        204.0|    7.0|          1.0|\n",
      "|           경기도 의정부시 용현동|용현현대1차|      129.73|  200511|         12200| 11|    1992|      187.0|     2206.0|        205.0|   10.0|         13.0|\n",
      "|           경기도 의정부시 용현동|용현현대1차|      129.73|  200511|         11500| 17|    1992|      187.0|     2206.0|        205.0|   16.0|         13.0|\n",
      "|     강원특별자치도 강릉시 견소동|   송정한신|       43.38|  200601|          4200|  1|    1997|     1197.0|     2888.0|        191.0|    4.0|          0.0|\n",
      "|       강원특별자치도 강릉시 교동|  교동1주공|       59.89|  200601|          7500|  2|    1999|      363.0|     1516.0|        191.0|    3.0|          7.0|\n",
      "|       강원특별자치도 강릉시 교동|  교동1주공|       59.89|  200601|          8500| 11|    1999|      363.0|     1516.0|        191.0|   10.0|          7.0|\n",
      "|       강원특별자치도 강릉시 교동|  교동1주공|       84.84|  200601|         12500|  5|    1999|      363.0|     1516.0|        191.0|    1.0|          7.0|\n",
      "|       강원특별자치도 강릉시 교동|  교동1주공|       59.89|  200601|          5998|  2|    1999|      363.0|     1516.0|        191.0|    3.0|          7.0|\n",
      "|       강원특별자치도 강릉시 교동|  교동1주공|       59.89|  200601|          7379|  4|    1999|      363.0|     1516.0|        191.0|    0.0|          7.0|\n",
      "|       강원특별자치도 강릉시 교동|  교동1주공|       49.85|  200601|          5580|  6|    1999|      363.0|     1516.0|        191.0|    5.0|          7.0|\n",
      "|       강원특별자치도 강릉시 교동|  교동1주공|       59.89|  200601|          7213| 14|    1999|      363.0|     1516.0|        191.0|   13.0|          7.0|\n",
      "|       강원특별자치도 강릉시 교동|  교동1주공|       59.89|  200601|          7379|  7|    1999|      363.0|     1516.0|        191.0|    6.0|          7.0|\n",
      "|       강원특별자치도 강릉시 교동|  교동1주공|       59.89|  200601|          7379| 13|    1999|      363.0|     1516.0|        191.0|   12.0|          7.0|\n",
      "|       강원특별자치도 강릉시 교동|  교동1주공|       59.89|  200601|          7213| 14|    1999|      363.0|     1516.0|        191.0|   13.0|          7.0|\n",
      "|       강원특별자치도 강릉시 교동|  교동1주공|       59.89|  200601|          7379|  9|    1999|      363.0|     1516.0|        191.0|    8.0|          7.0|\n",
      "|       강원특별자치도 강릉시 교동|  교동1주공|       59.89|  200601|          7379|  3|    1999|      363.0|     1516.0|        191.0|    2.0|          7.0|\n",
      "|       강원특별자치도 강릉시 교동|  교동1주공|       59.89|  200601|          8600|  7|    1999|      363.0|     1516.0|        191.0|    6.0|          7.0|\n",
      "+---------------------------------+-----------+------------+--------+--------------+---+--------+-----------+-----------+-------------+-------+-------------+\n",
      "only showing top 20 rows\n",
      "\n"
     ]
    }
   ],
   "source": [
    "data.show()"
   ]
  },
  {
   "cell_type": "code",
   "execution_count": 44,
   "id": "eef81476-45fb-4ff5-a111-1c42af8e1791",
   "metadata": {},
   "outputs": [
    {
     "name": "stdout",
     "output_type": "stream",
     "text": [
      "23/11/30 14:33:17 WARN DAGScheduler: Broadcasting large task binary with size 1711.0 KiB\n",
      "+------------+--------------+-----------+-----------+-------------+-------+-------------+\n",
      "|전용면적(㎡)|거래금액(만원)|시군구Index|단지명Index|계약년월Index|층Index|건축년도Index|\n",
      "+------------+--------------+-----------+-----------+-------------+-------+-------------+\n",
      "|        59.4|          5000|     1969.0|     2139.0|        206.0|   10.0|          1.0|\n",
      "|       84.99|         12750|       95.0|       25.0|        204.0|   18.0|          9.0|\n",
      "|      59.878|          5750|       17.0|     6011.0|        204.0|    2.0|          0.0|\n",
      "|       49.83|          5500|       17.0|       36.0|        204.0|    7.0|          1.0|\n",
      "|      129.73|         12200|      187.0|     2206.0|        205.0|   10.0|         13.0|\n",
      "|      129.73|         11500|      187.0|     2206.0|        205.0|   16.0|         13.0|\n",
      "|       43.38|          4200|     1197.0|     2888.0|        191.0|    4.0|          0.0|\n",
      "|       59.89|          7500|      363.0|     1516.0|        191.0|    3.0|          7.0|\n",
      "|       59.89|          8500|      363.0|     1516.0|        191.0|   10.0|          7.0|\n",
      "|       84.84|         12500|      363.0|     1516.0|        191.0|    1.0|          7.0|\n",
      "|       59.89|          5998|      363.0|     1516.0|        191.0|    3.0|          7.0|\n",
      "|       59.89|          7379|      363.0|     1516.0|        191.0|    0.0|          7.0|\n",
      "|       49.85|          5580|      363.0|     1516.0|        191.0|    5.0|          7.0|\n",
      "|       59.89|          7213|      363.0|     1516.0|        191.0|   13.0|          7.0|\n",
      "|       59.89|          7379|      363.0|     1516.0|        191.0|    6.0|          7.0|\n",
      "|       59.89|          7379|      363.0|     1516.0|        191.0|   12.0|          7.0|\n",
      "|       59.89|          7213|      363.0|     1516.0|        191.0|   13.0|          7.0|\n",
      "|       59.89|          7379|      363.0|     1516.0|        191.0|    8.0|          7.0|\n",
      "|       59.89|          7379|      363.0|     1516.0|        191.0|    2.0|          7.0|\n",
      "|       59.89|          8600|      363.0|     1516.0|        191.0|    6.0|          7.0|\n",
      "+------------+--------------+-----------+-----------+-------------+-------+-------------+\n",
      "only showing top 20 rows\n",
      "\n"
     ]
    }
   ],
   "source": [
    "data.drop('시군구','단지명','계약년월','층','건축년도').show()"
   ]
  },
  {
   "cell_type": "code",
   "execution_count": 29,
   "id": "81b016ba-12c0-4f22-9d59-9eb94fa5081e",
   "metadata": {},
   "outputs": [],
   "source": [
    "# 원핫인코딩 하기 -> 먼저하면 오류남(레이블인코딩먼저)\n",
    "from pyspark.ml.feature import OneHotEncoder\n",
    "encoder = OneHotEncoder(inputCols=['시군구Index','단지명Index','계약년월Index','층Index','건축년도Index'], outputCols=['시군구_vec','단지명_vec','계약년월_vec','층_vec','건축년도_vec'])\n",
    "data= encoder.fit(data).transform(data)"
   ]
  },
  {
   "cell_type": "code",
   "execution_count": 30,
   "id": "dff6f2c0-d3e3-495d-b033-18f37b035ee1",
   "metadata": {},
   "outputs": [
    {
     "name": "stdout",
     "output_type": "stream",
     "text": [
      "23/11/30 14:51:58 WARN DAGScheduler: Broadcasting large task binary with size 1735.3 KiB\n",
      "+---------------------------------+-----------+------------+--------+--------------+---+--------+-----------+-----------+-------------+-------+-------------+-------------------+--------------------+-----------------+---------------+---------------+\n",
      "|                           시군구|     단지명|전용면적(㎡)|계약년월|거래금액(만원)| 층|건축년도|시군구Index|단지명Index|계약년월Index|층Index|건축년도Index|         시군구_vec|          단지명_vec|     계약년월_vec|         층_vec|   건축년도_vec|\n",
      "+---------------------------------+-----------+------------+--------+--------------+---+--------+-----------+-----------+-------------+-------+-------------+-------------------+--------------------+-----------------+---------------+---------------+\n",
      "|강원특별자치도 양구군 양구읍 상리|       경림|        59.4|  200509|          5000| 11|    1998|     1969.0|     2139.0|        206.0|   10.0|          1.0|(3653,[1969],[1.0])|(34151,[2139],[1.0])|      (206,[],[])|(87,[10],[1.0])| (60,[1],[1.0])|\n",
      "|           경기도 의정부시 민락동| 한라비발디|       84.99|  200510|         12750| 19|    2003|       95.0|       25.0|        204.0|   18.0|          9.0|  (3653,[95],[1.0])|  (34151,[25],[1.0])|(206,[204],[1.0])|(87,[18],[1.0])| (60,[9],[1.0])|\n",
      "|           경기도 의정부시 신곡동|      신일1|      59.878|  200510|          5750|  3|    1997|       17.0|     6011.0|        204.0|    2.0|          0.0|  (3653,[17],[1.0])|(34151,[6011],[1.0])|(206,[204],[1.0])| (87,[2],[1.0])| (60,[0],[1.0])|\n",
      "|           경기도 의정부시 신곡동|       풍림|       49.83|  200510|          5500|  8|    1998|       17.0|       36.0|        204.0|    7.0|          1.0|  (3653,[17],[1.0])|  (34151,[36],[1.0])|(206,[204],[1.0])| (87,[7],[1.0])| (60,[1],[1.0])|\n",
      "|           경기도 의정부시 용현동|용현현대1차|      129.73|  200511|         12200| 11|    1992|      187.0|     2206.0|        205.0|   10.0|         13.0| (3653,[187],[1.0])|(34151,[2206],[1.0])|(206,[205],[1.0])|(87,[10],[1.0])|(60,[13],[1.0])|\n",
      "|           경기도 의정부시 용현동|용현현대1차|      129.73|  200511|         11500| 17|    1992|      187.0|     2206.0|        205.0|   16.0|         13.0| (3653,[187],[1.0])|(34151,[2206],[1.0])|(206,[205],[1.0])|(87,[16],[1.0])|(60,[13],[1.0])|\n",
      "|     강원특별자치도 강릉시 견소동|   송정한신|       43.38|  200601|          4200|  1|    1997|     1197.0|     2888.0|        191.0|    4.0|          0.0|(3653,[1197],[1.0])|(34151,[2888],[1.0])|(206,[191],[1.0])| (87,[4],[1.0])| (60,[0],[1.0])|\n",
      "|       강원특별자치도 강릉시 교동|  교동1주공|       59.89|  200601|          7500|  2|    1999|      363.0|     1516.0|        191.0|    3.0|          7.0| (3653,[363],[1.0])|(34151,[1516],[1.0])|(206,[191],[1.0])| (87,[3],[1.0])| (60,[7],[1.0])|\n",
      "|       강원특별자치도 강릉시 교동|  교동1주공|       59.89|  200601|          8500| 11|    1999|      363.0|     1516.0|        191.0|   10.0|          7.0| (3653,[363],[1.0])|(34151,[1516],[1.0])|(206,[191],[1.0])|(87,[10],[1.0])| (60,[7],[1.0])|\n",
      "|       강원특별자치도 강릉시 교동|  교동1주공|       84.84|  200601|         12500|  5|    1999|      363.0|     1516.0|        191.0|    1.0|          7.0| (3653,[363],[1.0])|(34151,[1516],[1.0])|(206,[191],[1.0])| (87,[1],[1.0])| (60,[7],[1.0])|\n",
      "|       강원특별자치도 강릉시 교동|  교동1주공|       59.89|  200601|          5998|  2|    1999|      363.0|     1516.0|        191.0|    3.0|          7.0| (3653,[363],[1.0])|(34151,[1516],[1.0])|(206,[191],[1.0])| (87,[3],[1.0])| (60,[7],[1.0])|\n",
      "|       강원특별자치도 강릉시 교동|  교동1주공|       59.89|  200601|          7379|  4|    1999|      363.0|     1516.0|        191.0|    0.0|          7.0| (3653,[363],[1.0])|(34151,[1516],[1.0])|(206,[191],[1.0])| (87,[0],[1.0])| (60,[7],[1.0])|\n",
      "|       강원특별자치도 강릉시 교동|  교동1주공|       49.85|  200601|          5580|  6|    1999|      363.0|     1516.0|        191.0|    5.0|          7.0| (3653,[363],[1.0])|(34151,[1516],[1.0])|(206,[191],[1.0])| (87,[5],[1.0])| (60,[7],[1.0])|\n",
      "|       강원특별자치도 강릉시 교동|  교동1주공|       59.89|  200601|          7213| 14|    1999|      363.0|     1516.0|        191.0|   13.0|          7.0| (3653,[363],[1.0])|(34151,[1516],[1.0])|(206,[191],[1.0])|(87,[13],[1.0])| (60,[7],[1.0])|\n",
      "|       강원특별자치도 강릉시 교동|  교동1주공|       59.89|  200601|          7379|  7|    1999|      363.0|     1516.0|        191.0|    6.0|          7.0| (3653,[363],[1.0])|(34151,[1516],[1.0])|(206,[191],[1.0])| (87,[6],[1.0])| (60,[7],[1.0])|\n",
      "|       강원특별자치도 강릉시 교동|  교동1주공|       59.89|  200601|          7379| 13|    1999|      363.0|     1516.0|        191.0|   12.0|          7.0| (3653,[363],[1.0])|(34151,[1516],[1.0])|(206,[191],[1.0])|(87,[12],[1.0])| (60,[7],[1.0])|\n",
      "|       강원특별자치도 강릉시 교동|  교동1주공|       59.89|  200601|          7213| 14|    1999|      363.0|     1516.0|        191.0|   13.0|          7.0| (3653,[363],[1.0])|(34151,[1516],[1.0])|(206,[191],[1.0])|(87,[13],[1.0])| (60,[7],[1.0])|\n",
      "|       강원특별자치도 강릉시 교동|  교동1주공|       59.89|  200601|          7379|  9|    1999|      363.0|     1516.0|        191.0|    8.0|          7.0| (3653,[363],[1.0])|(34151,[1516],[1.0])|(206,[191],[1.0])| (87,[8],[1.0])| (60,[7],[1.0])|\n",
      "|       강원특별자치도 강릉시 교동|  교동1주공|       59.89|  200601|          7379|  3|    1999|      363.0|     1516.0|        191.0|    2.0|          7.0| (3653,[363],[1.0])|(34151,[1516],[1.0])|(206,[191],[1.0])| (87,[2],[1.0])| (60,[7],[1.0])|\n",
      "|       강원특별자치도 강릉시 교동|  교동1주공|       59.89|  200601|          8600|  7|    1999|      363.0|     1516.0|        191.0|    6.0|          7.0| (3653,[363],[1.0])|(34151,[1516],[1.0])|(206,[191],[1.0])| (87,[6],[1.0])| (60,[7],[1.0])|\n",
      "+---------------------------------+-----------+------------+--------+--------------+---+--------+-----------+-----------+-------------+-------+-------------+-------------------+--------------------+-----------------+---------------+---------------+\n",
      "only showing top 20 rows\n",
      "\n"
     ]
    }
   ],
   "source": [
    "data.show()"
   ]
  },
  {
   "cell_type": "code",
   "execution_count": 32,
   "id": "fdffdf45-f009-499f-bedc-42414c264ea3",
   "metadata": {},
   "outputs": [],
   "source": [
    "data = data.drop('시군구','단지명','계약년월','층','건축년도','시군구Index','단지명Index','계약년월Index','층Index','건축년도Index')"
   ]
  },
  {
   "cell_type": "code",
   "execution_count": 33,
   "id": "1d10edd1-9a67-4258-95b9-e840c7a1a22a",
   "metadata": {},
   "outputs": [
    {
     "name": "stdout",
     "output_type": "stream",
     "text": [
      "23/11/30 14:53:19 WARN DAGScheduler: Broadcasting large task binary with size 1733.4 KiB\n",
      "+------------+--------------+-------------------+--------------------+-----------------+---------------+---------------+\n",
      "|전용면적(㎡)|거래금액(만원)|         시군구_vec|          단지명_vec|     계약년월_vec|         층_vec|   건축년도_vec|\n",
      "+------------+--------------+-------------------+--------------------+-----------------+---------------+---------------+\n",
      "|        59.4|          5000|(3653,[1969],[1.0])|(34151,[2139],[1.0])|      (206,[],[])|(87,[10],[1.0])| (60,[1],[1.0])|\n",
      "|       84.99|         12750|  (3653,[95],[1.0])|  (34151,[25],[1.0])|(206,[204],[1.0])|(87,[18],[1.0])| (60,[9],[1.0])|\n",
      "|      59.878|          5750|  (3653,[17],[1.0])|(34151,[6011],[1.0])|(206,[204],[1.0])| (87,[2],[1.0])| (60,[0],[1.0])|\n",
      "|       49.83|          5500|  (3653,[17],[1.0])|  (34151,[36],[1.0])|(206,[204],[1.0])| (87,[7],[1.0])| (60,[1],[1.0])|\n",
      "|      129.73|         12200| (3653,[187],[1.0])|(34151,[2206],[1.0])|(206,[205],[1.0])|(87,[10],[1.0])|(60,[13],[1.0])|\n",
      "|      129.73|         11500| (3653,[187],[1.0])|(34151,[2206],[1.0])|(206,[205],[1.0])|(87,[16],[1.0])|(60,[13],[1.0])|\n",
      "|       43.38|          4200|(3653,[1197],[1.0])|(34151,[2888],[1.0])|(206,[191],[1.0])| (87,[4],[1.0])| (60,[0],[1.0])|\n",
      "|       59.89|          7500| (3653,[363],[1.0])|(34151,[1516],[1.0])|(206,[191],[1.0])| (87,[3],[1.0])| (60,[7],[1.0])|\n",
      "|       59.89|          8500| (3653,[363],[1.0])|(34151,[1516],[1.0])|(206,[191],[1.0])|(87,[10],[1.0])| (60,[7],[1.0])|\n",
      "|       84.84|         12500| (3653,[363],[1.0])|(34151,[1516],[1.0])|(206,[191],[1.0])| (87,[1],[1.0])| (60,[7],[1.0])|\n",
      "|       59.89|          5998| (3653,[363],[1.0])|(34151,[1516],[1.0])|(206,[191],[1.0])| (87,[3],[1.0])| (60,[7],[1.0])|\n",
      "|       59.89|          7379| (3653,[363],[1.0])|(34151,[1516],[1.0])|(206,[191],[1.0])| (87,[0],[1.0])| (60,[7],[1.0])|\n",
      "|       49.85|          5580| (3653,[363],[1.0])|(34151,[1516],[1.0])|(206,[191],[1.0])| (87,[5],[1.0])| (60,[7],[1.0])|\n",
      "|       59.89|          7213| (3653,[363],[1.0])|(34151,[1516],[1.0])|(206,[191],[1.0])|(87,[13],[1.0])| (60,[7],[1.0])|\n",
      "|       59.89|          7379| (3653,[363],[1.0])|(34151,[1516],[1.0])|(206,[191],[1.0])| (87,[6],[1.0])| (60,[7],[1.0])|\n",
      "|       59.89|          7379| (3653,[363],[1.0])|(34151,[1516],[1.0])|(206,[191],[1.0])|(87,[12],[1.0])| (60,[7],[1.0])|\n",
      "|       59.89|          7213| (3653,[363],[1.0])|(34151,[1516],[1.0])|(206,[191],[1.0])|(87,[13],[1.0])| (60,[7],[1.0])|\n",
      "|       59.89|          7379| (3653,[363],[1.0])|(34151,[1516],[1.0])|(206,[191],[1.0])| (87,[8],[1.0])| (60,[7],[1.0])|\n",
      "|       59.89|          7379| (3653,[363],[1.0])|(34151,[1516],[1.0])|(206,[191],[1.0])| (87,[2],[1.0])| (60,[7],[1.0])|\n",
      "|       59.89|          8600| (3653,[363],[1.0])|(34151,[1516],[1.0])|(206,[191],[1.0])| (87,[6],[1.0])| (60,[7],[1.0])|\n",
      "+------------+--------------+-------------------+--------------------+-----------------+---------------+---------------+\n",
      "only showing top 20 rows\n",
      "\n"
     ]
    }
   ],
   "source": [
    "data.show()"
   ]
  },
  {
   "cell_type": "code",
   "execution_count": 34,
   "id": "1495ecb1-4e08-47b8-b0c2-3298a9caf1f4",
   "metadata": {},
   "outputs": [
    {
     "name": "stdout",
     "output_type": "stream",
     "text": [
      "root\n",
      " |-- 전용면적(㎡): float (nullable = true)\n",
      " |-- 거래금액(만원): integer (nullable = true)\n",
      " |-- 시군구_vec: vector (nullable = true)\n",
      " |-- 단지명_vec: vector (nullable = true)\n",
      " |-- 계약년월_vec: vector (nullable = true)\n",
      " |-- 층_vec: vector (nullable = true)\n",
      " |-- 건축년도_vec: vector (nullable = true)\n",
      "\n"
     ]
    }
   ],
   "source": [
    "data.printSchema()"
   ]
  },
  {
   "cell_type": "markdown",
   "id": "500b0585-2080-4c20-aef9-5ac24161436b",
   "metadata": {},
   "source": [
    "# 종속변수 인덱싱, 독립변수 인덱싱"
   ]
  },
  {
   "cell_type": "code",
   "execution_count": 35,
   "id": "75b0aa57-bacb-4d0b-9c21-1e1637b32d44",
   "metadata": {},
   "outputs": [
    {
     "data": {
      "text/plain": [
       "['전용면적(㎡)', '거래금액(만원)', '시군구_vec', '단지명_vec', '계약년월_vec', '층_vec', '건축년도_vec']"
      ]
     },
     "execution_count": 35,
     "metadata": {},
     "output_type": "execute_result"
    }
   ],
   "source": [
    "data.columns"
   ]
  },
  {
   "cell_type": "code",
   "execution_count": 36,
   "id": "87e1aca1-34e6-4fa9-9e78-c54fb2538b6d",
   "metadata": {},
   "outputs": [
    {
     "name": "stdout",
     "output_type": "stream",
     "text": [
      "23/11/30 15:02:35 WARN DAGScheduler: Broadcasting large task binary with size 1771.3 KiB\n",
      "+------------+--------------+-------------------+--------------------+-----------------+---------------+---------------+--------------------+\n",
      "|전용면적(㎡)|거래금액(만원)|         시군구_vec|          단지명_vec|     계약년월_vec|         층_vec|   건축년도_vec|            Features|\n",
      "+------------+--------------+-------------------+--------------------+-----------------+---------------+---------------+--------------------+\n",
      "|        59.4|          5000|(3653,[1969],[1.0])|(34151,[2139],[1.0])|      (206,[],[])|(87,[10],[1.0])| (60,[1],[1.0])|(38158,[0,1970,57...|\n",
      "|       84.99|         12750|  (3653,[95],[1.0])|  (34151,[25],[1.0])|(206,[204],[1.0])|(87,[18],[1.0])| (60,[9],[1.0])|(38158,[0,96,3679...|\n",
      "|      59.878|          5750|  (3653,[17],[1.0])|(34151,[6011],[1.0])|(206,[204],[1.0])| (87,[2],[1.0])| (60,[0],[1.0])|(38158,[0,18,9665...|\n",
      "|       49.83|          5500|  (3653,[17],[1.0])|  (34151,[36],[1.0])|(206,[204],[1.0])| (87,[7],[1.0])| (60,[1],[1.0])|(38158,[0,18,3690...|\n",
      "|      129.73|         12200| (3653,[187],[1.0])|(34151,[2206],[1.0])|(206,[205],[1.0])|(87,[10],[1.0])|(60,[13],[1.0])|(38158,[0,188,586...|\n",
      "|      129.73|         11500| (3653,[187],[1.0])|(34151,[2206],[1.0])|(206,[205],[1.0])|(87,[16],[1.0])|(60,[13],[1.0])|(38158,[0,188,586...|\n",
      "|       43.38|          4200|(3653,[1197],[1.0])|(34151,[2888],[1.0])|(206,[191],[1.0])| (87,[4],[1.0])| (60,[0],[1.0])|(38158,[0,1198,65...|\n",
      "|       59.89|          7500| (3653,[363],[1.0])|(34151,[1516],[1.0])|(206,[191],[1.0])| (87,[3],[1.0])| (60,[7],[1.0])|(38158,[0,364,517...|\n",
      "|       59.89|          8500| (3653,[363],[1.0])|(34151,[1516],[1.0])|(206,[191],[1.0])|(87,[10],[1.0])| (60,[7],[1.0])|(38158,[0,364,517...|\n",
      "|       84.84|         12500| (3653,[363],[1.0])|(34151,[1516],[1.0])|(206,[191],[1.0])| (87,[1],[1.0])| (60,[7],[1.0])|(38158,[0,364,517...|\n",
      "|       59.89|          5998| (3653,[363],[1.0])|(34151,[1516],[1.0])|(206,[191],[1.0])| (87,[3],[1.0])| (60,[7],[1.0])|(38158,[0,364,517...|\n",
      "|       59.89|          7379| (3653,[363],[1.0])|(34151,[1516],[1.0])|(206,[191],[1.0])| (87,[0],[1.0])| (60,[7],[1.0])|(38158,[0,364,517...|\n",
      "|       49.85|          5580| (3653,[363],[1.0])|(34151,[1516],[1.0])|(206,[191],[1.0])| (87,[5],[1.0])| (60,[7],[1.0])|(38158,[0,364,517...|\n",
      "|       59.89|          7213| (3653,[363],[1.0])|(34151,[1516],[1.0])|(206,[191],[1.0])|(87,[13],[1.0])| (60,[7],[1.0])|(38158,[0,364,517...|\n",
      "|       59.89|          7379| (3653,[363],[1.0])|(34151,[1516],[1.0])|(206,[191],[1.0])| (87,[6],[1.0])| (60,[7],[1.0])|(38158,[0,364,517...|\n",
      "|       59.89|          7379| (3653,[363],[1.0])|(34151,[1516],[1.0])|(206,[191],[1.0])|(87,[12],[1.0])| (60,[7],[1.0])|(38158,[0,364,517...|\n",
      "|       59.89|          7213| (3653,[363],[1.0])|(34151,[1516],[1.0])|(206,[191],[1.0])|(87,[13],[1.0])| (60,[7],[1.0])|(38158,[0,364,517...|\n",
      "|       59.89|          7379| (3653,[363],[1.0])|(34151,[1516],[1.0])|(206,[191],[1.0])| (87,[8],[1.0])| (60,[7],[1.0])|(38158,[0,364,517...|\n",
      "|       59.89|          7379| (3653,[363],[1.0])|(34151,[1516],[1.0])|(206,[191],[1.0])| (87,[2],[1.0])| (60,[7],[1.0])|(38158,[0,364,517...|\n",
      "|       59.89|          8600| (3653,[363],[1.0])|(34151,[1516],[1.0])|(206,[191],[1.0])| (87,[6],[1.0])| (60,[7],[1.0])|(38158,[0,364,517...|\n",
      "+------------+--------------+-------------------+--------------------+-----------------+---------------+---------------+--------------------+\n",
      "only showing top 20 rows\n",
      "\n"
     ]
    }
   ],
   "source": [
    "from pyspark.ml.feature import VectorAssembler\n",
    "feature_assembler = VectorAssembler(inputCols = ['전용면적(㎡)','시군구_vec', '단지명_vec', '계약년월_vec', '층_vec', '건축년도_vec'], outputCol = 'Features')\n",
    "data = feature_assembler.transform(data)\n",
    "data.show()"
   ]
  },
  {
   "cell_type": "code",
   "execution_count": 37,
   "id": "a0282f67-93f4-4c24-a061-5a2d0284acb8",
   "metadata": {},
   "outputs": [
    {
     "name": "stdout",
     "output_type": "stream",
     "text": [
      "23/11/30 15:03:27 WARN DAGScheduler: Broadcasting large task binary with size 1741.2 KiB\n",
      "+--------------+--------------------+\n",
      "|거래금액(만원)|            Features|\n",
      "+--------------+--------------------+\n",
      "|          5000|(38158,[0,1970,57...|\n",
      "|         12750|(38158,[0,96,3679...|\n",
      "|          5750|(38158,[0,18,9665...|\n",
      "|          5500|(38158,[0,18,3690...|\n",
      "|         12200|(38158,[0,188,586...|\n",
      "|         11500|(38158,[0,188,586...|\n",
      "|          4200|(38158,[0,1198,65...|\n",
      "|          7500|(38158,[0,364,517...|\n",
      "|          8500|(38158,[0,364,517...|\n",
      "|         12500|(38158,[0,364,517...|\n",
      "|          5998|(38158,[0,364,517...|\n",
      "|          7379|(38158,[0,364,517...|\n",
      "|          5580|(38158,[0,364,517...|\n",
      "|          7213|(38158,[0,364,517...|\n",
      "|          7379|(38158,[0,364,517...|\n",
      "|          7379|(38158,[0,364,517...|\n",
      "|          7213|(38158,[0,364,517...|\n",
      "|          7379|(38158,[0,364,517...|\n",
      "|          7379|(38158,[0,364,517...|\n",
      "|          8600|(38158,[0,364,517...|\n",
      "+--------------+--------------------+\n",
      "only showing top 20 rows\n",
      "\n"
     ]
    }
   ],
   "source": [
    "data = data.drop('전용면적(㎡)','시군구_vec', '단지명_vec', '계약년월_vec', '층_vec', '건축년도_vec')\n",
    "data.show()"
   ]
  },
  {
   "cell_type": "markdown",
   "id": "9f1ffdac-00b0-4646-9bf6-0fdc68c886f5",
   "metadata": {},
   "source": [
    "# 홀드아웃"
   ]
  },
  {
   "cell_type": "code",
   "execution_count": 38,
   "id": "40a615fd-1374-4d53-a81b-f61e2cc67b67",
   "metadata": {},
   "outputs": [
    {
     "name": "stdout",
     "output_type": "stream",
     "text": [
      "root\n",
      " |-- 거래금액(만원): integer (nullable = true)\n",
      " |-- Features: vector (nullable = true)\n",
      "\n"
     ]
    }
   ],
   "source": [
    "data.printSchema()"
   ]
  },
  {
   "cell_type": "code",
   "execution_count": 39,
   "id": "60dbe427-7b7c-4a3f-a309-b2b1f5ca0af1",
   "metadata": {},
   "outputs": [],
   "source": [
    "(train_data, test_data) = data.randomSplit([0.8, 0.2], seed=10)"
   ]
  },
  {
   "cell_type": "code",
   "execution_count": 40,
   "id": "eeb7a5d1-c358-497a-b755-4775a7b42161",
   "metadata": {},
   "outputs": [
    {
     "name": "stdout",
     "output_type": "stream",
     "text": [
      "root\n",
      " |-- 거래금액(만원): integer (nullable = true)\n",
      " |-- Features: vector (nullable = true)\n",
      "\n"
     ]
    }
   ],
   "source": [
    "train_data.printSchema()"
   ]
  },
  {
   "cell_type": "code",
   "execution_count": 41,
   "id": "67e33742-19f9-48b8-8b95-94802e234a44",
   "metadata": {},
   "outputs": [
    {
     "name": "stdout",
     "output_type": "stream",
     "text": [
      "root\n",
      " |-- 거래금액(만원): integer (nullable = true)\n",
      " |-- Features: vector (nullable = true)\n",
      "\n"
     ]
    }
   ],
   "source": [
    "test_data.printSchema()"
   ]
  },
  {
   "cell_type": "code",
   "execution_count": 49,
   "id": "dc45b3fe-5db9-43dc-bfa7-db035e962559",
   "metadata": {},
   "outputs": [
    {
     "ename": "TypeError",
     "evalue": "LogisticRegression.__init__() got an unexpected keyword argument 'featuresCol'",
     "output_type": "error",
     "traceback": [
      "\u001b[0;31m---------------------------------------------------------------------------\u001b[0m",
      "\u001b[0;31mTypeError\u001b[0m                                 Traceback (most recent call last)",
      "Cell \u001b[0;32mIn[49], line 2\u001b[0m\n\u001b[1;32m      1\u001b[0m \u001b[38;5;28;01mfrom\u001b[39;00m \u001b[38;5;21;01msklearn\u001b[39;00m\u001b[38;5;21;01m.\u001b[39;00m\u001b[38;5;21;01mlinear_model\u001b[39;00m \u001b[38;5;28;01mimport\u001b[39;00m LogisticRegression\n\u001b[0;32m----> 2\u001b[0m lr \u001b[38;5;241m=\u001b[39m LogisticRegression(featuresCol \u001b[38;5;241m=\u001b[39m \u001b[38;5;124m'\u001b[39m\u001b[38;5;124mFeatures\u001b[39m\u001b[38;5;124m'\u001b[39m, labelCol\u001b[38;5;241m=\u001b[39m\u001b[38;5;124m'\u001b[39m\u001b[38;5;124m거래금액(만원)\u001b[39m\u001b[38;5;124m'\u001b[39m, maxDepth\u001b[38;5;241m=\u001b[39m\u001b[38;5;241m3\u001b[39m)\n\u001b[1;32m      3\u001b[0m lr \u001b[38;5;241m=\u001b[39m lr\u001b[38;5;241m.\u001b[39mfit(train_data)\n\u001b[1;32m      4\u001b[0m pred_lr \u001b[38;5;241m=\u001b[39m lr\u001b[38;5;241m.\u001b[39mpredict(test_data)\n",
      "\u001b[0;31mTypeError\u001b[0m: LogisticRegression.__init__() got an unexpected keyword argument 'featuresCol'"
     ]
    }
   ],
   "source": [
    "from sklearn.linear_model import LogisticRegression\n",
    "lr = LogisticRegression(featuresCol = 'Features', labelCol='거래금액(만원)', maxDepth=3)\n",
    "lr = lr.fit(train_data)\n",
    "pred_lr = lr.predict(test_data)\n",
    "pred_lr.show()"
   ]
  },
  {
   "cell_type": "code",
   "execution_count": 48,
   "id": "f9b24a18-2ed2-4772-813c-f1bee8994386",
   "metadata": {},
   "outputs": [],
   "source": [
    "from sklearn.metrics import accuracy_score, classification_report"
   ]
  },
  {
   "cell_type": "code",
   "execution_count": null,
   "id": "9f57f790-b816-4fca-9ee1-249a13722a68",
   "metadata": {},
   "outputs": [],
   "source": []
  },
  {
   "cell_type": "code",
   "execution_count": null,
   "id": "243d6282-0418-4f52-9dd4-5cdedf5c9c0a",
   "metadata": {},
   "outputs": [],
   "source": []
  },
  {
   "cell_type": "code",
   "execution_count": null,
   "id": "2f54dc16-cf9c-40e9-af06-f4088ea50548",
   "metadata": {},
   "outputs": [],
   "source": []
  },
  {
   "cell_type": "code",
   "execution_count": null,
   "id": "d9bee51d-1a38-433e-bff5-d2155091c00a",
   "metadata": {},
   "outputs": [],
   "source": []
  },
  {
   "cell_type": "code",
   "execution_count": null,
   "id": "6b8bfd60-2ce9-49d7-b40a-c3348d706f27",
   "metadata": {},
   "outputs": [],
   "source": []
  }
 ],
 "metadata": {
  "kernelspec": {
   "display_name": "Python 3 (ipykernel)",
   "language": "python",
   "name": "python3"
  },
  "language_info": {
   "codemirror_mode": {
    "name": "ipython",
    "version": 3
   },
   "file_extension": ".py",
   "mimetype": "text/x-python",
   "name": "python",
   "nbconvert_exporter": "python",
   "pygments_lexer": "ipython3",
   "version": "3.11.5"
  }
 },
 "nbformat": 4,
 "nbformat_minor": 5
}
