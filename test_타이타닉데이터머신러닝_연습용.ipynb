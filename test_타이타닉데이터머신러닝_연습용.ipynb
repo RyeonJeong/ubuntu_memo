{
 "cells": [
  {
   "cell_type": "code",
   "execution_count": 1,
   "id": "601c2413-55b5-4fb9-8914-5bcae1f0e35e",
   "metadata": {},
   "outputs": [],
   "source": [
    "import numpy as np\n",
    "import pandas as pd\n",
    "import matplotlib.pyplot as plt\n",
    "import seaborn as sns\n",
    "from pyspark.sql import SparkSession\n",
    "from pyspark.sql import functions as f\n",
    "from pyspark.sql.functions import col"
   ]
  },
  {
   "cell_type": "code",
   "execution_count": 2,
   "id": "5c4bee0a-2302-48aa-a187-73f65d8b3b97",
   "metadata": {},
   "outputs": [
    {
     "name": "stderr",
     "output_type": "stream",
     "text": [
      "Setting default log level to \"WARN\".\n",
      "To adjust logging level use sc.setLogLevel(newLevel). For SparkR, use setLogLevel(newLevel).\n"
     ]
    },
    {
     "name": "stdout",
     "output_type": "stream",
     "text": [
      "23/12/08 11:12:08 WARN NativeCodeLoader: Unable to load native-hadoop library for your platform... using builtin-java classes where applicable\n"
     ]
    }
   ],
   "source": [
    "spark = SparkSession.builder.getOrCreate()"
   ]
  },
  {
   "cell_type": "code",
   "execution_count": 3,
   "id": "a0683716-b7fc-4295-ac2f-483bc3a3518d",
   "metadata": {},
   "outputs": [
    {
     "data": {
      "text/plain": [
       "'/home/himedia'"
      ]
     },
     "execution_count": 3,
     "metadata": {},
     "output_type": "execute_result"
    }
   ],
   "source": [
    "pwd"
   ]
  },
  {
   "cell_type": "code",
   "execution_count": 4,
   "id": "e0db1a81-c7b2-478b-ba5c-8e136de7724e",
   "metadata": {},
   "outputs": [
    {
     "name": "stderr",
     "output_type": "stream",
     "text": [
      "                                                                                \r"
     ]
    }
   ],
   "source": [
    "df = spark.read.csv(\"./data/Taitanic_train.csv\", header=True)"
   ]
  },
  {
   "cell_type": "code",
   "execution_count": 5,
   "id": "137f85dd-26ac-4203-87c4-be314b389a05",
   "metadata": {},
   "outputs": [
    {
     "name": "stdout",
     "output_type": "stream",
     "text": [
      "+-----------+--------+------+--------------------+------+----+-----+-----+----------------+-------+-----+--------+\n",
      "|PassengerId|Survived|Pclass|                Name|   Sex| Age|SibSp|Parch|          Ticket|   Fare|Cabin|Embarked|\n",
      "+-----------+--------+------+--------------------+------+----+-----+-----+----------------+-------+-----+--------+\n",
      "|          1|       0|     3|Braund, Mr. Owen ...|  male|  22|    1|    0|       A/5 21171|   7.25| null|       S|\n",
      "|          2|       1|     1|Cumings, Mrs. Joh...|female|  38|    1|    0|        PC 17599|71.2833|  C85|       C|\n",
      "|          3|       1|     3|Heikkinen, Miss. ...|female|  26|    0|    0|STON/O2. 3101282|  7.925| null|       S|\n",
      "|          4|       1|     1|Futrelle, Mrs. Ja...|female|  35|    1|    0|          113803|   53.1| C123|       S|\n",
      "|          5|       0|     3|Allen, Mr. Willia...|  male|  35|    0|    0|          373450|   8.05| null|       S|\n",
      "|          6|       0|     3|    Moran, Mr. James|  male|null|    0|    0|          330877| 8.4583| null|       Q|\n",
      "|          7|       0|     1|McCarthy, Mr. Tim...|  male|  54|    0|    0|           17463|51.8625|  E46|       S|\n",
      "|          8|       0|     3|Palsson, Master. ...|  male|   2|    3|    1|          349909| 21.075| null|       S|\n",
      "|          9|       1|     3|Johnson, Mrs. Osc...|female|  27|    0|    2|          347742|11.1333| null|       S|\n",
      "|         10|       1|     2|Nasser, Mrs. Nich...|female|  14|    1|    0|          237736|30.0708| null|       C|\n",
      "|         11|       1|     3|Sandstrom, Miss. ...|female|   4|    1|    1|         PP 9549|   16.7|   G6|       S|\n",
      "|         12|       1|     1|Bonnell, Miss. El...|female|  58|    0|    0|          113783|  26.55| C103|       S|\n",
      "|         13|       0|     3|Saundercock, Mr. ...|  male|  20|    0|    0|       A/5. 2151|   8.05| null|       S|\n",
      "|         14|       0|     3|Andersson, Mr. An...|  male|  39|    1|    5|          347082| 31.275| null|       S|\n",
      "|         15|       0|     3|Vestrom, Miss. Hu...|female|  14|    0|    0|          350406| 7.8542| null|       S|\n",
      "|         16|       1|     2|Hewlett, Mrs. (Ma...|female|  55|    0|    0|          248706|     16| null|       S|\n",
      "|         17|       0|     3|Rice, Master. Eugene|  male|   2|    4|    1|          382652| 29.125| null|       Q|\n",
      "|         18|       1|     2|Williams, Mr. Cha...|  male|null|    0|    0|          244373|     13| null|       S|\n",
      "|         19|       0|     3|Vander Planke, Mr...|female|  31|    1|    0|          345763|     18| null|       S|\n",
      "|         20|       1|     3|Masselmani, Mrs. ...|female|null|    0|    0|            2649|  7.225| null|       C|\n",
      "+-----------+--------+------+--------------------+------+----+-----+-----+----------------+-------+-----+--------+\n",
      "only showing top 20 rows\n",
      "\n"
     ]
    }
   ],
   "source": [
    "df.show()"
   ]
  },
  {
   "cell_type": "code",
   "execution_count": 6,
   "id": "c5d69457-fa48-4cfa-8731-60c8b287d4cd",
   "metadata": {},
   "outputs": [
    {
     "data": {
      "text/html": [
       "<div>\n",
       "<style scoped>\n",
       "    .dataframe tbody tr th:only-of-type {\n",
       "        vertical-align: middle;\n",
       "    }\n",
       "\n",
       "    .dataframe tbody tr th {\n",
       "        vertical-align: top;\n",
       "    }\n",
       "\n",
       "    .dataframe thead th {\n",
       "        text-align: right;\n",
       "    }\n",
       "</style>\n",
       "<table border=\"1\" class=\"dataframe\">\n",
       "  <thead>\n",
       "    <tr style=\"text-align: right;\">\n",
       "      <th></th>\n",
       "      <th>PassengerId</th>\n",
       "      <th>Survived</th>\n",
       "      <th>Pclass</th>\n",
       "      <th>Name</th>\n",
       "      <th>Sex</th>\n",
       "      <th>Age</th>\n",
       "      <th>SibSp</th>\n",
       "      <th>Parch</th>\n",
       "      <th>Ticket</th>\n",
       "      <th>Fare</th>\n",
       "      <th>Cabin</th>\n",
       "      <th>Embarked</th>\n",
       "    </tr>\n",
       "  </thead>\n",
       "  <tbody>\n",
       "    <tr>\n",
       "      <th>0</th>\n",
       "      <td>1</td>\n",
       "      <td>0</td>\n",
       "      <td>3</td>\n",
       "      <td>Braund, Mr. Owen Harris</td>\n",
       "      <td>male</td>\n",
       "      <td>22</td>\n",
       "      <td>1</td>\n",
       "      <td>0</td>\n",
       "      <td>A/5 21171</td>\n",
       "      <td>7.25</td>\n",
       "      <td>None</td>\n",
       "      <td>S</td>\n",
       "    </tr>\n",
       "    <tr>\n",
       "      <th>1</th>\n",
       "      <td>2</td>\n",
       "      <td>1</td>\n",
       "      <td>1</td>\n",
       "      <td>Cumings, Mrs. John Bradley (Florence Briggs Th...</td>\n",
       "      <td>female</td>\n",
       "      <td>38</td>\n",
       "      <td>1</td>\n",
       "      <td>0</td>\n",
       "      <td>PC 17599</td>\n",
       "      <td>71.2833</td>\n",
       "      <td>C85</td>\n",
       "      <td>C</td>\n",
       "    </tr>\n",
       "    <tr>\n",
       "      <th>2</th>\n",
       "      <td>3</td>\n",
       "      <td>1</td>\n",
       "      <td>3</td>\n",
       "      <td>Heikkinen, Miss. Laina</td>\n",
       "      <td>female</td>\n",
       "      <td>26</td>\n",
       "      <td>0</td>\n",
       "      <td>0</td>\n",
       "      <td>STON/O2. 3101282</td>\n",
       "      <td>7.925</td>\n",
       "      <td>None</td>\n",
       "      <td>S</td>\n",
       "    </tr>\n",
       "    <tr>\n",
       "      <th>3</th>\n",
       "      <td>4</td>\n",
       "      <td>1</td>\n",
       "      <td>1</td>\n",
       "      <td>Futrelle, Mrs. Jacques Heath (Lily May Peel)</td>\n",
       "      <td>female</td>\n",
       "      <td>35</td>\n",
       "      <td>1</td>\n",
       "      <td>0</td>\n",
       "      <td>113803</td>\n",
       "      <td>53.1</td>\n",
       "      <td>C123</td>\n",
       "      <td>S</td>\n",
       "    </tr>\n",
       "    <tr>\n",
       "      <th>4</th>\n",
       "      <td>5</td>\n",
       "      <td>0</td>\n",
       "      <td>3</td>\n",
       "      <td>Allen, Mr. William Henry</td>\n",
       "      <td>male</td>\n",
       "      <td>35</td>\n",
       "      <td>0</td>\n",
       "      <td>0</td>\n",
       "      <td>373450</td>\n",
       "      <td>8.05</td>\n",
       "      <td>None</td>\n",
       "      <td>S</td>\n",
       "    </tr>\n",
       "    <tr>\n",
       "      <th>...</th>\n",
       "      <td>...</td>\n",
       "      <td>...</td>\n",
       "      <td>...</td>\n",
       "      <td>...</td>\n",
       "      <td>...</td>\n",
       "      <td>...</td>\n",
       "      <td>...</td>\n",
       "      <td>...</td>\n",
       "      <td>...</td>\n",
       "      <td>...</td>\n",
       "      <td>...</td>\n",
       "      <td>...</td>\n",
       "    </tr>\n",
       "    <tr>\n",
       "      <th>886</th>\n",
       "      <td>887</td>\n",
       "      <td>0</td>\n",
       "      <td>2</td>\n",
       "      <td>Montvila, Rev. Juozas</td>\n",
       "      <td>male</td>\n",
       "      <td>27</td>\n",
       "      <td>0</td>\n",
       "      <td>0</td>\n",
       "      <td>211536</td>\n",
       "      <td>13</td>\n",
       "      <td>None</td>\n",
       "      <td>S</td>\n",
       "    </tr>\n",
       "    <tr>\n",
       "      <th>887</th>\n",
       "      <td>888</td>\n",
       "      <td>1</td>\n",
       "      <td>1</td>\n",
       "      <td>Graham, Miss. Margaret Edith</td>\n",
       "      <td>female</td>\n",
       "      <td>19</td>\n",
       "      <td>0</td>\n",
       "      <td>0</td>\n",
       "      <td>112053</td>\n",
       "      <td>30</td>\n",
       "      <td>B42</td>\n",
       "      <td>S</td>\n",
       "    </tr>\n",
       "    <tr>\n",
       "      <th>888</th>\n",
       "      <td>889</td>\n",
       "      <td>0</td>\n",
       "      <td>3</td>\n",
       "      <td>\"Johnston, Miss. Catherine Helen \"\"Carrie\"\"\"</td>\n",
       "      <td>female</td>\n",
       "      <td>None</td>\n",
       "      <td>1</td>\n",
       "      <td>2</td>\n",
       "      <td>W./C. 6607</td>\n",
       "      <td>23.45</td>\n",
       "      <td>None</td>\n",
       "      <td>S</td>\n",
       "    </tr>\n",
       "    <tr>\n",
       "      <th>889</th>\n",
       "      <td>890</td>\n",
       "      <td>1</td>\n",
       "      <td>1</td>\n",
       "      <td>Behr, Mr. Karl Howell</td>\n",
       "      <td>male</td>\n",
       "      <td>26</td>\n",
       "      <td>0</td>\n",
       "      <td>0</td>\n",
       "      <td>111369</td>\n",
       "      <td>30</td>\n",
       "      <td>C148</td>\n",
       "      <td>C</td>\n",
       "    </tr>\n",
       "    <tr>\n",
       "      <th>890</th>\n",
       "      <td>891</td>\n",
       "      <td>0</td>\n",
       "      <td>3</td>\n",
       "      <td>Dooley, Mr. Patrick</td>\n",
       "      <td>male</td>\n",
       "      <td>32</td>\n",
       "      <td>0</td>\n",
       "      <td>0</td>\n",
       "      <td>370376</td>\n",
       "      <td>7.75</td>\n",
       "      <td>None</td>\n",
       "      <td>Q</td>\n",
       "    </tr>\n",
       "  </tbody>\n",
       "</table>\n",
       "<p>891 rows × 12 columns</p>\n",
       "</div>"
      ],
      "text/plain": [
       "    PassengerId Survived Pclass  \\\n",
       "0             1        0      3   \n",
       "1             2        1      1   \n",
       "2             3        1      3   \n",
       "3             4        1      1   \n",
       "4             5        0      3   \n",
       "..          ...      ...    ...   \n",
       "886         887        0      2   \n",
       "887         888        1      1   \n",
       "888         889        0      3   \n",
       "889         890        1      1   \n",
       "890         891        0      3   \n",
       "\n",
       "                                                  Name     Sex   Age SibSp  \\\n",
       "0                              Braund, Mr. Owen Harris    male    22     1   \n",
       "1    Cumings, Mrs. John Bradley (Florence Briggs Th...  female    38     1   \n",
       "2                               Heikkinen, Miss. Laina  female    26     0   \n",
       "3         Futrelle, Mrs. Jacques Heath (Lily May Peel)  female    35     1   \n",
       "4                             Allen, Mr. William Henry    male    35     0   \n",
       "..                                                 ...     ...   ...   ...   \n",
       "886                              Montvila, Rev. Juozas    male    27     0   \n",
       "887                       Graham, Miss. Margaret Edith  female    19     0   \n",
       "888       \"Johnston, Miss. Catherine Helen \"\"Carrie\"\"\"  female  None     1   \n",
       "889                              Behr, Mr. Karl Howell    male    26     0   \n",
       "890                                Dooley, Mr. Patrick    male    32     0   \n",
       "\n",
       "    Parch            Ticket     Fare Cabin Embarked  \n",
       "0       0         A/5 21171     7.25  None        S  \n",
       "1       0          PC 17599  71.2833   C85        C  \n",
       "2       0  STON/O2. 3101282    7.925  None        S  \n",
       "3       0            113803     53.1  C123        S  \n",
       "4       0            373450     8.05  None        S  \n",
       "..    ...               ...      ...   ...      ...  \n",
       "886     0            211536       13  None        S  \n",
       "887     0            112053       30   B42        S  \n",
       "888     2        W./C. 6607    23.45  None        S  \n",
       "889     0            111369       30  C148        C  \n",
       "890     0            370376     7.75  None        Q  \n",
       "\n",
       "[891 rows x 12 columns]"
      ]
     },
     "execution_count": 6,
     "metadata": {},
     "output_type": "execute_result"
    }
   ],
   "source": [
    "df.toPandas()"
   ]
  },
  {
   "cell_type": "code",
   "execution_count": 7,
   "id": "2c38bc62-f47f-454d-a864-ca8ae3a27544",
   "metadata": {
    "scrolled": true
   },
   "outputs": [
    {
     "name": "stdout",
     "output_type": "stream",
     "text": [
      "root\n",
      " |-- PassengerId: string (nullable = true)\n",
      " |-- Survived: string (nullable = true)\n",
      " |-- Pclass: string (nullable = true)\n",
      " |-- Name: string (nullable = true)\n",
      " |-- Sex: string (nullable = true)\n",
      " |-- Age: string (nullable = true)\n",
      " |-- SibSp: string (nullable = true)\n",
      " |-- Parch: string (nullable = true)\n",
      " |-- Ticket: string (nullable = true)\n",
      " |-- Fare: string (nullable = true)\n",
      " |-- Cabin: string (nullable = true)\n",
      " |-- Embarked: string (nullable = true)\n",
      "\n"
     ]
    }
   ],
   "source": [
    "df.printSchema()"
   ]
  },
  {
   "cell_type": "code",
   "execution_count": 10,
   "id": "89fd5092-b72f-4502-9cf1-7d867d46e6d3",
   "metadata": {},
   "outputs": [],
   "source": [
    "# 연습\n",
    "# df.filter((df['Age'] >= 20) & (df['Sex'] == 'male')).show()"
   ]
  },
  {
   "cell_type": "code",
   "execution_count": 11,
   "id": "1d57b229-a9eb-4af0-84d9-ed91d8c51adf",
   "metadata": {},
   "outputs": [
    {
     "name": "stdout",
     "output_type": "stream",
     "text": [
      "<class 'pandas.core.frame.DataFrame'>\n",
      "RangeIndex: 891 entries, 0 to 890\n",
      "Data columns (total 12 columns):\n",
      " #   Column       Non-Null Count  Dtype \n",
      "---  ------       --------------  ----- \n",
      " 0   PassengerId  891 non-null    int32 \n",
      " 1   Survived     891 non-null    object\n",
      " 2   Pclass       891 non-null    object\n",
      " 3   Name         891 non-null    object\n",
      " 4   Sex          891 non-null    object\n",
      " 5   Age          714 non-null    object\n",
      " 6   SibSp        891 non-null    object\n",
      " 7   Parch        891 non-null    object\n",
      " 8   Ticket       891 non-null    object\n",
      " 9   Fare         891 non-null    object\n",
      " 10  Cabin        204 non-null    object\n",
      " 11  Embarked     889 non-null    object\n",
      "dtypes: int32(1), object(11)\n",
      "memory usage: 80.2+ KB\n"
     ]
    }
   ],
   "source": [
    "# toPandas().info() 로 데이터 타입변경 확인하기(df에 넣을땐 toPandas().info() 빼고 넣기ㅜ)\n",
    "df.withColumn('PassengerId', df['PassengerId'].cast('Integer')).toPandas().info()"
   ]
  },
  {
   "cell_type": "code",
   "execution_count": 12,
   "id": "515c9a06-2880-4355-ad6b-ee176b3fa84a",
   "metadata": {
    "scrolled": true
   },
   "outputs": [],
   "source": [
    "df = df.withColumn('PassengerId', df['PassengerId'].cast('Integer')).withColumn('Survived', df['Survived'].cast('Integer'))"
   ]
  },
  {
   "cell_type": "code",
   "execution_count": 13,
   "id": "ec5d1d86-5685-4023-b84d-c2725fd9737e",
   "metadata": {},
   "outputs": [],
   "source": [
    "df = df.withColumn('Pclass', df['Pclass'].cast('Integer')).withColumn('Age', df['Age'].cast('Integer')).withColumn('SibSp', df['SibSp'].cast('Integer')).withColumn('Parch', df['Parch'].cast('Integer')).withColumn('Fare', df['Fare'].cast('Integer'))"
   ]
  },
  {
   "cell_type": "code",
   "execution_count": 14,
   "id": "021dd85c-4cd6-4c3b-a6fc-467594e786c6",
   "metadata": {},
   "outputs": [
    {
     "name": "stdout",
     "output_type": "stream",
     "text": [
      "root\n",
      " |-- PassengerId: integer (nullable = true)\n",
      " |-- Survived: integer (nullable = true)\n",
      " |-- Pclass: integer (nullable = true)\n",
      " |-- Name: string (nullable = true)\n",
      " |-- Sex: string (nullable = true)\n",
      " |-- Age: integer (nullable = true)\n",
      " |-- SibSp: integer (nullable = true)\n",
      " |-- Parch: integer (nullable = true)\n",
      " |-- Ticket: string (nullable = true)\n",
      " |-- Fare: integer (nullable = true)\n",
      " |-- Cabin: string (nullable = true)\n",
      " |-- Embarked: string (nullable = true)\n",
      "\n"
     ]
    }
   ],
   "source": [
    "df.printSchema()"
   ]
  },
  {
   "cell_type": "code",
   "execution_count": 15,
   "id": "ca9cc7b9-a808-462e-93e4-f7247319e31d",
   "metadata": {},
   "outputs": [
    {
     "name": "stdout",
     "output_type": "stream",
     "text": [
      "<class 'pandas.core.frame.DataFrame'>\n",
      "RangeIndex: 891 entries, 0 to 890\n",
      "Data columns (total 12 columns):\n",
      " #   Column       Non-Null Count  Dtype  \n",
      "---  ------       --------------  -----  \n",
      " 0   PassengerId  891 non-null    int32  \n",
      " 1   Survived     891 non-null    int32  \n",
      " 2   Pclass       891 non-null    int32  \n",
      " 3   Name         891 non-null    object \n",
      " 4   Sex          891 non-null    object \n",
      " 5   Age          714 non-null    float64\n",
      " 6   SibSp        891 non-null    int32  \n",
      " 7   Parch        891 non-null    int32  \n",
      " 8   Ticket       891 non-null    object \n",
      " 9   Fare         891 non-null    int32  \n",
      " 10  Cabin        204 non-null    object \n",
      " 11  Embarked     889 non-null    object \n",
      "dtypes: float64(1), int32(6), object(5)\n",
      "memory usage: 62.8+ KB\n"
     ]
    }
   ],
   "source": [
    "df.toPandas().info()"
   ]
  },
  {
   "cell_type": "code",
   "execution_count": 16,
   "id": "945fd8cb-7e4b-4997-93b2-6a35809c33b9",
   "metadata": {},
   "outputs": [
    {
     "name": "stdout",
     "output_type": "stream",
     "text": [
      "+-------------------------------+\n",
      "|sum(CAST((Age IS NULL) AS INT))|\n",
      "+-------------------------------+\n",
      "|                            177|\n",
      "+-------------------------------+\n",
      "\n"
     ]
    }
   ],
   "source": [
    "df.select(f.sum(df['Age'].isNull().cast('int'))).show()"
   ]
  },
  {
   "cell_type": "code",
   "execution_count": 17,
   "id": "6eb2f086-1cae-4a3c-be7c-a4fd96a00b13",
   "metadata": {},
   "outputs": [
    {
     "name": "stdout",
     "output_type": "stream",
     "text": [
      "+------------------+\n",
      "|          avg(Age)|\n",
      "+------------------+\n",
      "|29.679271708683473|\n",
      "+------------------+\n",
      "\n"
     ]
    }
   ],
   "source": [
    "# 결측값 대치\n",
    "# f.mean 평균\n",
    "df.select(f.mean('Age')).show()"
   ]
  },
  {
   "cell_type": "code",
   "execution_count": 18,
   "id": "af125793-21e5-4a52-92de-46adc4c9d270",
   "metadata": {},
   "outputs": [
    {
     "name": "stdout",
     "output_type": "stream",
     "text": [
      "+-----------+--------+------+--------------------+------+----+-----+-----+----------------+----+-----+--------+\n",
      "|PassengerId|Survived|Pclass|                Name|   Sex| Age|SibSp|Parch|          Ticket|Fare|Cabin|Embarked|\n",
      "+-----------+--------+------+--------------------+------+----+-----+-----+----------------+----+-----+--------+\n",
      "|          1|       0|     3|Braund, Mr. Owen ...|  male|  22|    1|    0|       A/5 21171|   7| null|       S|\n",
      "|          2|       1|     1|Cumings, Mrs. Joh...|female|  38|    1|    0|        PC 17599|  71|  C85|       C|\n",
      "|          3|       1|     3|Heikkinen, Miss. ...|female|  26|    0|    0|STON/O2. 3101282|   7| null|       S|\n",
      "|          4|       1|     1|Futrelle, Mrs. Ja...|female|  35|    1|    0|          113803|  53| C123|       S|\n",
      "|          5|       0|     3|Allen, Mr. Willia...|  male|  35|    0|    0|          373450|   8| null|       S|\n",
      "|          6|       0|     3|    Moran, Mr. James|  male|null|    0|    0|          330877|   8| null|       Q|\n",
      "|          7|       0|     1|McCarthy, Mr. Tim...|  male|  54|    0|    0|           17463|  51|  E46|       S|\n",
      "|          8|       0|     3|Palsson, Master. ...|  male|   2|    3|    1|          349909|  21| null|       S|\n",
      "|          9|       1|     3|Johnson, Mrs. Osc...|female|  27|    0|    2|          347742|  11| null|       S|\n",
      "|         10|       1|     2|Nasser, Mrs. Nich...|female|  14|    1|    0|          237736|  30| null|       C|\n",
      "|         11|       1|     3|Sandstrom, Miss. ...|female|   4|    1|    1|         PP 9549|  16|   G6|       S|\n",
      "|         12|       1|     1|Bonnell, Miss. El...|female|  58|    0|    0|          113783|  26| C103|       S|\n",
      "|         13|       0|     3|Saundercock, Mr. ...|  male|  20|    0|    0|       A/5. 2151|   8| null|       S|\n",
      "|         14|       0|     3|Andersson, Mr. An...|  male|  39|    1|    5|          347082|  31| null|       S|\n",
      "|         15|       0|     3|Vestrom, Miss. Hu...|female|  14|    0|    0|          350406|   7| null|       S|\n",
      "|         16|       1|     2|Hewlett, Mrs. (Ma...|female|  55|    0|    0|          248706|  16| null|       S|\n",
      "|         17|       0|     3|Rice, Master. Eugene|  male|   2|    4|    1|          382652|  29| null|       Q|\n",
      "|         18|       1|     2|Williams, Mr. Cha...|  male|null|    0|    0|          244373|  13| null|       S|\n",
      "|         19|       0|     3|Vander Planke, Mr...|female|  31|    1|    0|          345763|  18| null|       S|\n",
      "|         20|       1|     3|Masselmani, Mrs. ...|female|null|    0|    0|            2649|   7| null|       C|\n",
      "+-----------+--------+------+--------------------+------+----+-----+-----+----------------+----+-----+--------+\n",
      "only showing top 20 rows\n",
      "\n"
     ]
    }
   ],
   "source": [
    "df.na.fill('29', 'Age').show()"
   ]
  },
  {
   "cell_type": "code",
   "execution_count": 19,
   "id": "fe0a0915-8f1f-4eae-a9d0-d49733cd34e4",
   "metadata": {},
   "outputs": [
    {
     "name": "stdout",
     "output_type": "stream",
     "text": [
      "+-----------+--------+------+--------------------+------+----+-----+-----+----------------+----+-----+--------+\n",
      "|PassengerId|Survived|Pclass|                Name|   Sex| Age|SibSp|Parch|          Ticket|Fare|Cabin|Embarked|\n",
      "+-----------+--------+------+--------------------+------+----+-----+-----+----------------+----+-----+--------+\n",
      "|          1|       0|     3|Braund, Mr. Owen ...|  male|  22|    1|    0|       A/5 21171|   7| null|       S|\n",
      "|          2|       1|     1|Cumings, Mrs. Joh...|female|  38|    1|    0|        PC 17599|  71|  C85|       C|\n",
      "|          3|       1|     3|Heikkinen, Miss. ...|female|  26|    0|    0|STON/O2. 3101282|   7| null|       S|\n",
      "|          4|       1|     1|Futrelle, Mrs. Ja...|female|  35|    1|    0|          113803|  53| C123|       S|\n",
      "|          5|       0|     3|Allen, Mr. Willia...|  male|  35|    0|    0|          373450|   8| null|       S|\n",
      "|          6|       0|     3|    Moran, Mr. James|  male|null|    0|    0|          330877|   8| null|       Q|\n",
      "|          7|       0|     1|McCarthy, Mr. Tim...|  male|  54|    0|    0|           17463|  51|  E46|       S|\n",
      "|          8|       0|     3|Palsson, Master. ...|  male|   2|    3|    1|          349909|  21| null|       S|\n",
      "|          9|       1|     3|Johnson, Mrs. Osc...|female|  27|    0|    2|          347742|  11| null|       S|\n",
      "|         10|       1|     2|Nasser, Mrs. Nich...|female|  14|    1|    0|          237736|  30| null|       C|\n",
      "|         11|       1|     3|Sandstrom, Miss. ...|female|   4|    1|    1|         PP 9549|  16|   G6|       S|\n",
      "|         12|       1|     1|Bonnell, Miss. El...|female|  58|    0|    0|          113783|  26| C103|       S|\n",
      "|         13|       0|     3|Saundercock, Mr. ...|  male|  20|    0|    0|       A/5. 2151|   8| null|       S|\n",
      "|         14|       0|     3|Andersson, Mr. An...|  male|  39|    1|    5|          347082|  31| null|       S|\n",
      "|         15|       0|     3|Vestrom, Miss. Hu...|female|  14|    0|    0|          350406|   7| null|       S|\n",
      "|         16|       1|     2|Hewlett, Mrs. (Ma...|female|  55|    0|    0|          248706|  16| null|       S|\n",
      "|         17|       0|     3|Rice, Master. Eugene|  male|   2|    4|    1|          382652|  29| null|       Q|\n",
      "|         18|       1|     2|Williams, Mr. Cha...|  male|null|    0|    0|          244373|  13| null|       S|\n",
      "|         19|       0|     3|Vander Planke, Mr...|female|  31|    1|    0|          345763|  18| null|       S|\n",
      "|         20|       1|     3|Masselmani, Mrs. ...|female|null|    0|    0|            2649|   7| null|       C|\n",
      "+-----------+--------+------+--------------------+------+----+-----+-----+----------------+----+-----+--------+\n",
      "only showing top 20 rows\n",
      "\n"
     ]
    }
   ],
   "source": [
    "df.na.fill('29', 'Age').show()"
   ]
  },
  {
   "cell_type": "code",
   "execution_count": 20,
   "id": "e9c75356-e80f-4376-8d76-8a10ad26f573",
   "metadata": {},
   "outputs": [
    {
     "name": "stdout",
     "output_type": "stream",
     "text": [
      "<class 'pandas.core.frame.DataFrame'>\n",
      "RangeIndex: 891 entries, 0 to 890\n",
      "Data columns (total 12 columns):\n",
      " #   Column       Non-Null Count  Dtype  \n",
      "---  ------       --------------  -----  \n",
      " 0   PassengerId  891 non-null    int32  \n",
      " 1   Survived     891 non-null    int32  \n",
      " 2   Pclass       891 non-null    int32  \n",
      " 3   Name         891 non-null    object \n",
      " 4   Sex          891 non-null    object \n",
      " 5   Age          714 non-null    float64\n",
      " 6   SibSp        891 non-null    int32  \n",
      " 7   Parch        891 non-null    int32  \n",
      " 8   Ticket       891 non-null    object \n",
      " 9   Fare         891 non-null    int32  \n",
      " 10  Cabin        204 non-null    object \n",
      " 11  Embarked     889 non-null    object \n",
      "dtypes: float64(1), int32(6), object(5)\n",
      "memory usage: 62.8+ KB\n"
     ]
    }
   ],
   "source": [
    "df.toPandas().info()"
   ]
  },
  {
   "cell_type": "code",
   "execution_count": 21,
   "id": "77bad6ac-64ba-4cc8-9e5e-4072235933a9",
   "metadata": {},
   "outputs": [],
   "source": [
    "# imputer를 사용한 결측값 처리하기\n",
    "from pyspark.ml.feature import Imputer"
   ]
  },
  {
   "cell_type": "code",
   "execution_count": 22,
   "id": "79ce337f-de6a-400a-8e43-99da628a2844",
   "metadata": {},
   "outputs": [
    {
     "name": "stdout",
     "output_type": "stream",
     "text": [
      "+-----------+--------+------+--------------------+------+---+-----+-----+----------------+----+-----+--------+\n",
      "|PassengerId|Survived|Pclass|                Name|   Sex|Age|SibSp|Parch|          Ticket|Fare|Cabin|Embarked|\n",
      "+-----------+--------+------+--------------------+------+---+-----+-----+----------------+----+-----+--------+\n",
      "|          1|       0|     3|Braund, Mr. Owen ...|  male| 22|    1|    0|       A/5 21171|   7| null|       S|\n",
      "|          2|       1|     1|Cumings, Mrs. Joh...|female| 38|    1|    0|        PC 17599|  71|  C85|       C|\n",
      "|          3|       1|     3|Heikkinen, Miss. ...|female| 26|    0|    0|STON/O2. 3101282|   7| null|       S|\n",
      "|          4|       1|     1|Futrelle, Mrs. Ja...|female| 35|    1|    0|          113803|  53| C123|       S|\n",
      "|          5|       0|     3|Allen, Mr. Willia...|  male| 35|    0|    0|          373450|   8| null|       S|\n",
      "|          6|       0|     3|    Moran, Mr. James|  male| 29|    0|    0|          330877|   8| null|       Q|\n",
      "|          7|       0|     1|McCarthy, Mr. Tim...|  male| 54|    0|    0|           17463|  51|  E46|       S|\n",
      "|          8|       0|     3|Palsson, Master. ...|  male|  2|    3|    1|          349909|  21| null|       S|\n",
      "|          9|       1|     3|Johnson, Mrs. Osc...|female| 27|    0|    2|          347742|  11| null|       S|\n",
      "|         10|       1|     2|Nasser, Mrs. Nich...|female| 14|    1|    0|          237736|  30| null|       C|\n",
      "|         11|       1|     3|Sandstrom, Miss. ...|female|  4|    1|    1|         PP 9549|  16|   G6|       S|\n",
      "|         12|       1|     1|Bonnell, Miss. El...|female| 58|    0|    0|          113783|  26| C103|       S|\n",
      "|         13|       0|     3|Saundercock, Mr. ...|  male| 20|    0|    0|       A/5. 2151|   8| null|       S|\n",
      "|         14|       0|     3|Andersson, Mr. An...|  male| 39|    1|    5|          347082|  31| null|       S|\n",
      "|         15|       0|     3|Vestrom, Miss. Hu...|female| 14|    0|    0|          350406|   7| null|       S|\n",
      "|         16|       1|     2|Hewlett, Mrs. (Ma...|female| 55|    0|    0|          248706|  16| null|       S|\n",
      "|         17|       0|     3|Rice, Master. Eugene|  male|  2|    4|    1|          382652|  29| null|       Q|\n",
      "|         18|       1|     2|Williams, Mr. Cha...|  male| 29|    0|    0|          244373|  13| null|       S|\n",
      "|         19|       0|     3|Vander Planke, Mr...|female| 31|    1|    0|          345763|  18| null|       S|\n",
      "|         20|       1|     3|Masselmani, Mrs. ...|female| 29|    0|    0|            2649|   7| null|       C|\n",
      "+-----------+--------+------+--------------------+------+---+-----+-----+----------------+----+-----+--------+\n",
      "only showing top 20 rows\n",
      "\n"
     ]
    }
   ],
   "source": [
    "imputer = Imputer(inputCols=['Age'], outputCols=['Age']).setStrategy('mean')\n",
    "imputer.fit(df).transform(df).show()"
   ]
  },
  {
   "cell_type": "code",
   "execution_count": 23,
   "id": "e6fffa43-2f14-4ddc-b492-5f3fba797de1",
   "metadata": {},
   "outputs": [
    {
     "name": "stdout",
     "output_type": "stream",
     "text": [
      "+-----------+--------+------+--------------------+------+---+-----+-----+----------------+----+-----+--------+\n",
      "|PassengerId|Survived|Pclass|                Name|   Sex|Age|SibSp|Parch|          Ticket|Fare|Cabin|Embarked|\n",
      "+-----------+--------+------+--------------------+------+---+-----+-----+----------------+----+-----+--------+\n",
      "|          1|       0|     3|Braund, Mr. Owen ...|  male| 22|    1|    0|       A/5 21171|   7| null|       S|\n",
      "|          2|       1|     1|Cumings, Mrs. Joh...|female| 38|    1|    0|        PC 17599|  71|  C85|       C|\n",
      "|          3|       1|     3|Heikkinen, Miss. ...|female| 26|    0|    0|STON/O2. 3101282|   7| null|       S|\n",
      "|          4|       1|     1|Futrelle, Mrs. Ja...|female| 35|    1|    0|          113803|  53| C123|       S|\n",
      "|          5|       0|     3|Allen, Mr. Willia...|  male| 35|    0|    0|          373450|   8| null|       S|\n",
      "|          6|       0|     3|    Moran, Mr. James|  male| 29|    0|    0|          330877|   8| null|       Q|\n",
      "|          7|       0|     1|McCarthy, Mr. Tim...|  male| 54|    0|    0|           17463|  51|  E46|       S|\n",
      "|          8|       0|     3|Palsson, Master. ...|  male|  2|    3|    1|          349909|  21| null|       S|\n",
      "|          9|       1|     3|Johnson, Mrs. Osc...|female| 27|    0|    2|          347742|  11| null|       S|\n",
      "|         10|       1|     2|Nasser, Mrs. Nich...|female| 14|    1|    0|          237736|  30| null|       C|\n",
      "|         11|       1|     3|Sandstrom, Miss. ...|female|  4|    1|    1|         PP 9549|  16|   G6|       S|\n",
      "|         12|       1|     1|Bonnell, Miss. El...|female| 58|    0|    0|          113783|  26| C103|       S|\n",
      "|         13|       0|     3|Saundercock, Mr. ...|  male| 20|    0|    0|       A/5. 2151|   8| null|       S|\n",
      "|         14|       0|     3|Andersson, Mr. An...|  male| 39|    1|    5|          347082|  31| null|       S|\n",
      "|         15|       0|     3|Vestrom, Miss. Hu...|female| 14|    0|    0|          350406|   7| null|       S|\n",
      "|         16|       1|     2|Hewlett, Mrs. (Ma...|female| 55|    0|    0|          248706|  16| null|       S|\n",
      "|         17|       0|     3|Rice, Master. Eugene|  male|  2|    4|    1|          382652|  29| null|       Q|\n",
      "|         18|       1|     2|Williams, Mr. Cha...|  male| 29|    0|    0|          244373|  13| null|       S|\n",
      "|         19|       0|     3|Vander Planke, Mr...|female| 31|    1|    0|          345763|  18| null|       S|\n",
      "|         20|       1|     3|Masselmani, Mrs. ...|female| 29|    0|    0|            2649|   7| null|       C|\n",
      "+-----------+--------+------+--------------------+------+---+-----+-----+----------------+----+-----+--------+\n",
      "only showing top 20 rows\n",
      "\n"
     ]
    }
   ],
   "source": [
    "df = imputer.fit(df).transform(df)\n",
    "df.show()"
   ]
  },
  {
   "cell_type": "code",
   "execution_count": 24,
   "id": "f4c4e536-3ef5-46e8-a9b7-2d8b1ed66d3b",
   "metadata": {
    "scrolled": true
   },
   "outputs": [
    {
     "name": "stdout",
     "output_type": "stream",
     "text": [
      "<class 'pandas.core.frame.DataFrame'>\n",
      "RangeIndex: 891 entries, 0 to 890\n",
      "Data columns (total 12 columns):\n",
      " #   Column       Non-Null Count  Dtype \n",
      "---  ------       --------------  ----- \n",
      " 0   PassengerId  891 non-null    int32 \n",
      " 1   Survived     891 non-null    int32 \n",
      " 2   Pclass       891 non-null    int32 \n",
      " 3   Name         891 non-null    object\n",
      " 4   Sex          891 non-null    object\n",
      " 5   Age          891 non-null    int32 \n",
      " 6   SibSp        891 non-null    int32 \n",
      " 7   Parch        891 non-null    int32 \n",
      " 8   Ticket       891 non-null    object\n",
      " 9   Fare         891 non-null    int32 \n",
      " 10  Cabin        204 non-null    object\n",
      " 11  Embarked     889 non-null    object\n",
      "dtypes: int32(7), object(5)\n",
      "memory usage: 59.3+ KB\n"
     ]
    }
   ],
   "source": [
    "df.toPandas().info()"
   ]
  },
  {
   "cell_type": "code",
   "execution_count": 25,
   "id": "324ddf38-de20-4588-aacc-daaa74726eaa",
   "metadata": {},
   "outputs": [],
   "source": [
    "df = df.drop('Cabin')"
   ]
  },
  {
   "cell_type": "code",
   "execution_count": 26,
   "id": "1e8a6fb2-51ca-4ee2-93f2-1be091708e3c",
   "metadata": {},
   "outputs": [
    {
     "name": "stdout",
     "output_type": "stream",
     "text": [
      "<class 'pandas.core.frame.DataFrame'>\n",
      "RangeIndex: 891 entries, 0 to 890\n",
      "Data columns (total 11 columns):\n",
      " #   Column       Non-Null Count  Dtype \n",
      "---  ------       --------------  ----- \n",
      " 0   PassengerId  891 non-null    int32 \n",
      " 1   Survived     891 non-null    int32 \n",
      " 2   Pclass       891 non-null    int32 \n",
      " 3   Name         891 non-null    object\n",
      " 4   Sex          891 non-null    object\n",
      " 5   Age          891 non-null    int32 \n",
      " 6   SibSp        891 non-null    int32 \n",
      " 7   Parch        891 non-null    int32 \n",
      " 8   Ticket       891 non-null    object\n",
      " 9   Fare         891 non-null    int32 \n",
      " 10  Embarked     889 non-null    object\n",
      "dtypes: int32(7), object(4)\n",
      "memory usage: 52.3+ KB\n"
     ]
    }
   ],
   "source": [
    "df.toPandas().info()"
   ]
  },
  {
   "cell_type": "code",
   "execution_count": 27,
   "id": "39765846-e80e-4619-8928-f532b64e036e",
   "metadata": {},
   "outputs": [
    {
     "data": {
      "text/plain": [
       "Embarked\n",
       "S    644\n",
       "C    168\n",
       "Q     77\n",
       "Name: count, dtype: int64"
      ]
     },
     "execution_count": 27,
     "metadata": {},
     "output_type": "execute_result"
    }
   ],
   "source": [
    "df.toPandas()['Embarked'].value_counts()"
   ]
  },
  {
   "cell_type": "code",
   "execution_count": 28,
   "id": "443ae4dd-736d-41a4-b8e7-84b98bb436ec",
   "metadata": {},
   "outputs": [],
   "source": [
    " # Embarked는 가장 많은 값인 S로 채워줌\n",
    "df = df.na.fill('S', 'Embarked')"
   ]
  },
  {
   "cell_type": "code",
   "execution_count": 29,
   "id": "87e2bc5e-6dbd-4450-9831-ead7deb05cdb",
   "metadata": {},
   "outputs": [],
   "source": [
    "# 필요한 컬럼 외 전부 drop 시켜주기\n",
    "df = df.drop('Fare', 'PassengerId', 'Name','SibSp','Parch','Ticket')"
   ]
  },
  {
   "cell_type": "code",
   "execution_count": 30,
   "id": "cc6eb673-9195-46f1-be50-c77a574c3c26",
   "metadata": {},
   "outputs": [
    {
     "name": "stdout",
     "output_type": "stream",
     "text": [
      "<class 'pandas.core.frame.DataFrame'>\n",
      "RangeIndex: 891 entries, 0 to 890\n",
      "Data columns (total 5 columns):\n",
      " #   Column    Non-Null Count  Dtype \n",
      "---  ------    --------------  ----- \n",
      " 0   Survived  891 non-null    int32 \n",
      " 1   Pclass    891 non-null    int32 \n",
      " 2   Sex       891 non-null    object\n",
      " 3   Age       891 non-null    int32 \n",
      " 4   Embarked  891 non-null    object\n",
      "dtypes: int32(3), object(2)\n",
      "memory usage: 24.5+ KB\n"
     ]
    }
   ],
   "source": [
    "df.toPandas().info()"
   ]
  },
  {
   "cell_type": "code",
   "execution_count": 31,
   "id": "1e09820a-3404-4f22-a5db-dd572a7d3fc8",
   "metadata": {},
   "outputs": [
    {
     "name": "stdout",
     "output_type": "stream",
     "text": [
      "root\n",
      " |-- Survived: integer (nullable = true)\n",
      " |-- Pclass: integer (nullable = true)\n",
      " |-- Sex: string (nullable = true)\n",
      " |-- Age: integer (nullable = true)\n",
      " |-- Embarked: string (nullable = false)\n",
      "\n"
     ]
    }
   ],
   "source": [
    "df.printSchema()"
   ]
  },
  {
   "cell_type": "code",
   "execution_count": 32,
   "id": "761b79b6-d407-462e-b19b-8a786d37d5e0",
   "metadata": {},
   "outputs": [
    {
     "name": "stdout",
     "output_type": "stream",
     "text": [
      "root\n",
      " |-- Survived: integer (nullable = true)\n",
      " |-- Pclass: integer (nullable = true)\n",
      " |-- Sex: string (nullable = true)\n",
      " |-- Age: integer (nullable = true)\n",
      " |-- Embarked: string (nullable = false)\n",
      "\n"
     ]
    }
   ],
   "source": [
    "df.printSchema()"
   ]
  },
  {
   "cell_type": "code",
   "execution_count": 33,
   "id": "36ae090c-f95a-44c7-94f1-7345ed66e9e5",
   "metadata": {},
   "outputs": [
    {
     "name": "stdout",
     "output_type": "stream",
     "text": [
      "<class 'pandas.core.frame.DataFrame'>\n",
      "RangeIndex: 891 entries, 0 to 890\n",
      "Data columns (total 5 columns):\n",
      " #   Column    Non-Null Count  Dtype \n",
      "---  ------    --------------  ----- \n",
      " 0   Survived  891 non-null    int32 \n",
      " 1   Pclass    891 non-null    int32 \n",
      " 2   Sex       891 non-null    object\n",
      " 3   Age       891 non-null    int32 \n",
      " 4   Embarked  891 non-null    object\n",
      "dtypes: int32(3), object(2)\n",
      "memory usage: 24.5+ KB\n"
     ]
    }
   ],
   "source": [
    "df.toPandas().info()"
   ]
  },
  {
   "cell_type": "code",
   "execution_count": 34,
   "id": "de195d33-3a84-47a1-9ca0-7e77fa60d196",
   "metadata": {},
   "outputs": [],
   "source": [
    "# 레이블 인코딩 하기 scikit-learn의 label encoding과 같은 역할\n",
    "from pyspark.ml.feature import StringIndexer\n",
    "indexer = StringIndexer(inputCols=['Sex','Embarked'], outputCols=['SexIndex','EmbarkedIndex'])\n",
    "df = indexer.fit(df).transform(df)"
   ]
  },
  {
   "cell_type": "code",
   "execution_count": 35,
   "id": "580bdfb3-4a0b-4f7e-aee4-fb8b941b285a",
   "metadata": {},
   "outputs": [
    {
     "name": "stdout",
     "output_type": "stream",
     "text": [
      "+--------+------+------+---+--------+--------+-------------+\n",
      "|Survived|Pclass|   Sex|Age|Embarked|SexIndex|EmbarkedIndex|\n",
      "+--------+------+------+---+--------+--------+-------------+\n",
      "|       0|     3|  male| 22|       S|     0.0|          0.0|\n",
      "|       1|     1|female| 38|       C|     1.0|          1.0|\n",
      "|       1|     3|female| 26|       S|     1.0|          0.0|\n",
      "|       1|     1|female| 35|       S|     1.0|          0.0|\n",
      "|       0|     3|  male| 35|       S|     0.0|          0.0|\n",
      "|       0|     3|  male| 29|       Q|     0.0|          2.0|\n",
      "|       0|     1|  male| 54|       S|     0.0|          0.0|\n",
      "|       0|     3|  male|  2|       S|     0.0|          0.0|\n",
      "|       1|     3|female| 27|       S|     1.0|          0.0|\n",
      "|       1|     2|female| 14|       C|     1.0|          1.0|\n",
      "|       1|     3|female|  4|       S|     1.0|          0.0|\n",
      "|       1|     1|female| 58|       S|     1.0|          0.0|\n",
      "|       0|     3|  male| 20|       S|     0.0|          0.0|\n",
      "|       0|     3|  male| 39|       S|     0.0|          0.0|\n",
      "|       0|     3|female| 14|       S|     1.0|          0.0|\n",
      "|       1|     2|female| 55|       S|     1.0|          0.0|\n",
      "|       0|     3|  male|  2|       Q|     0.0|          2.0|\n",
      "|       1|     2|  male| 29|       S|     0.0|          0.0|\n",
      "|       0|     3|female| 31|       S|     1.0|          0.0|\n",
      "|       1|     3|female| 29|       C|     1.0|          1.0|\n",
      "+--------+------+------+---+--------+--------+-------------+\n",
      "only showing top 20 rows\n",
      "\n"
     ]
    }
   ],
   "source": [
    "df.show()"
   ]
  },
  {
   "cell_type": "code",
   "execution_count": 36,
   "id": "0e9ffc3f-b6d1-4c94-a129-daeed8535baf",
   "metadata": {},
   "outputs": [],
   "source": [
    "# 원핫인코딩 하기 -> 먼저하면 오류남(레이블인코딩먼저)\n",
    "from pyspark.ml.feature import OneHotEncoder\n",
    "encoder = OneHotEncoder(inputCols=['SexIndex','EmbarkedIndex'], outputCols=['Sex_vec','Embarked_vec'])\n",
    "df= encoder.fit(df).transform(df)"
   ]
  },
  {
   "cell_type": "code",
   "execution_count": 37,
   "id": "bd225ae6-cf52-48e8-96fa-5f7d5fe5b4c6",
   "metadata": {},
   "outputs": [
    {
     "name": "stdout",
     "output_type": "stream",
     "text": [
      "+--------+------+------+---+--------+--------+-------------+-------------+-------------+\n",
      "|Survived|Pclass|   Sex|Age|Embarked|SexIndex|EmbarkedIndex|      Sex_vec| Embarked_vec|\n",
      "+--------+------+------+---+--------+--------+-------------+-------------+-------------+\n",
      "|       0|     3|  male| 22|       S|     0.0|          0.0|(1,[0],[1.0])|(2,[0],[1.0])|\n",
      "|       1|     1|female| 38|       C|     1.0|          1.0|    (1,[],[])|(2,[1],[1.0])|\n",
      "|       1|     3|female| 26|       S|     1.0|          0.0|    (1,[],[])|(2,[0],[1.0])|\n",
      "|       1|     1|female| 35|       S|     1.0|          0.0|    (1,[],[])|(2,[0],[1.0])|\n",
      "|       0|     3|  male| 35|       S|     0.0|          0.0|(1,[0],[1.0])|(2,[0],[1.0])|\n",
      "|       0|     3|  male| 29|       Q|     0.0|          2.0|(1,[0],[1.0])|    (2,[],[])|\n",
      "|       0|     1|  male| 54|       S|     0.0|          0.0|(1,[0],[1.0])|(2,[0],[1.0])|\n",
      "|       0|     3|  male|  2|       S|     0.0|          0.0|(1,[0],[1.0])|(2,[0],[1.0])|\n",
      "|       1|     3|female| 27|       S|     1.0|          0.0|    (1,[],[])|(2,[0],[1.0])|\n",
      "|       1|     2|female| 14|       C|     1.0|          1.0|    (1,[],[])|(2,[1],[1.0])|\n",
      "|       1|     3|female|  4|       S|     1.0|          0.0|    (1,[],[])|(2,[0],[1.0])|\n",
      "|       1|     1|female| 58|       S|     1.0|          0.0|    (1,[],[])|(2,[0],[1.0])|\n",
      "|       0|     3|  male| 20|       S|     0.0|          0.0|(1,[0],[1.0])|(2,[0],[1.0])|\n",
      "|       0|     3|  male| 39|       S|     0.0|          0.0|(1,[0],[1.0])|(2,[0],[1.0])|\n",
      "|       0|     3|female| 14|       S|     1.0|          0.0|    (1,[],[])|(2,[0],[1.0])|\n",
      "|       1|     2|female| 55|       S|     1.0|          0.0|    (1,[],[])|(2,[0],[1.0])|\n",
      "|       0|     3|  male|  2|       Q|     0.0|          2.0|(1,[0],[1.0])|    (2,[],[])|\n",
      "|       1|     2|  male| 29|       S|     0.0|          0.0|(1,[0],[1.0])|(2,[0],[1.0])|\n",
      "|       0|     3|female| 31|       S|     1.0|          0.0|    (1,[],[])|(2,[0],[1.0])|\n",
      "|       1|     3|female| 29|       C|     1.0|          1.0|    (1,[],[])|(2,[1],[1.0])|\n",
      "+--------+------+------+---+--------+--------+-------------+-------------+-------------+\n",
      "only showing top 20 rows\n",
      "\n"
     ]
    }
   ],
   "source": [
    "df.show()"
   ]
  },
  {
   "cell_type": "code",
   "execution_count": 39,
   "id": "d01e7ed1-39cd-4ca6-b243-3a47581c9032",
   "metadata": {},
   "outputs": [],
   "source": [
    "df = df.drop('Sex','Embarked','SexIndex','EmbarkedIndex')"
   ]
  },
  {
   "cell_type": "code",
   "execution_count": 40,
   "id": "72275383-db8d-4613-a4a0-32ad835c6cf6",
   "metadata": {},
   "outputs": [
    {
     "name": "stdout",
     "output_type": "stream",
     "text": [
      "+--------+------+---+-------------+-------------+\n",
      "|Survived|Pclass|Age|      Sex_vec| Embarked_vec|\n",
      "+--------+------+---+-------------+-------------+\n",
      "|       0|     3| 22|(1,[0],[1.0])|(2,[0],[1.0])|\n",
      "|       1|     1| 38|    (1,[],[])|(2,[1],[1.0])|\n",
      "|       1|     3| 26|    (1,[],[])|(2,[0],[1.0])|\n",
      "|       1|     1| 35|    (1,[],[])|(2,[0],[1.0])|\n",
      "|       0|     3| 35|(1,[0],[1.0])|(2,[0],[1.0])|\n",
      "|       0|     3| 29|(1,[0],[1.0])|    (2,[],[])|\n",
      "|       0|     1| 54|(1,[0],[1.0])|(2,[0],[1.0])|\n",
      "|       0|     3|  2|(1,[0],[1.0])|(2,[0],[1.0])|\n",
      "|       1|     3| 27|    (1,[],[])|(2,[0],[1.0])|\n",
      "|       1|     2| 14|    (1,[],[])|(2,[1],[1.0])|\n",
      "|       1|     3|  4|    (1,[],[])|(2,[0],[1.0])|\n",
      "|       1|     1| 58|    (1,[],[])|(2,[0],[1.0])|\n",
      "|       0|     3| 20|(1,[0],[1.0])|(2,[0],[1.0])|\n",
      "|       0|     3| 39|(1,[0],[1.0])|(2,[0],[1.0])|\n",
      "|       0|     3| 14|    (1,[],[])|(2,[0],[1.0])|\n",
      "|       1|     2| 55|    (1,[],[])|(2,[0],[1.0])|\n",
      "|       0|     3|  2|(1,[0],[1.0])|    (2,[],[])|\n",
      "|       1|     2| 29|(1,[0],[1.0])|(2,[0],[1.0])|\n",
      "|       0|     3| 31|    (1,[],[])|(2,[0],[1.0])|\n",
      "|       1|     3| 29|    (1,[],[])|(2,[1],[1.0])|\n",
      "+--------+------+---+-------------+-------------+\n",
      "only showing top 20 rows\n",
      "\n"
     ]
    }
   ],
   "source": [
    "df.show()"
   ]
  },
  {
   "cell_type": "code",
   "execution_count": 41,
   "id": "fae5c858-9e28-4f37-9333-da12faac72d8",
   "metadata": {},
   "outputs": [
    {
     "name": "stdout",
     "output_type": "stream",
     "text": [
      "+--------+------+---+-------------+-------------+--------------------+\n",
      "|Survived|Pclass|Age|      Sex_vec| Embarked_vec|            Features|\n",
      "+--------+------+---+-------------+-------------+--------------------+\n",
      "|       0|     3| 22|(1,[0],[1.0])|(2,[0],[1.0])|[3.0,22.0,1.0,1.0...|\n",
      "|       1|     1| 38|    (1,[],[])|(2,[1],[1.0])|[1.0,38.0,0.0,0.0...|\n",
      "|       1|     3| 26|    (1,[],[])|(2,[0],[1.0])|[3.0,26.0,0.0,1.0...|\n",
      "|       1|     1| 35|    (1,[],[])|(2,[0],[1.0])|[1.0,35.0,0.0,1.0...|\n",
      "|       0|     3| 35|(1,[0],[1.0])|(2,[0],[1.0])|[3.0,35.0,1.0,1.0...|\n",
      "|       0|     3| 29|(1,[0],[1.0])|    (2,[],[])|[3.0,29.0,1.0,0.0...|\n",
      "|       0|     1| 54|(1,[0],[1.0])|(2,[0],[1.0])|[1.0,54.0,1.0,1.0...|\n",
      "|       0|     3|  2|(1,[0],[1.0])|(2,[0],[1.0])|[3.0,2.0,1.0,1.0,...|\n",
      "|       1|     3| 27|    (1,[],[])|(2,[0],[1.0])|[3.0,27.0,0.0,1.0...|\n",
      "|       1|     2| 14|    (1,[],[])|(2,[1],[1.0])|[2.0,14.0,0.0,0.0...|\n",
      "|       1|     3|  4|    (1,[],[])|(2,[0],[1.0])|[3.0,4.0,0.0,1.0,...|\n",
      "|       1|     1| 58|    (1,[],[])|(2,[0],[1.0])|[1.0,58.0,0.0,1.0...|\n",
      "|       0|     3| 20|(1,[0],[1.0])|(2,[0],[1.0])|[3.0,20.0,1.0,1.0...|\n",
      "|       0|     3| 39|(1,[0],[1.0])|(2,[0],[1.0])|[3.0,39.0,1.0,1.0...|\n",
      "|       0|     3| 14|    (1,[],[])|(2,[0],[1.0])|[3.0,14.0,0.0,1.0...|\n",
      "|       1|     2| 55|    (1,[],[])|(2,[0],[1.0])|[2.0,55.0,0.0,1.0...|\n",
      "|       0|     3|  2|(1,[0],[1.0])|    (2,[],[])|[3.0,2.0,1.0,0.0,...|\n",
      "|       1|     2| 29|(1,[0],[1.0])|(2,[0],[1.0])|[2.0,29.0,1.0,1.0...|\n",
      "|       0|     3| 31|    (1,[],[])|(2,[0],[1.0])|[3.0,31.0,0.0,1.0...|\n",
      "|       1|     3| 29|    (1,[],[])|(2,[1],[1.0])|[3.0,29.0,0.0,0.0...|\n",
      "+--------+------+---+-------------+-------------+--------------------+\n",
      "only showing top 20 rows\n",
      "\n"
     ]
    }
   ],
   "source": [
    "from pyspark.ml.feature import VectorAssembler\n",
    "feature_assembler = VectorAssembler(inputCols = ['Pclass', 'Age', 'Sex_vec', 'Embarked_vec'], outputCol = 'Features')\n",
    "df = feature_assembler.transform(df)\n",
    "df.show()"
   ]
  },
  {
   "cell_type": "code",
   "execution_count": 42,
   "id": "59e06879-fb89-4a6e-a139-a4bcea885c0a",
   "metadata": {},
   "outputs": [
    {
     "name": "stdout",
     "output_type": "stream",
     "text": [
      "+--------+--------------------+\n",
      "|Survived|            Features|\n",
      "+--------+--------------------+\n",
      "|       0|[3.0,22.0,1.0,1.0...|\n",
      "|       1|[1.0,38.0,0.0,0.0...|\n",
      "|       1|[3.0,26.0,0.0,1.0...|\n",
      "|       1|[1.0,35.0,0.0,1.0...|\n",
      "|       0|[3.0,35.0,1.0,1.0...|\n",
      "|       0|[3.0,29.0,1.0,0.0...|\n",
      "|       0|[1.0,54.0,1.0,1.0...|\n",
      "|       0|[3.0,2.0,1.0,1.0,...|\n",
      "|       1|[3.0,27.0,0.0,1.0...|\n",
      "|       1|[2.0,14.0,0.0,0.0...|\n",
      "|       1|[3.0,4.0,0.0,1.0,...|\n",
      "|       1|[1.0,58.0,0.0,1.0...|\n",
      "|       0|[3.0,20.0,1.0,1.0...|\n",
      "|       0|[3.0,39.0,1.0,1.0...|\n",
      "|       0|[3.0,14.0,0.0,1.0...|\n",
      "|       1|[2.0,55.0,0.0,1.0...|\n",
      "|       0|[3.0,2.0,1.0,0.0,...|\n",
      "|       1|[2.0,29.0,1.0,1.0...|\n",
      "|       0|[3.0,31.0,0.0,1.0...|\n",
      "|       1|[3.0,29.0,0.0,0.0...|\n",
      "+--------+--------------------+\n",
      "only showing top 20 rows\n",
      "\n"
     ]
    }
   ],
   "source": [
    "df = df.drop('Pclass', 'Age', 'Sex_vec', 'Embarked_vec')\n",
    "df.show()"
   ]
  },
  {
   "cell_type": "code",
   "execution_count": 43,
   "id": "69516afb-f1dc-4048-b7a9-27550dfcc6c3",
   "metadata": {},
   "outputs": [
    {
     "name": "stdout",
     "output_type": "stream",
     "text": [
      "root\n",
      " |-- Survived: integer (nullable = true)\n",
      " |-- Features: vector (nullable = true)\n",
      "\n"
     ]
    }
   ],
   "source": [
    "df.printSchema()"
   ]
  },
  {
   "cell_type": "code",
   "execution_count": 44,
   "id": "6e0e45ef-49a9-4d97-9d75-d25271bb390f",
   "metadata": {},
   "outputs": [],
   "source": [
    "(train_data, test_data) = df.randomSplit([0.8, 0.2], seed=10)"
   ]
  },
  {
   "cell_type": "code",
   "execution_count": 45,
   "id": "d7708224-10ff-4474-8763-f10391405837",
   "metadata": {},
   "outputs": [
    {
     "name": "stdout",
     "output_type": "stream",
     "text": [
      "+--------+--------------------+-------------+--------------------+----------+\n",
      "|Survived|            Features|rawPrediction|         probability|prediction|\n",
      "+--------+--------------------+-------------+--------------------+----------+\n",
      "|       0|(5,[0,1],[3.0,21.0])|  [14.0,33.0]|[0.29787234042553...|       1.0|\n",
      "|       0|(5,[0,1],[3.0,29.0])|  [14.0,33.0]|[0.29787234042553...|       1.0|\n",
      "|       0|(5,[0,1],[3.0,30.0])|  [14.0,33.0]|[0.29787234042553...|       1.0|\n",
      "|       0|[1.0,18.0,1.0,0.0...|  [57.0,35.0]|[0.61956521739130...|       0.0|\n",
      "|       0|[1.0,21.0,1.0,1.0...|  [57.0,35.0]|[0.61956521739130...|       0.0|\n",
      "|       0|[1.0,24.0,1.0,0.0...|  [57.0,35.0]|[0.61956521739130...|       0.0|\n",
      "|       0|[1.0,29.0,1.0,1.0...|  [57.0,35.0]|[0.61956521739130...|       0.0|\n",
      "|       0|[1.0,29.0,1.0,1.0...|  [57.0,35.0]|[0.61956521739130...|       0.0|\n",
      "|       0|[1.0,29.0,1.0,1.0...|  [57.0,35.0]|[0.61956521739130...|       0.0|\n",
      "|       0|[1.0,30.0,1.0,0.0...|  [57.0,35.0]|[0.61956521739130...|       0.0|\n",
      "|       0|[1.0,42.0,1.0,1.0...|  [57.0,35.0]|[0.61956521739130...|       0.0|\n",
      "|       0|[1.0,44.0,1.0,0.0...|  [57.0,35.0]|[0.61956521739130...|       0.0|\n",
      "|       0|[1.0,45.0,1.0,1.0...|  [57.0,35.0]|[0.61956521739130...|       0.0|\n",
      "|       0|[1.0,45.0,1.0,1.0...|  [57.0,35.0]|[0.61956521739130...|       0.0|\n",
      "|       0|[1.0,47.0,1.0,1.0...|  [57.0,35.0]|[0.61956521739130...|       0.0|\n",
      "|       0|[1.0,50.0,1.0,0.0...|  [57.0,35.0]|[0.61956521739130...|       0.0|\n",
      "|       0|[1.0,51.0,1.0,0.0...|  [57.0,35.0]|[0.61956521739130...|       0.0|\n",
      "|       0|[1.0,52.0,1.0,1.0...|  [57.0,35.0]|[0.61956521739130...|       0.0|\n",
      "|       0|[1.0,54.0,1.0,1.0...|  [57.0,35.0]|[0.61956521739130...|       0.0|\n",
      "|       0|[1.0,60.0,1.0,1.0...|  [57.0,35.0]|[0.61956521739130...|       0.0|\n",
      "+--------+--------------------+-------------+--------------------+----------+\n",
      "only showing top 20 rows\n",
      "\n"
     ]
    }
   ],
   "source": [
    "from pyspark.ml.classification import DecisionTreeClassifier\n",
    "dtc = DecisionTreeClassifier(featuresCol = 'Features', labelCol='Survived', maxDepth=3)\n",
    "dtc = dtc.fit(train_data)\n",
    "pred = dtc.transform(test_data)\n",
    "pred.show()"
   ]
  },
  {
   "cell_type": "code",
   "execution_count": 46,
   "id": "2d843bc5-79ec-40a7-b269-4f380ec3905f",
   "metadata": {},
   "outputs": [],
   "source": [
    "from sklearn.metrics import accuracy_score, classification_report"
   ]
  },
  {
   "cell_type": "code",
   "execution_count": 48,
   "id": "8e094428-c029-465d-9918-92fd3b271a6a",
   "metadata": {},
   "outputs": [],
   "source": [
    "pred = pred.toPandas()"
   ]
  },
  {
   "cell_type": "code",
   "execution_count": 49,
   "id": "421744c0-63ec-46c4-ac01-1e25847c890b",
   "metadata": {},
   "outputs": [
    {
     "name": "stdout",
     "output_type": "stream",
     "text": [
      "0.8288770053475936\n"
     ]
    },
    {
     "name": "stderr",
     "output_type": "stream",
     "text": [
      "/home/himedia/.conda/envs/spark/lib/python3.11/site-packages/sklearn/utils/validation.py:605: FutureWarning: is_sparse is deprecated and will be removed in a future version. Check `isinstance(dtype, pd.SparseDtype)` instead.\n",
      "  if is_sparse(pd_dtype):\n",
      "/home/himedia/.conda/envs/spark/lib/python3.11/site-packages/sklearn/utils/validation.py:614: FutureWarning: is_sparse is deprecated and will be removed in a future version. Check `isinstance(dtype, pd.SparseDtype)` instead.\n",
      "  if is_sparse(pd_dtype) or not is_extension_array_dtype(pd_dtype):\n",
      "/home/himedia/.conda/envs/spark/lib/python3.11/site-packages/sklearn/utils/validation.py:605: FutureWarning: is_sparse is deprecated and will be removed in a future version. Check `isinstance(dtype, pd.SparseDtype)` instead.\n",
      "  if is_sparse(pd_dtype):\n",
      "/home/himedia/.conda/envs/spark/lib/python3.11/site-packages/sklearn/utils/validation.py:614: FutureWarning: is_sparse is deprecated and will be removed in a future version. Check `isinstance(dtype, pd.SparseDtype)` instead.\n",
      "  if is_sparse(pd_dtype) or not is_extension_array_dtype(pd_dtype):\n",
      "/home/himedia/.conda/envs/spark/lib/python3.11/site-packages/sklearn/utils/validation.py:605: FutureWarning: is_sparse is deprecated and will be removed in a future version. Check `isinstance(dtype, pd.SparseDtype)` instead.\n",
      "  if is_sparse(pd_dtype):\n",
      "/home/himedia/.conda/envs/spark/lib/python3.11/site-packages/sklearn/utils/validation.py:614: FutureWarning: is_sparse is deprecated and will be removed in a future version. Check `isinstance(dtype, pd.SparseDtype)` instead.\n",
      "  if is_sparse(pd_dtype) or not is_extension_array_dtype(pd_dtype):\n",
      "/home/himedia/.conda/envs/spark/lib/python3.11/site-packages/sklearn/utils/validation.py:605: FutureWarning: is_sparse is deprecated and will be removed in a future version. Check `isinstance(dtype, pd.SparseDtype)` instead.\n",
      "  if is_sparse(pd_dtype):\n",
      "/home/himedia/.conda/envs/spark/lib/python3.11/site-packages/sklearn/utils/validation.py:614: FutureWarning: is_sparse is deprecated and will be removed in a future version. Check `isinstance(dtype, pd.SparseDtype)` instead.\n",
      "  if is_sparse(pd_dtype) or not is_extension_array_dtype(pd_dtype):\n",
      "/home/himedia/.conda/envs/spark/lib/python3.11/site-packages/sklearn/utils/validation.py:605: FutureWarning: is_sparse is deprecated and will be removed in a future version. Check `isinstance(dtype, pd.SparseDtype)` instead.\n",
      "  if is_sparse(pd_dtype):\n",
      "/home/himedia/.conda/envs/spark/lib/python3.11/site-packages/sklearn/utils/validation.py:614: FutureWarning: is_sparse is deprecated and will be removed in a future version. Check `isinstance(dtype, pd.SparseDtype)` instead.\n",
      "  if is_sparse(pd_dtype) or not is_extension_array_dtype(pd_dtype):\n",
      "/home/himedia/.conda/envs/spark/lib/python3.11/site-packages/sklearn/utils/validation.py:605: FutureWarning: is_sparse is deprecated and will be removed in a future version. Check `isinstance(dtype, pd.SparseDtype)` instead.\n",
      "  if is_sparse(pd_dtype):\n",
      "/home/himedia/.conda/envs/spark/lib/python3.11/site-packages/sklearn/utils/validation.py:614: FutureWarning: is_sparse is deprecated and will be removed in a future version. Check `isinstance(dtype, pd.SparseDtype)` instead.\n",
      "  if is_sparse(pd_dtype) or not is_extension_array_dtype(pd_dtype):\n"
     ]
    }
   ],
   "source": [
    "print(accuracy_score(pred['prediction'], pred['Survived']))"
   ]
  },
  {
   "cell_type": "code",
   "execution_count": 50,
   "id": "1e721e25-091d-496d-bd01-3c3ccc04dab1",
   "metadata": {},
   "outputs": [
    {
     "name": "stdout",
     "output_type": "stream",
     "text": [
      "              precision    recall  f1-score   support\n",
      "\n",
      "         0.0       0.96      0.80      0.87       137\n",
      "         1.0       0.62      0.90      0.74        50\n",
      "\n",
      "    accuracy                           0.83       187\n",
      "   macro avg       0.79      0.85      0.81       187\n",
      "weighted avg       0.87      0.83      0.84       187\n",
      "\n"
     ]
    },
    {
     "name": "stderr",
     "output_type": "stream",
     "text": [
      "/home/himedia/.conda/envs/spark/lib/python3.11/site-packages/sklearn/utils/validation.py:605: FutureWarning: is_sparse is deprecated and will be removed in a future version. Check `isinstance(dtype, pd.SparseDtype)` instead.\n",
      "  if is_sparse(pd_dtype):\n",
      "/home/himedia/.conda/envs/spark/lib/python3.11/site-packages/sklearn/utils/validation.py:614: FutureWarning: is_sparse is deprecated and will be removed in a future version. Check `isinstance(dtype, pd.SparseDtype)` instead.\n",
      "  if is_sparse(pd_dtype) or not is_extension_array_dtype(pd_dtype):\n",
      "/home/himedia/.conda/envs/spark/lib/python3.11/site-packages/sklearn/utils/validation.py:605: FutureWarning: is_sparse is deprecated and will be removed in a future version. Check `isinstance(dtype, pd.SparseDtype)` instead.\n",
      "  if is_sparse(pd_dtype):\n",
      "/home/himedia/.conda/envs/spark/lib/python3.11/site-packages/sklearn/utils/validation.py:614: FutureWarning: is_sparse is deprecated and will be removed in a future version. Check `isinstance(dtype, pd.SparseDtype)` instead.\n",
      "  if is_sparse(pd_dtype) or not is_extension_array_dtype(pd_dtype):\n",
      "/home/himedia/.conda/envs/spark/lib/python3.11/site-packages/sklearn/utils/validation.py:605: FutureWarning: is_sparse is deprecated and will be removed in a future version. Check `isinstance(dtype, pd.SparseDtype)` instead.\n",
      "  if is_sparse(pd_dtype):\n",
      "/home/himedia/.conda/envs/spark/lib/python3.11/site-packages/sklearn/utils/validation.py:614: FutureWarning: is_sparse is deprecated and will be removed in a future version. Check `isinstance(dtype, pd.SparseDtype)` instead.\n",
      "  if is_sparse(pd_dtype) or not is_extension_array_dtype(pd_dtype):\n",
      "/home/himedia/.conda/envs/spark/lib/python3.11/site-packages/sklearn/utils/validation.py:605: FutureWarning: is_sparse is deprecated and will be removed in a future version. Check `isinstance(dtype, pd.SparseDtype)` instead.\n",
      "  if is_sparse(pd_dtype):\n",
      "/home/himedia/.conda/envs/spark/lib/python3.11/site-packages/sklearn/utils/validation.py:614: FutureWarning: is_sparse is deprecated and will be removed in a future version. Check `isinstance(dtype, pd.SparseDtype)` instead.\n",
      "  if is_sparse(pd_dtype) or not is_extension_array_dtype(pd_dtype):\n",
      "/home/himedia/.conda/envs/spark/lib/python3.11/site-packages/sklearn/utils/validation.py:605: FutureWarning: is_sparse is deprecated and will be removed in a future version. Check `isinstance(dtype, pd.SparseDtype)` instead.\n",
      "  if is_sparse(pd_dtype):\n",
      "/home/himedia/.conda/envs/spark/lib/python3.11/site-packages/sklearn/utils/validation.py:614: FutureWarning: is_sparse is deprecated and will be removed in a future version. Check `isinstance(dtype, pd.SparseDtype)` instead.\n",
      "  if is_sparse(pd_dtype) or not is_extension_array_dtype(pd_dtype):\n",
      "/home/himedia/.conda/envs/spark/lib/python3.11/site-packages/sklearn/utils/validation.py:605: FutureWarning: is_sparse is deprecated and will be removed in a future version. Check `isinstance(dtype, pd.SparseDtype)` instead.\n",
      "  if is_sparse(pd_dtype):\n",
      "/home/himedia/.conda/envs/spark/lib/python3.11/site-packages/sklearn/utils/validation.py:614: FutureWarning: is_sparse is deprecated and will be removed in a future version. Check `isinstance(dtype, pd.SparseDtype)` instead.\n",
      "  if is_sparse(pd_dtype) or not is_extension_array_dtype(pd_dtype):\n"
     ]
    }
   ],
   "source": [
    "print(classification_report(pred['prediction'], pred['Survived']))"
   ]
  },
  {
   "cell_type": "code",
   "execution_count": null,
   "id": "b75e4041-0cf8-49c3-9dfe-1674f2363e4f",
   "metadata": {},
   "outputs": [],
   "source": []
  },
  {
   "cell_type": "code",
   "execution_count": null,
   "id": "82346fbb-cae3-4a99-9b4e-f7020b841325",
   "metadata": {},
   "outputs": [],
   "source": []
  }
 ],
 "metadata": {
  "kernelspec": {
   "display_name": "Python 3 (ipykernel)",
   "language": "python",
   "name": "python3"
  },
  "language_info": {
   "codemirror_mode": {
    "name": "ipython",
    "version": 3
   },
   "file_extension": ".py",
   "mimetype": "text/x-python",
   "name": "python",
   "nbconvert_exporter": "python",
   "pygments_lexer": "ipython3",
   "version": "3.11.5"
  }
 },
 "nbformat": 4,
 "nbformat_minor": 5
}
